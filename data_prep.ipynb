{
 "cells": [
  {
   "cell_type": "markdown",
   "metadata": {},
   "source": [
    "Import Libraries\n",
    "TO DO\n",
    "1) Add larger test dataset\n",
    "2) Add Speed Tests\n",
    "3) Create Real Polygons for Testing Purpose"
   ]
  },
  {
   "cell_type": "code",
   "execution_count": 1,
   "metadata": {
    "collapsed": true
   },
   "outputs": [],
   "source": [
    "import numpy as np\n",
    "from osgeo import gdal\n",
    "from scipy import stats\n",
    "from rasterstats import zonal_stats\n",
    "from shapely.geometry import Point, Polygon\n",
    "from osgeo import ogr\n",
    "from math import ceil,floor\n",
    "import matplotlib.pyplot as plt"
   ]
  },
  {
   "cell_type": "code",
   "execution_count": 2,
   "metadata": {
    "collapsed": true
   },
   "outputs": [],
   "source": [
    "## Warning You will need 65 gb to create the memory map for the CU imper sum down data type"
   ]
  },
  {
   "cell_type": "code",
   "execution_count": 3,
   "metadata": {
    "collapsed": true
   },
   "outputs": [],
   "source": [
    "Grid_Name  = \"data\\\\nlcd_2011_impervious_2011_edition_2014_10_10\\\\nlcd_2011_impervious_2011_edition_2014_10_10.img\"\n",
    "memory_map_Name = \"data\\\\nlcd_imp.mmp\"\n",
    "Shapefile_Name = \"test\\\\testPolys.shp\""
   ]
  },
  {
   "cell_type": "code",
   "execution_count": 21,
   "metadata": {
    "collapsed": false
   },
   "outputs": [],
   "source": [
    "r = gdal.Open(Grid_Name)\n",
    "r.GetGeoTransform()\n",
    "r.RasterXSize\n",
    "band = r.GetRasterBand(1)\n",
    "\n",
    "\n",
    "1 + float(band.ReadAsArray(10000,20000,1,1))\n",
    "r.GetRasterBand(1).DataType\n",
    "\n",
    "\n",
    "data = np.memmap(memory_map_Name, dtype='float32', mode='w+', shape=(r.RasterYSize,r.RasterXSize))\n",
    " \n",
    " "
   ]
  },
  {
   "cell_type": "code",
   "execution_count": 22,
   "metadata": {
    "collapsed": false
   },
   "outputs": [],
   "source": [
    "##Rewrite to do by columns\n",
    "def dtFZS(ybnd,xbnd,out,band):\n",
    "    for yw in range(0,ybnd):\n",
    "        print (yw/ybnd)\n",
    "        for xw in range(0,xbnd):\n",
    "            out[yw,xw] = out[yw-1,xw] + float(band.ReadAsArray(xw,yw,1,1))"
   ]
  },
  {
   "cell_type": "code",
   "execution_count": null,
   "metadata": {
    "collapsed": false
   },
   "outputs": [],
   "source": []
  },
  {
   "cell_type": "code",
   "execution_count": 24,
   "metadata": {
    "collapsed": true
   },
   "outputs": [],
   "source": [
    "## rmp function to turn row and column major\n",
    "## into blocks\n",
    "## \n",
    "\n",
    "def rmp(Yt,Xt,Y,X,y,x):\n",
    "    DY = (floor((Y-1)/y)) * y; dy = Y - DY;\n",
    "    DX = (floor((X-1)/x)) * x; dx = X - DX;\n",
    " \n",
    "    p1 = DX * Yt;\n",
    "    p2 = DY * x;\n",
    "    p3 = y * (dx-1) ;\n",
    "    p4 = dy   \n",
    "    pos = p1 + p2 + p3 + p4;\n",
    "    return(int(pos-1));\n"
   ]
  },
  {
   "cell_type": "code",
   "execution_count": 127,
   "metadata": {
    "collapsed": false
   },
   "outputs": [],
   "source": [
    "# Function to read the raster as arrays for the chosen block size.\n",
    "def create_sum_down(x_block_size, y_block_size,raster,mmp):\n",
    "    ds = gdal.Open(raster)\n",
    "    band = ds.GetRasterBand(1)\n",
    "    xsize = band.XSize\n",
    "    ysize = band.YSize\n",
    "    blocks = 0\n",
    "    for y in range(1, ysize, y_block_size):\n",
    "        print(y/ysize)\n",
    "        if y + y_block_size < ysize:\n",
    "            rows = y_block_size\n",
    "        else:\n",
    "            rows = ysize - y\n",
    "        for x in range(0, xsize, x_block_size):\n",
    "            if x + x_block_size < xsize:\n",
    "                cols = x_block_size\n",
    "            else:\n",
    "                cols = xsize - x\n",
    "            array = band.ReadAsArray(x, y, cols, rows)\n",
    "            ##print(cols)\n",
    "            #print(y)           \n",
    "            mmp[y:y+rows,x:x+cols] = array  ## + mmp[y-1:y+rows-1,x:x+cols]\n",
    "            for ywi in range(0,rows):\n",
    "                for xwi in range(0,cols):\n",
    "                    mmp[y+ywi,x+xwi] += mmp[y+ywi-1,x+xwi]   \n",
    "            del array\n",
    "            blocks += 1\n",
    "    band = None\n",
    "    ds = None\n"
   ]
  },
  {
   "cell_type": "code",
   "execution_count": null,
   "metadata": {
    "collapsed": false
   },
   "outputs": [
    {
     "name": "stdout",
     "output_type": "stream",
     "text": [
      "9.576342603232974e-06\n",
      "0.002461120049030874\n",
      "0.0049126637554585155\n",
      "0.007364207461886156\n",
      "0.009815751168313798\n",
      "0.012267294874741439\n",
      "0.01471883858116908\n",
      "0.017170382287596722\n"
     ]
    }
   ],
   "source": [
    "create_sum_down(256,256,Grid_Name,data)"
   ]
  },
  {
   "cell_type": "code",
   "execution_count": null,
   "metadata": {
    "collapsed": true
   },
   "outputs": [],
   "source": []
  },
  {
   "cell_type": "code",
   "execution_count": null,
   "metadata": {
    "collapsed": true
   },
   "outputs": [],
   "source": []
  },
  {
   "cell_type": "code",
   "execution_count": null,
   "metadata": {
    "collapsed": true
   },
   "outputs": [],
   "source": []
  }
 ],
 "metadata": {
  "anaconda-cloud": {},
  "celltoolbar": "Raw Cell Format",
  "kernelspec": {
   "display_name": "Python 3",
   "language": "python",
   "name": "python3"
  },
  "language_info": {
   "codemirror_mode": {
    "name": "ipython",
    "version": 3
   },
   "file_extension": ".py",
   "mimetype": "text/x-python",
   "name": "python",
   "nbconvert_exporter": "python",
   "pygments_lexer": "ipython3",
   "version": "3.6.0"
  }
 },
 "nbformat": 4,
 "nbformat_minor": 1
}
