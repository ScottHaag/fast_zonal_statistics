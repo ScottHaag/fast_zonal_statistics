{
 "cells": [
  {
   "cell_type": "markdown",
   "metadata": {},
   "source": [
    "Import Libraries\n",
    "TO DO\n",
    "1) Add larger test dataset\n",
    "2) Add Speed Tests\n",
    "3) Create Real Polygons for Testing Purpose"
   ]
  },
  {
   "cell_type": "code",
   "execution_count": 1,
   "metadata": {
    "collapsed": true
   },
   "outputs": [],
   "source": [
    "import numpy as np\n",
    "from osgeo import gdal\n",
    "from scipy import stats\n",
    "from rasterstats import zonal_stats\n",
    "from shapely.geometry import Point, Polygon\n",
    "from osgeo import ogr\n",
    "import math\n",
    "from math import floor"
   ]
  },
  {
   "cell_type": "code",
   "execution_count": 2,
   "metadata": {
    "collapsed": true
   },
   "outputs": [],
   "source": [
    "## Warning You will need 65 gb to create the memory map for the CU imper sum down data type"
   ]
  },
  {
   "cell_type": "code",
   "execution_count": 3,
   "metadata": {
    "collapsed": false
   },
   "outputs": [
    {
     "name": "stdout",
     "output_type": "stream",
     "text": [
      "[64, 64]\n"
     ]
    }
   ],
   "source": [
    "Grid_Name  = \"data\\\\nlcd_2011_impervious_2011_edition_2014_10_10\\\\nlcd_2011_impervious_2011_edition_2014_10_10.img\"\n",
    "memory_map_Name = \"data\\\\nlcd_imp.mmp\"\n",
    "memory_map_Name2 = \"data\\\\nlcd_imp_sum_down.mmp\"\n",
    "\n",
    "r = gdal.Open(Grid_Name)\n",
    "r.GetGeoTransform()\n",
    "r.RasterXSize\n",
    "band = r.GetRasterBand(1)\n",
    "print(band.GetBlockSize())\n",
    "\n",
    "##DataType = gdal.GetDataTypeName(DataType)\n",
    "##print(DataType)"
   ]
  },
  {
   "cell_type": "code",
   "execution_count": 4,
   "metadata": {
    "collapsed": false
   },
   "outputs": [],
   "source": [
    "## calculate Values of the raster\n",
    "block_size = 100;\n",
    "ysize_mmp = math.ceil(r.RasterYSize / block_size)*block_size + 0; \n",
    "xsize_mmp = math.ceil(r.RasterXSize / block_size)*block_size + 0;\n",
    "rnsze = (ysize_mmp) * (xsize_mmp);\n",
    "\n",
    "data = np.memmap(memory_map_Name, dtype='uint8', mode='r+', shape=(ysize_mmp * xsize_mmp))\n",
    "data_sum = np.memmap(memory_map_Name, dtype='float32', mode='r+', shape=(ysize_mmp * xsize_mmp)) "
   ]
  },
  {
   "cell_type": "code",
   "execution_count": 5,
   "metadata": {
    "collapsed": true
   },
   "outputs": [],
   "source": [
    "## rmp function to turn row and column major into a tiled dataset\n",
    "## This lowers the \n",
    "## into blocks\n",
    "## Yt = RasterYSize, Xt = RasterXSize\n",
    "\n",
    "def rmp(Yt,Xt,Y,X,blcksze):\n",
    "    ##Y += 1; X += 1;\n",
    "    \n",
    "    DY = (floor((Y)/blcksze)) * blcksze\n",
    " \n",
    "    dy = Y - DY\n",
    " \n",
    "    DX = (floor((X)/blcksze)) * blcksze\n",
    "\n",
    "    \n",
    "    dx = X - DX;\n",
    "\n",
    "    \n",
    "    p1 = DX * Yt;\n",
    "    p2 = DY * blcksze;\n",
    "    p3 = blcksze * dx ;\n",
    "    p4 = dy   \n",
    "    pos = p1 + p2 + p3 + p4;\n",
    "    return(int(pos));\n"
   ]
  },
  {
   "cell_type": "code",
   "execution_count": 6,
   "metadata": {
    "collapsed": false
   },
   "outputs": [],
   "source": [
    "# Function to read the raster as arrays for the chosen block size.\n",
    "def create_cp_grid(blcksze, raster, mmp, ysize_mmp, xsize_mmp):\n",
    "    ds = gdal.Open(raster)\n",
    "    band = ds.GetRasterBand(1)\n",
    "\n",
    "    blocks = 0\n",
    "    ##for y in range(0, 20000, blcksze):\n",
    "    for y in range(1, band.YSize, blcksze):\n",
    "        ##print(y/band.YSize)\n",
    "        if y + blcksze < band.YSize:\n",
    "            rows = blcksze\n",
    "        else:\n",
    "            rows = band.YSize - y\n",
    "        ##for x in range(0, 20000, blcksze):\n",
    "        for x in range(0, band.XSize, blcksze):\n",
    "            if x + blcksze < band.XSize:\n",
    "                cols = blcksze\n",
    "            else:\n",
    "                cols = band.XSize - x\n",
    "            ##array = band.ReadAsArray(x, y, cols, rows)\n",
    "            i = list([]);\n",
    "            for ywi in range(0,rows):\n",
    "                for xwi in range(0,cols):\n",
    "                      i.append(rmp(ysize_mmp,xsize_mmp,ywi+0+y,xwi+0+x,blcksze))\n",
    "            mmp[i] = band.ReadAsArray(x, y, cols, rows).flat\n",
    "            ##print(i[0])\n",
    "            del i\n",
    "            blocks += 1\n",
    "    band = None\n",
    "    ds = None\n"
   ]
  },
  {
   "cell_type": "code",
   "execution_count": 29,
   "metadata": {
    "collapsed": false
   },
   "outputs": [],
   "source": [
    "#create_cp_grid(100, Grid_Name, data, ysize_mmp, xsize_mmp)"
   ]
  },
  {
   "cell_type": "code",
   "execution_count": 23,
   "metadata": {
    "collapsed": false
   },
   "outputs": [],
   "source": [
    "def tst(y,x,blcksze):\n",
    "    print( \"orig is \" + str(band.ReadAsArray(x, y, 1, 1)[0]))\n",
    "    ##data[1]\n",
    "    print( \"new is \" + str(data[rmp(ysize_mmp,xsize_mmp,y,x,blcksze)]))\n",
    "\n"
   ]
  },
  {
   "cell_type": "code",
   "execution_count": 24,
   "metadata": {
    "collapsed": false
   },
   "outputs": [
    {
     "name": "stdout",
     "output_type": "stream",
     "text": [
      "orig is [127]\n",
      "new is 127\n",
      "orig is [127]\n",
      "new is 127\n",
      "orig is [127]\n",
      "new is 127\n",
      "orig is [59]\n",
      "new is 59\n",
      "orig is [60]\n",
      "new is 60\n"
     ]
    },
    {
     "data": {
      "text/plain": [
       "101"
      ]
     },
     "execution_count": 24,
     "metadata": {},
     "output_type": "execute_result"
    }
   ],
   "source": [
    "tst(0,0,100)\n",
    "tst(99,99,100)\n",
    "tst(100,100,100)\n",
    "tst(11290,16899,100)\n",
    "tst(11295,16899,100)\n",
    "rmp(ysize_mmp,xsize_mmp,1,1,100)\n",
    "##rmp(ysize_mmp,xsize_mmp,100,100,100)"
   ]
  },
  {
   "cell_type": "code",
   "execution_count": 20,
   "metadata": {
    "collapsed": false
   },
   "outputs": [],
   "source": [
    "def crte_sum_down(raster, mmp, mmpsm, blcksze):\n",
    "    for yw in range(1,raster.RasterYSize):\n",
    "        print(yw/raster.RasterYSize)\n",
    "        for xw in range(0,raster.RasterXSize):\n",
    "            i1 = rmp(ysize_mmp,xsize_mmp,yw,xw,blcksze)\n",
    "            i2 = rmp(ysize_mmp,xsize_mmp,yw-1,xw,blcksze)\n",
    "            mmpsm[i1] = mmpsm[i2] +  mmp[i1]"
   ]
  },
  {
   "cell_type": "code",
   "execution_count": 19,
   "metadata": {
    "collapsed": false
   },
   "outputs": [
    {
     "name": "stdout",
     "output_type": "stream",
     "text": [
      "9.576342603232974e-06\n",
      "1.9152685206465947e-05\n",
      "2.872902780969892e-05\n",
      "3.8305370412931895e-05\n",
      "4.7881713016164866e-05\n",
      "5.745805561939784e-05\n",
      "6.703439822263081e-05\n",
      "7.661074082586379e-05\n",
      "8.618708342909675e-05\n",
      "9.576342603232973e-05\n",
      "0.00010533976863556271\n",
      "0.00011491611123879568\n",
      "0.00012449245384202866\n",
      "0.00013406879644526162\n",
      "0.00014364513904849459\n",
      "0.00015322148165172758\n",
      "0.00016279782425496054\n",
      "0.0001723741668581935\n",
      "0.0001819505094614265\n",
      "0.00019152685206465947\n",
      "0.00020110319466789243\n",
      "0.00021067953727112542\n",
      "0.0002202558798743584\n",
      "0.00022983222247759135\n",
      "0.00023940856508082432\n",
      "0.0002489849076840573\n",
      "0.0002585612502872903\n",
      "0.00026813759289052324\n",
      "0.0002777139354937562\n",
      "0.00028729027809698917\n",
      "0.0002968666207002222\n",
      "0.00030644296330345516\n",
      "0.0003160193059066881\n",
      "0.0003255956485099211\n",
      "0.00033517199111315405\n",
      "0.000344748333716387\n",
      "0.00035432467631962004\n",
      "0.000363901018922853\n",
      "0.00037347736152608597\n",
      "0.00038305370412931893\n",
      "0.0003926300467325519\n",
      "0.00040220638933578486\n",
      "0.0004117827319390178\n",
      "0.00042135907454225085\n",
      "0.0004309354171454838\n"
     ]
    },
    {
     "ename": "KeyboardInterrupt",
     "evalue": "",
     "output_type": "error",
     "traceback": [
      "\u001b[0;31m---------------------------------------------------------------------------\u001b[0m",
      "\u001b[0;31mKeyboardInterrupt\u001b[0m                         Traceback (most recent call last)",
      "\u001b[0;32m<ipython-input-19-b6b9b4302936>\u001b[0m in \u001b[0;36m<module>\u001b[0;34m()\u001b[0m\n\u001b[0;32m----> 1\u001b[0;31m \u001b[0mcrte_sum_down\u001b[0m\u001b[1;33m(\u001b[0m\u001b[0mr\u001b[0m\u001b[1;33m,\u001b[0m \u001b[0mdata\u001b[0m\u001b[1;33m,\u001b[0m \u001b[0mdata_sum\u001b[0m\u001b[1;33m,\u001b[0m \u001b[1;36m100\u001b[0m\u001b[1;33m)\u001b[0m\u001b[1;33m\u001b[0m\u001b[0m\n\u001b[0m",
      "\u001b[0;32m<ipython-input-12-35785e35ff8e>\u001b[0m in \u001b[0;36mcrte_sum_down\u001b[0;34m(raster, mmp, mmpsm, blcksze)\u001b[0m\n\u001b[1;32m      5\u001b[0m             \u001b[0mi1\u001b[0m \u001b[1;33m=\u001b[0m \u001b[0mrmp\u001b[0m\u001b[1;33m(\u001b[0m\u001b[0mysize_mmp\u001b[0m\u001b[1;33m,\u001b[0m\u001b[0mxsize_mmp\u001b[0m\u001b[1;33m,\u001b[0m\u001b[0myw\u001b[0m\u001b[1;33m,\u001b[0m\u001b[0mxw\u001b[0m\u001b[1;33m,\u001b[0m\u001b[0mblcksze\u001b[0m\u001b[1;33m)\u001b[0m\u001b[1;33m\u001b[0m\u001b[0m\n\u001b[1;32m      6\u001b[0m             \u001b[0mi2\u001b[0m \u001b[1;33m=\u001b[0m \u001b[0mrmp\u001b[0m\u001b[1;33m(\u001b[0m\u001b[0mysize_mmp\u001b[0m\u001b[1;33m,\u001b[0m\u001b[0mxsize_mmp\u001b[0m\u001b[1;33m,\u001b[0m\u001b[0myw\u001b[0m\u001b[1;33m-\u001b[0m\u001b[1;36m1\u001b[0m\u001b[1;33m,\u001b[0m\u001b[0mxw\u001b[0m\u001b[1;33m,\u001b[0m\u001b[0mblcksze\u001b[0m\u001b[1;33m)\u001b[0m\u001b[1;33m\u001b[0m\u001b[0m\n\u001b[0;32m----> 7\u001b[0;31m             \u001b[0mmmpsm\u001b[0m\u001b[1;33m[\u001b[0m\u001b[0mi1\u001b[0m\u001b[1;33m]\u001b[0m \u001b[1;33m=\u001b[0m \u001b[0mmmpsm\u001b[0m\u001b[1;33m[\u001b[0m\u001b[0mi2\u001b[0m\u001b[1;33m]\u001b[0m \u001b[1;33m+\u001b[0m  \u001b[0mmmp\u001b[0m\u001b[1;33m[\u001b[0m\u001b[0mi1\u001b[0m\u001b[1;33m]\u001b[0m\u001b[1;33m\u001b[0m\u001b[0m\n\u001b[0m",
      "\u001b[0;31mKeyboardInterrupt\u001b[0m: "
     ]
    }
   ],
   "source": [
    "crte_sum_down(r, data, data_sum, 100)"
   ]
  },
  {
   "cell_type": "code",
   "execution_count": null,
   "metadata": {
    "collapsed": true
   },
   "outputs": [],
   "source": []
  }
 ],
 "metadata": {
  "anaconda-cloud": {},
  "celltoolbar": "Raw Cell Format",
  "kernelspec": {
   "display_name": "Python 3",
   "language": "python",
   "name": "python3"
  },
  "language_info": {
   "codemirror_mode": {
    "name": "ipython",
    "version": 3
   },
   "file_extension": ".py",
   "mimetype": "text/x-python",
   "name": "python",
   "nbconvert_exporter": "python",
   "pygments_lexer": "ipython3",
   "version": "3.6.0"
  }
 },
 "nbformat": 4,
 "nbformat_minor": 1
}
