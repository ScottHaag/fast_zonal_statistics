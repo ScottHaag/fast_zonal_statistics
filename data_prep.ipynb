{
 "cells": [
  {
   "cell_type": "markdown",
   "metadata": {},
   "source": [
    "Import Libraries\n",
    "TO DO\n",
    "1) Add larger test dataset\n",
    "2) Add Speed Tests\n",
    "3) Create Real Polygons for Testing Purpose"
   ]
  },
  {
   "cell_type": "code",
   "execution_count": 1,
   "metadata": {
    "collapsed": true
   },
   "outputs": [],
   "source": [
    "import numpy as np\n",
    "from osgeo import gdal\n",
    "from scipy import stats\n",
    "from rasterstats import zonal_stats\n",
    "from shapely.geometry import Point, Polygon\n",
    "from osgeo import ogr\n",
    "import math\n",
    "from math import floor\n",
    " "
   ]
  },
  {
   "cell_type": "code",
   "execution_count": 2,
   "metadata": {
    "collapsed": true
   },
   "outputs": [],
   "source": [
    "## Warning You will need 65 gb to create the memory map for the CU imper sum down data type"
   ]
  },
  {
   "cell_type": "code",
   "execution_count": 3,
   "metadata": {
    "collapsed": false
   },
   "outputs": [
    {
     "name": "stdout",
     "output_type": "stream",
     "text": [
      "[64, 64]\n",
      "Byte\n"
     ]
    }
   ],
   "source": [
    "Grid_Name  = \"data\\\\nlcd_2011_impervious_2011_edition_2014_10_10\\\\nlcd_2011_impervious_2011_edition_2014_10_10.img\"\n",
    "memory_map_Name = \"data\\\\nlcd_imp.mmp\"\n",
    "\n",
    "r = gdal.Open(Grid_Name)\n",
    "r.GetGeoTransform()\n",
    "r.RasterXSize\n",
    "band = r.GetRasterBand(1)\n",
    "print(band.GetBlockSize())\n",
    "\n",
    "DataType = band.DataType\n",
    "DataType = gdal.GetDataTypeName(DataType)\n",
    "print(DataType)\n",
    "\n"
   ]
  },
  {
   "cell_type": "code",
   "execution_count": 4,
   "metadata": {
    "collapsed": false
   },
   "outputs": [],
   "source": [
    "## calculate Values of the raster\n",
    "block_size = 100;\n",
    "ysize_mmp = math.ceil(r.RasterYSize / block_size)*block_size + 0; \n",
    "xsize_mmp = math.ceil(r.RasterXSize / block_size)*block_size + 0;\n",
    "rnsze = (ysize_mmp) * (xsize_mmp);\n",
    "\n",
    "data = np.memmap(memory_map_Name, dtype='uint8', mode='w+', shape=(ysize_mmp * xsize_mmp))\n",
    "##data = np.memmap(memory_map_Name, dtype='float32', mode='w+', shape=(ysize_mmp * xsize_mmp))\n",
    " "
   ]
  },
  {
   "cell_type": "code",
   "execution_count": 5,
   "metadata": {
    "collapsed": true
   },
   "outputs": [],
   "source": [
    "## rmp function to turn row and column major\n",
    "## into blocks\n",
    "## Yt = RasterYSize, Xt = RasterXSize\n",
    "\n",
    "def rmp(Yt,Xt,Y,X,blcksze):\n",
    "    ##Y += 1; X += 1;\n",
    "    \n",
    "    DY = (floor((Y)/blcksze)) * blcksze\n",
    " \n",
    "    dy = Y - DY\n",
    " \n",
    "    DX = (floor((X)/blcksze)) * blcksze\n",
    "\n",
    "    \n",
    "    dx = X - DX;\n",
    "\n",
    "    \n",
    "    p1 = DX * Yt;\n",
    "    p2 = DY * blcksze;\n",
    "    p3 = blcksze * dx ;\n",
    "    p4 = dy   \n",
    "    pos = p1 + p2 + p3 + p4;\n",
    "    return(int(pos));\n"
   ]
  },
  {
   "cell_type": "code",
   "execution_count": 6,
   "metadata": {
    "collapsed": false
   },
   "outputs": [
    {
     "data": {
      "text/plain": [
       "99"
      ]
     },
     "execution_count": 6,
     "metadata": {},
     "output_type": "execute_result"
    }
   ],
   "source": [
    "rmp(100,100,9,9,10)\n"
   ]
  },
  {
   "cell_type": "code",
   "execution_count": 26,
   "metadata": {
    "collapsed": false
   },
   "outputs": [],
   "source": [
    "# Function to read the raster as arrays for the chosen block size.\n",
    "def create_cp_grid(blcksze, raster, mmp, ysize_mmp, xsize_mmp):\n",
    "    ds = gdal.Open(raster)\n",
    "    band = ds.GetRasterBand(1)\n",
    "\n",
    "    blocks = 0\n",
    "    ##for y in range(0, 1000, blcksze):\n",
    "    for y in range(1, band.YSize, blcksze):\n",
    "        print(y)\n",
    "        print(y/band.YSize)\n",
    "        if y + blcksze < band.YSize:\n",
    "            rows = blcksze\n",
    "        else:\n",
    "            rows = band.YSize - y\n",
    "        ##for x in range(0, 1000, blcksze):\n",
    "        for x in range(0, band.XSize, blcksze):\n",
    "            if x + blcksze < band.XSize:\n",
    "                cols = blcksze\n",
    "            else:\n",
    "                cols = band.XSize - x\n",
    "            ##array = band.ReadAsArray(x, y, cols, rows)\n",
    "            i = list([]);\n",
    "            for ywi in range(0,rows):\n",
    "                for xwi in range(0,cols):\n",
    "                      i.append(rmp(ysize_mmp,xsize_mmp,ywi+0+y,xwi+0+x,blcksze))\n",
    "            mmp[i] = band.ReadAsArray(x, y, cols, rows).flat\n",
    "            ##print(i[0])\n",
    "            del i\n",
    "            blocks += 1\n",
    "    band = None\n",
    "    ds = None\n"
   ]
  },
  {
   "cell_type": "code",
   "execution_count": 28,
   "metadata": {
    "collapsed": false
   },
   "outputs": [
    {
     "name": "stdout",
     "output_type": "stream",
     "text": [
      "0\n",
      "0.0\n",
      "100\n",
      "0.0009576342603232973\n",
      "200\n",
      "0.0019152685206465945\n",
      "300\n",
      "0.002872902780969892\n",
      "400\n",
      "0.003830537041293189\n",
      "500\n",
      "0.004788171301616487\n",
      "600\n",
      "0.005745805561939784\n",
      "700\n",
      "0.006703439822263082\n",
      "800\n",
      "0.007661074082586378\n",
      "900\n",
      "0.008618708342909676\n"
     ]
    }
   ],
   "source": [
    "\n",
    "create_cp_grid(100, Grid_Name, data, ysize_mmp, xsize_mmp)"
   ]
  },
  {
   "cell_type": "code",
   "execution_count": 31,
   "metadata": {
    "collapsed": false
   },
   "outputs": [],
   "source": [
    "def tst(y,x):\n",
    "    print( \"orig is \" + str(band.ReadAsArray(x, y, 1, 1)[0]))\n",
    "    ##data[1]\n",
    "    print( \"new is \" + str(data[rmp(ysize_mmp,xsize_mmp,y,x,100)]))\n",
    "\n"
   ]
  },
  {
   "cell_type": "code",
   "execution_count": 34,
   "metadata": {
    "collapsed": false
   },
   "outputs": [
    {
     "name": "stdout",
     "output_type": "stream",
     "text": [
      "orig is [127]\n",
      "new is 127\n",
      "orig is [127]\n",
      "new is 127\n",
      "orig is [127]\n",
      "new is 127\n"
     ]
    },
    {
     "data": {
      "text/plain": [
       "101"
      ]
     },
     "execution_count": 34,
     "metadata": {},
     "output_type": "execute_result"
    }
   ],
   "source": [
    "tst(0,0)\n",
    "tst(99,99)\n",
    "tst(100,100)\n",
    "##tst(11290,16899)\n",
    "rmp(ysize_mmp,xsize_mmp,1,1,100)\n",
    "##rmp(ysize_mmp,xsize_mmp,100,100,100)"
   ]
  },
  {
   "cell_type": "code",
   "execution_count": 18,
   "metadata": {
    "collapsed": false
   },
   "outputs": [
    {
     "data": {
      "text/plain": [
       "127"
      ]
     },
     "execution_count": 18,
     "metadata": {},
     "output_type": "execute_result"
    }
   ],
   "source": [
    "data[rmp(ysize_mmp,xsize_mmp,10,10,100)]"
   ]
  },
  {
   "cell_type": "code",
   "execution_count": 88,
   "metadata": {
    "collapsed": false
   },
   "outputs": [
    {
     "data": {
      "text/plain": [
       "array([127], dtype=uint8)"
      ]
     },
     "execution_count": 88,
     "metadata": {},
     "output_type": "execute_result"
    }
   ],
   "source": [
    "band.ReadAsArray(r.RasterXSize-1, r.RasterYSize-1, 1, 1)[0]"
   ]
  },
  {
   "cell_type": "code",
   "execution_count": null,
   "metadata": {
    "collapsed": true
   },
   "outputs": [],
   "source": []
  }
 ],
 "metadata": {
  "anaconda-cloud": {},
  "celltoolbar": "Raw Cell Format",
  "kernelspec": {
   "display_name": "Python 3",
   "language": "python",
   "name": "python3"
  },
  "language_info": {
   "codemirror_mode": {
    "name": "ipython",
    "version": 3
   },
   "file_extension": ".py",
   "mimetype": "text/x-python",
   "name": "python",
   "nbconvert_exporter": "python",
   "pygments_lexer": "ipython3",
   "version": "3.6.0"
  }
 },
 "nbformat": 4,
 "nbformat_minor": 1
}
