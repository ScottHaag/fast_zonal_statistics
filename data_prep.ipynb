{
 "cells": [
  {
   "cell_type": "markdown",
   "metadata": {},
   "source": [
    "Import Libraries\n",
    "TO DO\n",
    "1) Add larger test dataset\n",
    "2) Add Speed Tests\n",
    "3) Create Real Polygons for Testing Purpose"
   ]
  },
  {
   "cell_type": "code",
   "execution_count": 1,
   "metadata": {
    "collapsed": true
   },
   "outputs": [],
   "source": [
    "import numpy as np\n",
    "from osgeo import gdal\n",
    "from scipy import stats\n",
    "from rasterstats import zonal_stats\n",
    "from shapely.geometry import Point, Polygon\n",
    "from osgeo import ogr\n",
    "import math\n",
    "from math import floor\n",
    " "
   ]
  },
  {
   "cell_type": "code",
   "execution_count": 2,
   "metadata": {
    "collapsed": true
   },
   "outputs": [],
   "source": [
    "## Warning You will need 65 gb to create the memory map for the CU imper sum down data type"
   ]
  },
  {
   "cell_type": "code",
   "execution_count": 3,
   "metadata": {
    "collapsed": false
   },
   "outputs": [
    {
     "name": "stdout",
     "output_type": "stream",
     "text": [
      "[64, 64]\n",
      "Byte\n"
     ]
    }
   ],
   "source": [
    "Grid_Name  = \"data\\\\nlcd_2011_impervious_2011_edition_2014_10_10\\\\nlcd_2011_impervious_2011_edition_2014_10_10.img\"\n",
    "memory_map_Name = \"data\\\\nlcd_imp.mmp\"\n",
    "\n",
    "r = gdal.Open(Grid_Name)\n",
    "r.GetGeoTransform()\n",
    "r.RasterXSize\n",
    "band = r.GetRasterBand(1)\n",
    "print(band.GetBlockSize())\n",
    "\n",
    "DataType = band.DataType\n",
    "DataType = gdal.GetDataTypeName(DataType)\n",
    "print(DataType)\n",
    "\n"
   ]
  },
  {
   "cell_type": "code",
   "execution_count": 4,
   "metadata": {
    "collapsed": false
   },
   "outputs": [],
   "source": [
    "## calculate Values of the raster\n",
    "block_size = 100;\n",
    "ysize_mmp = math.ceil(r.RasterYSize / block_size)*block_size + 0; \n",
    "xsize_mmp = math.ceil(r.RasterXSize / block_size)*block_size + 0;\n",
    "rnsze = (ysize_mmp) * (xsize_mmp);\n",
    "\n",
    "data = np.memmap(memory_map_Name, dtype='uint8', mode='w+', shape=(ysize_mmp * xsize_mmp))\n",
    "##data = np.memmap(memory_map_Name, dtype='float32', mode='w+', shape=(ysize_mmp * xsize_mmp))\n",
    " "
   ]
  },
  {
   "cell_type": "code",
   "execution_count": 5,
   "metadata": {
    "collapsed": true
   },
   "outputs": [],
   "source": [
    "## rmp function to turn row and column major\n",
    "## into blocks\n",
    "## Yt = RasterYSize, Xt = RasterXSize\n",
    "\n",
    "def rmp(Yt,Xt,Y,X,blcksze):\n",
    "    ##Y += 1; X += 1;\n",
    "    \n",
    "    DY = (floor((Y)/blcksze)) * blcksze\n",
    " \n",
    "    dy = Y - DY\n",
    " \n",
    "    DX = (floor((X)/blcksze)) * blcksze\n",
    "\n",
    "    \n",
    "    dx = X - DX;\n",
    "\n",
    "    \n",
    "    p1 = DX * Yt;\n",
    "    p2 = DY * blcksze;\n",
    "    p3 = blcksze * dx ;\n",
    "    p4 = dy   \n",
    "    pos = p1 + p2 + p3 + p4;\n",
    "    return(int(pos));\n"
   ]
  },
  {
   "cell_type": "code",
   "execution_count": 6,
   "metadata": {
    "collapsed": false
   },
   "outputs": [
    {
     "data": {
      "text/plain": [
       "99"
      ]
     },
     "execution_count": 6,
     "metadata": {},
     "output_type": "execute_result"
    }
   ],
   "source": [
    "rmp(100,100,9,9,10)\n"
   ]
  },
  {
   "cell_type": "code",
   "execution_count": 40,
   "metadata": {
    "collapsed": false
   },
   "outputs": [],
   "source": [
    "# Function to read the raster as arrays for the chosen block size.\n",
    "def create_cp_grid(blcksze, raster, mmp, ysize_mmp, xsize_mmp):\n",
    "    ds = gdal.Open(raster)\n",
    "    band = ds.GetRasterBand(1)\n",
    "\n",
    "    blocks = 0\n",
    "    for y in range(0, 20000, blcksze):\n",
    "    ##for y in range(1, band.YSize, blcksze):\n",
    "\n",
    "        print(y/band.YSize)\n",
    "        if y + blcksze < band.YSize:\n",
    "            rows = blcksze\n",
    "        else:\n",
    "            rows = band.YSize - y\n",
    "        for x in range(0, 20000, blcksze):\n",
    "        ##for x in range(0, band.XSize, blcksze):\n",
    "            if x + blcksze < band.XSize:\n",
    "                cols = blcksze\n",
    "            else:\n",
    "                cols = band.XSize - x\n",
    "            ##array = band.ReadAsArray(x, y, cols, rows)\n",
    "            i = list([]);\n",
    "            for ywi in range(0,rows):\n",
    "                for xwi in range(0,cols):\n",
    "                      i.append(rmp(ysize_mmp,xsize_mmp,ywi+0+y,xwi+0+x,blcksze))\n",
    "            mmp[i] = band.ReadAsArray(x, y, cols, rows).flat\n",
    "            ##print(i[0])\n",
    "            del i\n",
    "            blocks += 1\n",
    "    band = None\n",
    "    ds = None\n"
   ]
  },
  {
   "cell_type": "code",
   "execution_count": 41,
   "metadata": {
    "collapsed": false
   },
   "outputs": [
    {
     "name": "stdout",
     "output_type": "stream",
     "text": [
      "0.0\n",
      "0.0009576342603232973\n",
      "0.0019152685206465945\n",
      "0.002872902780969892\n",
      "0.003830537041293189\n",
      "0.004788171301616487\n",
      "0.005745805561939784\n",
      "0.006703439822263082\n",
      "0.007661074082586378\n",
      "0.008618708342909676\n",
      "0.009576342603232974\n",
      "0.01053397686355627\n",
      "0.011491611123879569\n",
      "0.012449245384202865\n",
      "0.013406879644526163\n",
      "0.01436451390484946\n",
      "0.015322148165172756\n",
      "0.016279782425496055\n",
      "0.01723741668581935\n",
      "0.018195050946142648\n",
      "0.019152685206465948\n",
      "0.020110319466789244\n",
      "0.02106795372711254\n",
      "0.022025587987435837\n",
      "0.022983222247759137\n",
      "0.023940856508082434\n",
      "0.02489849076840573\n",
      "0.025856125028729027\n",
      "0.026813759289052327\n",
      "0.027771393549375623\n",
      "0.02872902780969892\n",
      "0.029686662070022216\n",
      "0.030644296330345513\n",
      "0.03160193059066881\n",
      "0.03255956485099211\n",
      "0.033517199111315406\n",
      "0.0344748333716387\n",
      "0.035432467631962\n",
      "0.036390101892285295\n",
      "0.0373477361526086\n",
      "0.038305370412931895\n",
      "0.03926300467325519\n",
      "0.04022063893357849\n",
      "0.041178273193901785\n",
      "0.04213590745422508\n",
      "0.04309354171454838\n",
      "0.044051175974871674\n",
      "0.04500881023519497\n",
      "0.045966444495518274\n",
      "0.04692407875584157\n",
      "0.04788171301616487\n",
      "0.048839347276488164\n",
      "0.04979698153681146\n",
      "0.05075461579713476\n",
      "0.051712250057458053\n",
      "0.05266988431778135\n",
      "0.05362751857810465\n",
      "0.05458515283842795\n",
      "0.055542787098751246\n",
      "0.05650042135907454\n",
      "0.05745805561939784\n",
      "0.058415689879721136\n",
      "0.05937332414004443\n",
      "0.06033095840036773\n",
      "0.061288592660691026\n",
      "0.06224622692101433\n",
      "0.06320386118133763\n",
      "0.06416149544166092\n",
      "0.06511912970198422\n",
      "0.06607676396230752\n",
      "0.06703439822263081\n",
      "0.06799203248295412\n",
      "0.0689496667432774\n",
      "0.06990730100360071\n",
      "0.070864935263924\n",
      "0.0718225695242473\n",
      "0.07278020378457059\n",
      "0.0737378380448939\n",
      "0.0746954723052172\n",
      "0.07565310656554049\n",
      "0.07661074082586379\n",
      "0.07756837508618708\n",
      "0.07852600934651038\n",
      "0.07948364360683367\n",
      "0.08044127786715698\n",
      "0.08139891212748027\n",
      "0.08235654638780357\n",
      "0.08331418064812687\n",
      "0.08427181490845016\n",
      "0.08522944916877347\n",
      "0.08618708342909676\n",
      "0.08714471768942006\n",
      "0.08810235194974335\n",
      "0.08905998621006665\n",
      "0.09001762047038994\n",
      "0.09097525473071325\n",
      "0.09193288899103655\n",
      "0.09289052325135984\n",
      "0.09384815751168314\n",
      "0.09480579177200643\n",
      "0.09576342603232973\n",
      "0.09672106029265302\n",
      "0.09767869455297633\n",
      "0.09863632881329963\n",
      "0.09959396307362292\n",
      "0.10055159733394622\n",
      "0.10150923159426951\n",
      "0.10246686585459282\n",
      "0.10342450011491611\n",
      "0.10438213437523941\n",
      "0.1053397686355627\n",
      "0.106297402895886\n",
      "0.1072550371562093\n",
      "0.1082126714165326\n",
      "0.1091703056768559\n",
      "0.11012793993717919\n",
      "0.11108557419750249\n",
      "0.11204320845782578\n",
      "0.11300084271814909\n",
      "0.11395847697847238\n",
      "0.11491611123879568\n",
      "0.11587374549911898\n",
      "0.11683137975944227\n",
      "0.11778901401976558\n",
      "0.11874664828008887\n",
      "0.11970428254041217\n",
      "0.12066191680073546\n",
      "0.12161955106105876\n",
      "0.12257718532138205\n",
      "0.12353481958170535\n",
      "0.12449245384202866\n",
      "0.12545008810235195\n",
      "0.12640772236267525\n",
      "0.12736535662299855\n",
      "0.12832299088332183\n",
      "0.12928062514364513\n",
      "0.13023825940396844\n",
      "0.13119589366429174\n",
      "0.13215352792461504\n",
      "0.13311116218493832\n",
      "0.13406879644526162\n",
      "0.13502643070558493\n",
      "0.13598406496590823\n",
      "0.1369416992262315\n",
      "0.1378993334865548\n",
      "0.1388569677468781\n",
      "0.13981460200720142\n",
      "0.14077223626752472\n",
      "0.141729870527848\n",
      "0.1426875047881713\n",
      "0.1436451390484946\n",
      "0.1446027733088179\n",
      "0.14556040756914118\n",
      "0.14651804182946448\n",
      "0.1474756760897878\n",
      "0.1484333103501111\n",
      "0.1493909446104344\n",
      "0.15034857887075767\n",
      "0.15130621313108097\n",
      "0.15226384739140428\n",
      "0.15322148165172758\n",
      "0.15417911591205086\n",
      "0.15513675017237416\n",
      "0.15609438443269746\n",
      "0.15705201869302077\n",
      "0.15800965295334407\n",
      "0.15896728721366735\n",
      "0.15992492147399065\n",
      "0.16088255573431395\n",
      "0.16184018999463726\n",
      "0.16279782425496053\n",
      "0.16375545851528384\n",
      "0.16471309277560714\n",
      "0.16567072703593044\n",
      "0.16662836129625375\n",
      "0.16758599555657702\n",
      "0.16854362981690033\n",
      "0.16950126407722363\n",
      "0.17045889833754693\n",
      "0.1714165325978702\n",
      "0.1723741668581935\n",
      "0.17333180111851682\n",
      "0.17428943537884012\n",
      "0.17524706963916342\n",
      "0.1762047038994867\n",
      "0.17716233815981\n",
      "0.1781199724201333\n",
      "0.1790776066804566\n",
      "0.18003524094077988\n",
      "0.1809928752011032\n",
      "0.1819505094614265\n",
      "0.1829081437217498\n",
      "0.1838657779820731\n",
      "0.18482341224239637\n",
      "0.18578104650271968\n",
      "0.18673868076304298\n",
      "0.18769631502336628\n",
      "0.1886539492836896\n",
      "0.18961158354401286\n",
      "0.19056921780433617\n"
     ]
    }
   ],
   "source": [
    "\n",
    "create_cp_grid(100, Grid_Name, data, ysize_mmp, xsize_mmp)"
   ]
  },
  {
   "cell_type": "code",
   "execution_count": 42,
   "metadata": {
    "collapsed": false
   },
   "outputs": [],
   "source": [
    "def tst(y,x):\n",
    "    print( \"orig is \" + str(band.ReadAsArray(x, y, 1, 1)[0]))\n",
    "    ##data[1]\n",
    "    print( \"new is \" + str(data[rmp(ysize_mmp,xsize_mmp,y,x,100)]))\n",
    "\n"
   ]
  },
  {
   "cell_type": "code",
   "execution_count": 45,
   "metadata": {
    "collapsed": false
   },
   "outputs": [
    {
     "name": "stdout",
     "output_type": "stream",
     "text": [
      "orig is [127]\n",
      "new is 127\n",
      "orig is [127]\n",
      "new is 127\n",
      "orig is [127]\n",
      "new is 127\n",
      "orig is [59]\n",
      "new is 59\n",
      "orig is [60]\n",
      "new is 60\n"
     ]
    },
    {
     "data": {
      "text/plain": [
       "101"
      ]
     },
     "execution_count": 45,
     "metadata": {},
     "output_type": "execute_result"
    }
   ],
   "source": [
    "tst(0,0)\n",
    "tst(99,99)\n",
    "tst(100,100)\n",
    "tst(11290,16899)\n",
    "tst(11295,16899)\n",
    "rmp(ysize_mmp,xsize_mmp,1,1,100)\n",
    "##rmp(ysize_mmp,xsize_mmp,100,100,100)"
   ]
  },
  {
   "cell_type": "code",
   "execution_count": 18,
   "metadata": {
    "collapsed": false
   },
   "outputs": [
    {
     "data": {
      "text/plain": [
       "127"
      ]
     },
     "execution_count": 18,
     "metadata": {},
     "output_type": "execute_result"
    }
   ],
   "source": [
    "data[rmp(ysize_mmp,xsize_mmp,10,10,100)]"
   ]
  },
  {
   "cell_type": "code",
   "execution_count": 88,
   "metadata": {
    "collapsed": false
   },
   "outputs": [
    {
     "data": {
      "text/plain": [
       "array([127], dtype=uint8)"
      ]
     },
     "execution_count": 88,
     "metadata": {},
     "output_type": "execute_result"
    }
   ],
   "source": [
    "band.ReadAsArray(r.RasterXSize-1, r.RasterYSize-1, 1, 1)[0]"
   ]
  },
  {
   "cell_type": "code",
   "execution_count": null,
   "metadata": {
    "collapsed": true
   },
   "outputs": [],
   "source": []
  }
 ],
 "metadata": {
  "anaconda-cloud": {},
  "celltoolbar": "Raw Cell Format",
  "kernelspec": {
   "display_name": "Python 3",
   "language": "python",
   "name": "python3"
  },
  "language_info": {
   "codemirror_mode": {
    "name": "ipython",
    "version": 3
   },
   "file_extension": ".py",
   "mimetype": "text/x-python",
   "name": "python",
   "nbconvert_exporter": "python",
   "pygments_lexer": "ipython3",
   "version": "3.6.0"
  }
 },
 "nbformat": 4,
 "nbformat_minor": 1
}
