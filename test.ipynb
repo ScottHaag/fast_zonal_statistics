{
 "cells": [
  {
   "cell_type": "markdown",
   "metadata": {},
   "source": [
    "Import Libraries\n",
    "TO DO\n",
    "1) Describe Grid Location bottom left hand location and Cell Size\n",
    "2) Plot the vector using x y coordinates.\n",
    "3) Compare to Raster Stat Results, need to make sure that it only includes the cells fully inside (not on the border of the vector."
   ]
  },
  {
   "cell_type": "code",
   "execution_count": 1,
   "metadata": {
    "collapsed": true
   },
   "outputs": [],
   "source": [
    "# TO DO\n",
    "## 1) switch all cords to y,x in some places it is x,y and others y,x make it consistent with how the grid is stored (y,x)\n",
    "## 2) Fix edge case where the top row (where y index > 0) causing numpy to wrap to the bottom of Y\n",
    "## 3) Add speed tests for a larger dataset"
   ]
  },
  {
   "cell_type": "code",
   "execution_count": 2,
   "metadata": {
    "collapsed": false
   },
   "outputs": [
    {
     "name": "stdout",
     "output_type": "stream",
     "text": [
      "1.11.3\n"
     ]
    }
   ],
   "source": [
    "import numpy as np\n",
    "print (np.__version__)\n",
    "from osgeo import gdal\n",
    "from scipy import stats\n",
    "import timeit\n",
    "from rasterstats import zonal_stats\n",
    "##from shapely import shape\n",
    "from shapely.geometry import Point, Polygon, shape\n",
    "from osgeo import ogr\n",
    "from math import ceil,floor"
   ]
  },
  {
   "cell_type": "code",
   "execution_count": 3,
   "metadata": {
    "collapsed": false
   },
   "outputs": [
    {
     "name": "stdout",
     "output_type": "stream",
     "text": [
      "{\"type\": \"Feature\", \"geometry\": {\"type\": \"Polygon\", \"coordinates\": [[[1616949.414591105, 2077757.2995278474], [1666292.5508016914, 2068273.521258968], [1666292.5508016914, 2068273.521258968], [1658251.9561824177, 2038928.787050163], [1606434.7908582052, 2039409.8482666991], [1616949.414591105, 2077757.2995278474]]]}, \"properties\": {\"id\": 1}, \"id\": 0}\n"
     ]
    }
   ],
   "source": [
    "sfile = \"data\\\\test.shp\"\n",
    "shape = ogr.Open(sfile)\n",
    "layer = shape.GetLayer(0)\n",
    "\n",
    "feature = layer.GetFeature(0)\n",
    "first = feature.ExportToJson()\n",
    "print ( first ) # (GeoJSON format)\n",
    "\n",
    "\n"
   ]
  },
  {
   "cell_type": "code",
   "execution_count": 16,
   "metadata": {
    "collapsed": false
   },
   "outputs": [
    {
     "name": "stdout",
     "output_type": "stream",
     "text": [
      "<osgeo.ogr.Feature; proxy of <Swig Object of type 'OGRFeatureShadow *' at 0x0000023963AD5660> >\n"
     ]
    }
   ],
   "source": [
    "print(feature)"
   ]
  },
  {
   "cell_type": "code",
   "execution_count": null,
   "metadata": {
    "collapsed": true
   },
   "outputs": [],
   "source": []
  }
 ],
 "metadata": {
  "anaconda-cloud": {},
  "celltoolbar": "Raw Cell Format",
  "kernelspec": {
   "display_name": "Python 3",
   "language": "python",
   "name": "python3"
  },
  "language_info": {
   "codemirror_mode": {
    "name": "ipython",
    "version": 3
   },
   "file_extension": ".py",
   "mimetype": "text/x-python",
   "name": "python",
   "nbconvert_exporter": "python",
   "pygments_lexer": "ipython3",
   "version": "3.6.0"
  }
 },
 "nbformat": 4,
 "nbformat_minor": 1
}
