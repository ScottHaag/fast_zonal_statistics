{
 "cells": [
  {
   "cell_type": "markdown",
   "metadata": {},
   "source": [
    "Import Libraries\n",
    "TO DO\n",
    "1) Add larger test dataset\n",
    "2) Add Speed Tests\n",
    "3) Create Real Polygons for Testing Purpose"
   ]
  },
  {
   "cell_type": "code",
   "execution_count": 1,
   "metadata": {},
   "outputs": [],
   "source": [
    "## good desc on how to load packages in jupyter https://jakevdp.github.io/blog/2017/12/05/installing-python-packages-from-jupyter/\n",
    "## to install rasterstats on hydroshare jupyter notebook use \n",
    "## pip install rasterstats"
   ]
  },
  {
   "cell_type": "code",
   "execution_count": 2,
   "metadata": {},
   "outputs": [],
   "source": [
    "import numpy as np\n",
    "import gdal\n",
    "from scipy import stats\n",
    "from rasterstats import zonal_stats\n",
    "from shapely.geometry import Point, Polygon\n",
    "import fiona\n",
    "from math import ceil,floor\n",
    "import matplotlib.pyplot as plt\n",
    "import datetime\n",
    "from IPython.display import HTML, display"
   ]
  },
  {
   "cell_type": "raw",
   "metadata": {},
   "source": [
    "Test data Thumbnail"
   ]
  },
  {
   "cell_type": "markdown",
   "metadata": {},
   "source": [
    "<img src=\"data/thumb.png\" alt=\"Drawing\" style=\"width: 300px;\"/>"
   ]
  },
  {
   "cell_type": "code",
   "execution_count": 6,
   "metadata": {},
   "outputs": [],
   "source": [
    "## need to download 'http://www.landfire.gov/bulk/downloadfile.php?TYPE=nlcd2011&FNAME=nlcd_2011_impervious_2011_edition_2014_10_10.zip' and extract to /data\n",
    "Grid_Name = \"data\\data_cbw\\nlcd_2011_impervious_2011_edition_2014_10_cbw.img\"\n",
    "Shapefile_Name = \"test\\\\testPolyCBWall.shp\""
   ]
  },
  {
   "cell_type": "code",
   "execution_count": 7,
   "metadata": {},
   "outputs": [],
   "source": [
    "## for Linux use this inttead\n",
    "##Grid_Name = \"data/nlcd_2011_impervious_2011_edition_2014_10_cbw.img\"\n",
    "##Shapefile_Name = \"test/testPolyCBWall.shp\""
   ]
  },
  {
   "cell_type": "code",
   "execution_count": 8,
   "metadata": {},
   "outputs": [
    {
     "ename": "AttributeError",
     "evalue": "'NoneType' object has no attribute 'GetGeoTransform'",
     "output_type": "error",
     "traceback": [
      "\u001b[1;31m---------------------------------------------------------------------------\u001b[0m",
      "\u001b[1;31mAttributeError\u001b[0m                            Traceback (most recent call last)",
      "\u001b[1;32m<ipython-input-8-9f1e1190cb43>\u001b[0m in \u001b[0;36m<module>\u001b[1;34m()\u001b[0m\n\u001b[0;32m      1\u001b[0m \u001b[0mr\u001b[0m \u001b[1;33m=\u001b[0m \u001b[0mgdal\u001b[0m\u001b[1;33m.\u001b[0m\u001b[0mOpen\u001b[0m\u001b[1;33m(\u001b[0m\u001b[0mGrid_Name\u001b[0m\u001b[1;33m)\u001b[0m\u001b[1;33m\u001b[0m\u001b[0m\n\u001b[1;32m----> 2\u001b[1;33m \u001b[0mr\u001b[0m\u001b[1;33m.\u001b[0m\u001b[0mGetGeoTransform\u001b[0m\u001b[1;33m(\u001b[0m\u001b[1;33m)\u001b[0m\u001b[1;33m\u001b[0m\u001b[0m\n\u001b[0m",
      "\u001b[1;31mAttributeError\u001b[0m: 'NoneType' object has no attribute 'GetGeoTransform'"
     ]
    }
   ],
   "source": [
    "r = gdal.Open(Grid_Name)\n",
    "r.GetGeoTransform()"
   ]
  },
  {
   "cell_type": "code",
   "execution_count": 1,
   "metadata": {},
   "outputs": [],
   "source": [
    "class dtFZS:\n",
    "    def __init__(self, img):\n",
    "\n",
    "        self.r = gdal.Open(Grid_Name)\n",
    "        self.g = np.array(self.r.GetRasterBand(1).ReadAsArray())\n",
    "        \n",
    "        self.clSze = self.r.GetGeoTransform()[1]\n",
    "        self.ulX = self.r.GetGeoTransform()[0]\n",
    "        self.ulY = self.r.GetGeoTransform()[3]\n",
    "        \n",
    "        self.brX = (self.g.shape[0] * self.clSze) + self.ulX\n",
    "        self.brY = self.ulY - (self.g.shape[0] * self.clSze)   \n",
    "        \n",
    "        self.geo = self.r.GetGeoTransform()\n",
    "        \n",
    "        def dtFZS(g,out):\n",
    "            for xw in range(0,self.g.shape[1]):\n",
    "                ##print(xw/g.shape[1])\n",
    "                for yw in range(0,self.g.shape[0]):\n",
    "                    out[yw,xw] = out[yw-1,xw] + self.g[yw,xw]\n",
    "\n",
    "                    \n",
    "        self.data = np.zeros(self.g.shape,dtype='uint64')\n",
    "        \n",
    "        dtFZS(self.g,self.data)"
   ]
  },
  {
   "cell_type": "code",
   "execution_count": 2,
   "metadata": {
    "scrolled": true
   },
   "outputs": [
    {
     "ename": "NameError",
     "evalue": "name 'datetime' is not defined",
     "output_type": "error",
     "traceback": [
      "\u001b[1;31m---------------------------------------------------------------------------\u001b[0m",
      "\u001b[1;31mNameError\u001b[0m                                 Traceback (most recent call last)",
      "\u001b[1;32m<ipython-input-2-eb45f3199ebf>\u001b[0m in \u001b[0;36m<module>\u001b[1;34m()\u001b[0m\n\u001b[0;32m      1\u001b[0m \u001b[1;31m## Create Class for this grid\u001b[0m\u001b[1;33m\u001b[0m\u001b[1;33m\u001b[0m\u001b[0m\n\u001b[0;32m      2\u001b[0m \u001b[1;31m## Takes 16 minutes on Scott's machine\u001b[0m\u001b[1;33m\u001b[0m\u001b[1;33m\u001b[0m\u001b[0m\n\u001b[1;32m----> 3\u001b[1;33m \u001b[1;32mprint\u001b[0m\u001b[1;33m(\u001b[0m\u001b[0mdatetime\u001b[0m\u001b[1;33m.\u001b[0m\u001b[0mdatetime\u001b[0m\u001b[1;33m.\u001b[0m\u001b[0mnow\u001b[0m\u001b[1;33m(\u001b[0m\u001b[1;33m)\u001b[0m\u001b[1;33m)\u001b[0m\u001b[1;33m\u001b[0m\u001b[0m\n\u001b[0m\u001b[0;32m      4\u001b[0m \u001b[0mdFZS\u001b[0m \u001b[1;33m=\u001b[0m \u001b[0mdtFZS\u001b[0m\u001b[1;33m(\u001b[0m\u001b[0mGrid_Name\u001b[0m\u001b[1;33m)\u001b[0m\u001b[1;33m\u001b[0m\u001b[0m\n\u001b[0;32m      5\u001b[0m \u001b[1;32mprint\u001b[0m\u001b[1;33m(\u001b[0m\u001b[0mdatetime\u001b[0m\u001b[1;33m.\u001b[0m\u001b[0mdatetime\u001b[0m\u001b[1;33m.\u001b[0m\u001b[0mnow\u001b[0m\u001b[1;33m(\u001b[0m\u001b[1;33m)\u001b[0m\u001b[1;33m)\u001b[0m\u001b[1;33m\u001b[0m\u001b[0m\n",
      "\u001b[1;31mNameError\u001b[0m: name 'datetime' is not defined"
     ]
    }
   ],
   "source": [
    "## Create Class for this grid\n",
    "## Takes 16 minutes on Scott's machine\n",
    "print(datetime.datetime.now())\n",
    "dFZS = dtFZS(Grid_Name)\n",
    "print(datetime.datetime.now())"
   ]
  },
  {
   "cell_type": "markdown",
   "metadata": {},
   "source": [
    "Create Helper Functions to move between world and grid cordinates"
   ]
  },
  {
   "cell_type": "code",
   "execution_count": 6,
   "metadata": {
    "collapsed": true
   },
   "outputs": [],
   "source": [
    "## Input (world cords; x1, x2, Grid Upper Left, and Cellsize)\n",
    "## Returns (grid cords; list(x))\n",
    "## x1 and x2 represent vertexes on a polygon in order\n",
    "\n",
    "def x_world_to_grid(wx1,wx2,dtFZS):\n",
    "    \n",
    "    x1a = min(wx1,wx2)\n",
    "    x2a = max(wx1,wx2)\n",
    "    \n",
    "    xstart = ceil  ((x1a - dtFZS.ulX - (dtFZS.clSze/2)) / dtFZS.clSze)\n",
    "    xstop =  floor ((x2a - dtFZS.ulX - (dtFZS.clSze/2)) / dtFZS.clSze)\n",
    "\n",
    "    return(list(range(xstart,xstop+1)))"
   ]
  },
  {
   "cell_type": "code",
   "execution_count": 6,
   "metadata": {
    "collapsed": true
   },
   "outputs": [],
   "source": [
    "## Input (grid cords; list(x))\n",
    "## Returns(world cords centroid ;(list(X)))\n",
    "\n",
    "def x_grid_to_world(gx,dtFZS):\n",
    "    return [i * dtFZS.clSze + dtFZS.ulX + (dtFZS.clSze/2) for i in gx]"
   ]
  },
  {
   "cell_type": "code",
   "execution_count": 7,
   "metadata": {
    "collapsed": true
   },
   "outputs": [],
   "source": [
    "## Input(world cords centroid ;(list(X)))\n",
    "## Returns(world cords centroid ;(list(y)))\n",
    "\n",
    "def y_world_pred(wx1,wx2,wy1,wy2,wxpred):\n",
    "    slope = 0;\n",
    "    if (wx1 > wx2):\n",
    "        wx1,wx2,wy1,wy2 = wx2,wx1,wy2,wy1\n",
    "    if(wx1 != wx2):    \n",
    "        slope = (wy2-wy1)/(wx2-wx1)\n",
    "\n",
    "    return [(slope * (i-wx1)) + wy1 for i in wxpred]"
   ]
  },
  {
   "cell_type": "code",
   "execution_count": 8,
   "metadata": {
    "collapsed": true
   },
   "outputs": [],
   "source": [
    "## Input(world cords centroid ;(list(y)))\n",
    "## Returns (grid cords; list(y))\n",
    "\n",
    "def y_world_to_grid(wypred,dtFZS):\n",
    "        return [floor((dtFZS.ulY - i - (dtFZS.clSze/2)) / dtFZS.clSze ) for i in wypred] "
   ]
  },
  {
   "cell_type": "code",
   "execution_count": 9,
   "metadata": {
    "collapsed": true
   },
   "outputs": [],
   "source": [
    "## Input(world Cords for 2 vertexes on a polygon, TL corner of grid, and cellsize)\n",
    "## Returns(y,x grid cords)\n",
    "\n",
    "def xy_grid(wx1,wx2,wy1,wy2,dtFZS):\n",
    "    xgrid  = x_world_to_grid(wx1,wx2,dtFZS)\n",
    "    wxpred = x_grid_to_world(xgrid,dtFZS)  \n",
    "    wypred = y_world_pred(wx1,wx2,wy1,wy2,wxpred)\n",
    "    ygrid  = y_world_to_grid(wypred,dtFZS)\n",
    "    \n",
    "    ## Remove negative arrays above\n",
    "    idx = np.array([True if i >= 0 else False for i in ygrid],dtype=bool)\n",
    "    \n",
    "    xgrid = np.array(xgrid)[idx]\n",
    "    ygrid = np.array(ygrid)[idx]\n",
    "    \n",
    "    cords = ((ygrid,xgrid))\n",
    "    return cords"
   ]
  },
  {
   "cell_type": "code",
   "execution_count": 10,
   "metadata": {
    "collapsed": true
   },
   "outputs": [],
   "source": [
    "## Input(list of cords in world, summed down grid, real-world grid tl, cllSze)\n",
    "## Output Sum v in polygon\n",
    "\n",
    "def FstZS(feat,DS_FstZS):\n",
    "    v = feat['geometry']['coordinates'][0]  #have not tested\n",
    "    total = 0;    \n",
    "    for p in range(1,(len(v)+0)):\n",
    "        if v[p][0] > v[p-1][0]:\n",
    "            cords = xy_grid(v[p][0],v[p-1][0],v[p][1],v[p-1][1],DS_FstZS)\n",
    "            if len(cords[0]) > 0:\n",
    "                total -= np.sum(DS_FstZS.data[cords])\n",
    "        elif v[p][0] < v[p-1][0]: \n",
    "            cords = xy_grid(v[p][0],v[p-1][0],v[p][1],v[p-1][1],DS_FstZS)\n",
    "            if len(cords[0]) > 0:\n",
    "                total += np.sum(DS_FstZS.data[cords])\n",
    "    return int(total)"
   ]
  },
  {
   "cell_type": "code",
   "execution_count": 40,
   "metadata": {
    "collapsed": true
   },
   "outputs": [],
   "source": [
    "## Input(fiona geometry)\n",
    "## Returns a tuple with the FstZS and rasterstats output\n",
    "\n",
    "def test(feat):\n",
    "    \n",
    "    start = datetime.datetime.now()\n",
    "    FstZSout = FstZS(feat, dFZS)\n",
    "    middle = datetime.datetime.now()\n",
    "    Rastsout = zonal_stats(feat, Grid_Name,stats= \"sum\", nodata=None)\n",
    "    end = datetime.datetime.now()\n",
    "    \n",
    "    return (float(FstZSout) , float(Rastsout[0]['sum']),(middle-start).total_seconds(),(end-middle).total_seconds(),feat['properties']['area_km']/1000 )"
   ]
  },
  {
   "cell_type": "code",
   "execution_count": 41,
   "metadata": {},
   "outputs": [
    {
     "name": "stderr",
     "output_type": "stream",
     "text": [
      "C:\\Users\\smh362\\AppData\\Local\\Continuum\\Anaconda3\\lib\\site-packages\\rasterstats\\main.py:145: FutureWarning: The value of this property will change in version 1.0. Please see https://github.com/mapbox/rasterio/issues/86 for details.\n",
      "  with Raster(raster, affine, nodata, band) as rast:\n",
      "C:\\Users\\smh362\\AppData\\Local\\Continuum\\Anaconda3\\lib\\site-packages\\rasterstats\\io.py:242: FutureWarning: GDAL-style transforms are deprecated and will not be supported in Rasterio 1.0.\n",
      "  self.affine = guard_transform(self.src.transform)\n"
     ]
    },
    {
     "name": "stdout",
     "output_type": "stream",
     "text": [
      "completed hucLevel: 2 results: (464936066.0, 464936066.0, 4.941739, 52.348104, 178.019721)\n",
      "completed hucLevel: 4 results: (75097455.0, 75097455.0, 1.190113, 4.702196, 15.207301)\n",
      "completed hucLevel: 4 results: (138308609.0, 138308609.0, 2.103578, 11.151497, 38.018177)\n",
      "completed hucLevel: 4 results: (137562599.0, 137562599.0, 3.206189, 17.635027, 71.22379)\n",
      "completed hucLevel: 4 results: (113967403.0, 113967403.0, 2.563305, 14.003194, 53.570454)\n",
      "completed hucLevel: 6 results: (75097455.0, 75097455.0, 0.976141, 4.66204, 15.207301)\n",
      "completed hucLevel: 6 results: (15682206.0, 15682206.0, 1.26205, 4.963084, 18.074811)\n",
      "completed hucLevel: 6 results: (43807532.0, 43807532.0, 2.617171, 9.805179, 29.283937)\n",
      "completed hucLevel: 6 results: (75733292.0, 75733292.0, 1.904359, 7.425318, 26.789527)\n",
      "completed hucLevel: 8 results: (30722824.0, 30722824.0, 0.969109, 2.496371, 6.439274999999999)\n",
      "completed hucLevel: 8 results: (2307558.0, 2307558.0, 0.624331, 2.029195, 3.585221)\n",
      "completed hucLevel: 8 results: (7606454.0, 7606454.0, 0.61037, 2.251935, 5.240268)\n",
      "completed hucLevel: 8 results: (3527751.0, 3527751.0, 0.381016, 1.642242, 2.142433)\n",
      "completed hucLevel: 10 results: (463238.0, 463238.0, 0.172537, 1.295122, 0.6378039999999999)\n",
      "completed hucLevel: 10 results: (355028.0, 355028.0, 0.241354, 1.277677, 0.826843)\n",
      "completed hucLevel: 10 results: (6180231.0, 6180231.0, 0.184506, 1.289045, 0.891386)\n",
      "completed hucLevel: 10 results: (457054.0, 457054.0, 0.100727, 1.196797, 0.6289260000000001)\n",
      "completed hucLevel: 12 results: (57067.0, 57067.0, 0.057841, 1.136186, 0.114305)\n",
      "completed hucLevel: 12 results: (86581.0, 86581.0, 0.077826, 1.176972, 0.123021)\n",
      "completed hucLevel: 12 results: (38039.0, 38039.0, 0.085732, 1.12037, 0.112086)\n",
      "completed hucLevel: 12 results: (163525.0, 163525.0, 0.0748, 1.170281, 0.115326)\n"
     ]
    }
   ],
   "source": [
    "## Loops over input shapefile polygons and runs the test function on each\n",
    "\n",
    "maxHucLevel = 2\n",
    "\n",
    "tst = list()\n",
    "\n",
    "for feat in fiona.open(Shapefile_Name):\n",
    "    if feat['properties']['hucLevel'] >= maxHucLevel:\n",
    "        result = test(feat)\n",
    "        tst.append(result)\n",
    "        print('completed hucLevel:',feat['properties']['hucLevel'],'results:',result)\n",
    "        "
   ]
  },
  {
   "cell_type": "code",
   "execution_count": 43,
   "metadata": {},
   "outputs": [
    {
     "name": "stdout",
     "output_type": "stream",
     "text": [
      "[(464936066.0, 464936066.0, 4.941739, 52.348104, 178.019721), (75097455.0, 75097455.0, 1.190113, 4.702196, 15.207301), (138308609.0, 138308609.0, 2.103578, 11.151497, 38.018177), (137562599.0, 137562599.0, 3.206189, 17.635027, 71.22379), (113967403.0, 113967403.0, 2.563305, 14.003194, 53.570454), (75097455.0, 75097455.0, 0.976141, 4.66204, 15.207301), (15682206.0, 15682206.0, 1.26205, 4.963084, 18.074811), (43807532.0, 43807532.0, 2.617171, 9.805179, 29.283937), (75733292.0, 75733292.0, 1.904359, 7.425318, 26.789527), (30722824.0, 30722824.0, 0.969109, 2.496371, 6.439274999999999), (2307558.0, 2307558.0, 0.624331, 2.029195, 3.585221), (7606454.0, 7606454.0, 0.61037, 2.251935, 5.240268), (3527751.0, 3527751.0, 0.381016, 1.642242, 2.142433), (463238.0, 463238.0, 0.172537, 1.295122, 0.6378039999999999), (355028.0, 355028.0, 0.241354, 1.277677, 0.826843), (6180231.0, 6180231.0, 0.184506, 1.289045, 0.891386), (457054.0, 457054.0, 0.100727, 1.196797, 0.6289260000000001), (57067.0, 57067.0, 0.057841, 1.136186, 0.114305), (86581.0, 86581.0, 0.077826, 1.176972, 0.123021), (38039.0, 38039.0, 0.085732, 1.12037, 0.112086), (163525.0, 163525.0, 0.0748, 1.170281, 0.115326)]\n"
     ]
    },
    {
     "data": {
      "image/png": "[encoded data removed]",
      "text/plain": [
       "<matplotlib.figure.Figure at 0x28d807f9be0>"
      ]
     },
     "metadata": {},
     "output_type": "display_data"
    }
   ],
   "source": [
    "print(tst)\n",
    "plt.scatter(y=[t[1] for t in tst],x= [t[0] for t in tst])\n",
    "plt.xlabel(\"Fast Zonal Method\")\n",
    "plt.ylabel(\"Raster Stats\")              \n",
    "plt.show()   "
   ]
  },
  {
   "cell_type": "code",
   "execution_count": 47,
   "metadata": {},
   "outputs": [
    {
     "name": "stdout",
     "output_type": "stream",
     "text": [
      "[(464936066.0, 464936066.0, 4.941739, 52.348104, 178.019721), (75097455.0, 75097455.0, 1.190113, 4.702196, 15.207301), (138308609.0, 138308609.0, 2.103578, 11.151497, 38.018177), (137562599.0, 137562599.0, 3.206189, 17.635027, 71.22379), (113967403.0, 113967403.0, 2.563305, 14.003194, 53.570454), (75097455.0, 75097455.0, 0.976141, 4.66204, 15.207301), (15682206.0, 15682206.0, 1.26205, 4.963084, 18.074811), (43807532.0, 43807532.0, 2.617171, 9.805179, 29.283937), (75733292.0, 75733292.0, 1.904359, 7.425318, 26.789527), (30722824.0, 30722824.0, 0.969109, 2.496371, 6.439274999999999), (2307558.0, 2307558.0, 0.624331, 2.029195, 3.585221), (7606454.0, 7606454.0, 0.61037, 2.251935, 5.240268), (3527751.0, 3527751.0, 0.381016, 1.642242, 2.142433), (463238.0, 463238.0, 0.172537, 1.295122, 0.6378039999999999), (355028.0, 355028.0, 0.241354, 1.277677, 0.826843), (6180231.0, 6180231.0, 0.184506, 1.289045, 0.891386), (457054.0, 457054.0, 0.100727, 1.196797, 0.6289260000000001), (57067.0, 57067.0, 0.057841, 1.136186, 0.114305), (86581.0, 86581.0, 0.077826, 1.176972, 0.123021), (38039.0, 38039.0, 0.085732, 1.12037, 0.112086), (163525.0, 163525.0, 0.0748, 1.170281, 0.115326)]\n"
     ]
    },
    {
     "data": {
      "image/png": "[encoded data removed]",
      "text/plain": [
       "<matplotlib.figure.Figure at 0x28d806efbe0>"
      ]
     },
     "metadata": {},
     "output_type": "display_data"
    }
   ],
   "source": [
    "print(tst)\n",
    "##plt.scatter(y=[t[3].total_seconds() for t in tst],x= [t[2].total_seconds() for t in tst])\n",
    "fig = plt.figure()\n",
    "ax = plt.axes()\n",
    "\n",
    "plt.xlabel(\"Watershed Area (1,000s of kms)\")\n",
    "plt.ylabel(\"Time (seconds)\")\n",
    "\n",
    "x1 = [t[4] for t in tst]\n",
    "y1 = [t[2] for t in tst]\n",
    "y2 = [t[3] for t in tst]\n",
    "\n",
    "\n",
    "\n",
    "##slope_fst, intercept_fst, r_value_fst, p_value_fst, std_err_fst = stats.linregress(x1,y1)\n",
    "##line_fst = [x*slope_fst+intercept_fst for x in x1]\n",
    "\n",
    "##slope_rst, intercept_rst, r_value_rst, p_value_rst, std_err_rst = stats.linregress(x1,y2)\n",
    "##line_rst = [x*slope_rst+intercept_rst for x in x1]\n",
    "\n",
    "##plt.plot(x1, line_fst,color= (0.5, 0.5, 0.5),label='y={:.2f}x+{:.2f}'.format(slope_fst,intercept_fst) )\n",
    "##plt.plot(x1, line_rst,color= (0.5, 0.5, 0.5),label='y={:.2f}x+{:.2f}'.format(slope_rst,intercept_rst) )\n",
    "\n",
    "\n",
    "plt.plot(x1,y1,'o',label='Fast Zonal Statistics',color= (0.5, 0.5, 0.5))\n",
    "plt.plot(x1,y2,'kd',label='RasterStats')\n",
    "\n",
    "##plt.axis('equal')\n",
    "##plt.xlim(0, 20)\n",
    "##plt.ylim(0, 20)\n",
    "\n",
    "ax.legend()\n",
    "plt.show() "
   ]
  },
  {
   "cell_type": "code",
   "execution_count": null,
   "metadata": {
    "collapsed": true
   },
   "outputs": [],
   "source": []
  },
  {
   "cell_type": "code",
   "execution_count": 54,
   "metadata": {},
   "outputs": [
    {
     "data": {
      "text/html": [
       "<table><tr><td>75097455.0</td><td>75097455.0</td><td>1.190113</td><td>4.702196</td><td>15.207301</td></tr><tr><td>138308609.0</td><td>138308609.0</td><td>2.103578</td><td>11.151497</td><td>38.018177</td></tr><tr><td>137562599.0</td><td>137562599.0</td><td>3.206189</td><td>17.635027</td><td>71.22379</td></tr></table>"
      ],
      "text/plain": [
       "<IPython.core.display.HTML object>"
      ]
     },
     "metadata": {},
     "output_type": "display_data"
    }
   ],
   "source": [
    "## Table showingthe Results\n",
    "#tst[1:4]\n",
    "\n",
    "display(HTML(\n",
    "    '<table><tr>{}</tr></table>'.format(\n",
    "        '</tr><tr>'.join(\n",
    "            '<td>{}</td>'.format('</td><td>'.join(str(_) for _ in row)) for row in tst[:][1:4])\n",
    "        )\n",
    " ))"
   ]
  },
  {
   "cell_type": "code",
   "execution_count": 23,
   "metadata": {},
   "outputs": [
    {
     "data": {
      "image/png": "[encoded data removed]",
      "text/plain": [
       "<matplotlib.figure.Figure at 0x28deba1ac88>"
      ]
     },
     "metadata": {},
     "output_type": "display_data"
    }
   ],
   "source": [
    "x1 = [t[4]/1000 for t in tst]\n",
    "# the histogram of the data\n",
    "\n",
    "n, bins, patches = plt.hist(x1, 10 )\n",
    "\n",
    "##plt.xlabel('Smarts')\n",
    "##plt.ylabel('Probability')\n",
    "##plt.title('Histogram of IQ')\n",
    "##plt.text(60, .025, r'$\\mu=100,\\ \\sigma=15$')\n",
    "##plt.axis([40, 160, 0, 0.03])\n",
    "##plt.grid(True)\n",
    "plt.show()"
   ]
  },
  {
   "cell_type": "code",
   "execution_count": null,
   "metadata": {
    "collapsed": true
   },
   "outputs": [],
   "source": []
  }
 ],
 "metadata": {
  "anaconda-cloud": {},
  "celltoolbar": "Raw Cell Format",
  "kernelspec": {
   "display_name": "Python 2",
   "language": "python",
   "name": "python2"
  },
  "language_info": {
   "codemirror_mode": {
    "name": "ipython",
    "version": 2
   },
   "file_extension": ".py",
   "mimetype": "text/x-python",
   "name": "python",
   "nbconvert_exporter": "python",
   "pygments_lexer": "ipython2",
   "version": "2.7.15"
  }
 },
 "nbformat": 4,
 "nbformat_minor": 1
}
