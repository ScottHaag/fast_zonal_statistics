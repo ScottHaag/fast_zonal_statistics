{
 "cells": [
  {
   "cell_type": "markdown",
   "metadata": {},
   "source": [
    "Import Libraries\n",
    "TO DO\n",
    "1) Describe Grid Location bottom left hand location and Cell Size\n",
    "2) Plot the vector using x y coordinates.\n",
    "3) Compare to Raster Stat Results, need to make sure that it only includes the cells fully inside (not on the border of the vector."
   ]
  },
  {
   "cell_type": "code",
   "execution_count": 18,
   "metadata": {
    "collapsed": false
   },
   "outputs": [
    {
     "name": "stdout",
     "output_type": "stream",
     "text": [
      "1.11.3\n"
     ]
    }
   ],
   "source": [
    "import numpy as np\n",
    "print (np.__version__)\n",
    "from osgeo import gdal\n",
    "from scipy import stats\n",
    "import timeit\n",
    "from rasterstats import zonal_stats\n",
    "from shapely.geometry import Point, Polygon\n",
    "from osgeo import ogr\n",
    "from math import ceil,floor"
   ]
  },
  {
   "cell_type": "raw",
   "metadata": {},
   "source": [
    "Test data Thumbnail"
   ]
  },
  {
   "cell_type": "markdown",
   "metadata": {},
   "source": [
    "<img src=\"data/thumb.png\" alt=\"Drawing\" style=\"width: 300px;\"/>"
   ]
  },
  {
   "cell_type": "markdown",
   "metadata": {},
   "source": [
    "Load test data"
   ]
  },
  {
   "cell_type": "code",
   "execution_count": 90,
   "metadata": {
    "collapsed": false
   },
   "outputs": [
    {
     "name": "stdout",
     "output_type": "stream",
     "text": [
      "(1599633.055684202, 30.0, 0.0, 2083307.9820680085, 0.0, -30.0)\n"
     ]
    }
   ],
   "source": [
    "r = gdal.Open(\"data\\\\nlcd_2001_landcover_2011_edition_2014_10_sub.tif\")\n",
    "shape = \"data\\\\test.shp\"\n",
    "g = np.array(r.GetRasterBand(1).ReadAsArray())\n",
    "csze = r.GetGeoTransform()[1]\n",
    "ulX = r.GetGeoTransform(0)\n",
    "ulY = r.GetGeoTransform(3)\n",
    "print (uly)"
   ]
  },
  {
   "cell_type": "code",
   "execution_count": 5,
   "metadata": {
    "collapsed": false
   },
   "outputs": [],
   "source": [
    "## I checked the top left cell in q gis and it is value = 95 bottom left = 41. I want g[0,0] = 41 so that the bottom left is 0,0\n",
    "##print(g[0,0])\n",
    "##g = np.flipud(g)\n",
    "##print(g[0,0])"
   ]
  },
  {
   "cell_type": "code",
   "execution_count": 6,
   "metadata": {
    "collapsed": false
   },
   "outputs": [
    {
     "name": "stdout",
     "output_type": "stream",
     "text": [
      "(1734, 2501)\n",
      "(1734, 2501)\n"
     ]
    }
   ],
   "source": [
    "##stats.describe(g) \n",
    "print( (r.RasterYSize,r.RasterXSize))\n",
    "print( g.shape )\n",
    "##out.shape"
   ]
  },
  {
   "cell_type": "markdown",
   "metadata": {
    "collapsed": true
   },
   "source": [
    "Function to create data structure function takes in a grid with mxn and returns a grid of the same size summed by columns.  A vectorized version would be faster"
   ]
  },
  {
   "cell_type": "code",
   "execution_count": 7,
   "metadata": {
    "collapsed": false
   },
   "outputs": [],
   "source": [
    "def dtFZS(g,out):\n",
    "    for xw in range(0,g.shape[1]):\n",
    "        for yw in range(1,g.shape[0]):\n",
    "            out[yw,xw] = out[yw-1,xw] + g[yw,xw]\n",
    "    print(\"done\")"
   ]
  },
  {
   "cell_type": "code",
   "execution_count": 8,
   "metadata": {
    "collapsed": false
   },
   "outputs": [
    {
     "name": "stdout",
     "output_type": "stream",
     "text": [
      "done\n"
     ]
    }
   ],
   "source": [
    "##out = dtFZS(g)\n",
    "DS_FstZS = np.zeros(g.shape,dtype='uint64')\n",
    "dtFZS(g,DS_FstZS)\n"
   ]
  },
  {
   "cell_type": "code",
   "execution_count": 9,
   "metadata": {
    "collapsed": false
   },
   "outputs": [],
   "source": [
    "##stats.describe(DS_FstZS)\n",
    "##out.shape"
   ]
  },
  {
   "cell_type": "markdown",
   "metadata": {},
   "source": [
    "Fast Summary Statistics Function\n",
    "    "
   ]
  },
  {
   "cell_type": "code",
   "execution_count": 59,
   "metadata": {
    "collapsed": false
   },
   "outputs": [
    {
     "data": {
      "text/plain": [
       "[1, 2, 3, 4]"
      ]
     },
     "execution_count": 59,
     "metadata": {},
     "output_type": "execute_result"
    }
   ],
   "source": [
    "## Create a function that takes in x1, x2, ulX, and cllsze in world coords and returns list of x locations in grid coordinates\n",
    "def x_world_to_grid(wx1,wx2,ulX,clSze):\n",
    "    x1a = min(wx1,wx2)\n",
    "    x2a = max(wx1,wx2)\n",
    "    \n",
    "    xstart = ceil  ((x1a - ulX - (clSze/2)) / clSze)\n",
    "    xstop =  floor ((x2a - ulX - (clSze/2)) / clSze)\n",
    "    return(list(range(xstart,xstop)))\n",
    "\n",
    "x_world_to_grid(510,560,500,10)\n",
    "\n"
   ]
  },
  {
   "cell_type": "code",
   "execution_count": 61,
   "metadata": {
    "collapsed": false
   },
   "outputs": [
    {
     "data": {
      "text/plain": [
       "[515.0, 525.0, 535.0, 545.0]"
      ]
     },
     "execution_count": 61,
     "metadata": {},
     "output_type": "execute_result"
    }
   ],
   "source": [
    "## Create a Function that returns the centroid locations in world cordinates\n",
    "## accepts a list as input\n",
    "\n",
    "def x_grid_to_world(gx,ulX,clSze):\n",
    "    return [i * clSze + ulX + (clSze/2) for i in gx]\n",
    "    \n",
    "x_grid_to_world(x_world_to_grid(510,560,500,10),500,10)    \n",
    "    "
   ]
  },
  {
   "cell_type": "code",
   "execution_count": 63,
   "metadata": {
    "collapsed": false
   },
   "outputs": [
    {
     "data": {
      "text/plain": [
       "[3.4, 4.2, 5.0, 5.800000000000001]"
      ]
     },
     "execution_count": 63,
     "metadata": {},
     "output_type": "execute_result"
    }
   ],
   "source": [
    "## Create a function that takes in world coordinates of x_pred x1,x2,y1,y2 and returns y_pred as a list\n",
    "def y_world_pred(wx1,wx2,wy1,wy2,wxpred):\n",
    "    if (wx1 > wx2): ## switch Coords\n",
    "        wx1,wx2,wy1,wy2 = wx2,wx1,wy2,wy1\n",
    "    slope = (wy2-wy1)/(wx2-wx1)\n",
    "    ##return [ i for i in xpred]\n",
    "    return [(slope * (i-wx1)) + wy1 for i in wxpred]\n",
    "\n",
    "y_world_pred(510,560,3,7,x_grid_to_world(x_world_to_grid(510,560,500,10),500,10))"
   ]
  },
  {
   "cell_type": "code",
   "execution_count": 77,
   "metadata": {
    "collapsed": true
   },
   "outputs": [],
   "source": [
    "## Snap world y to grid coordinates wy is a list of cords\n",
    "def y_world_to_grid(ulY,clSze,wypred):\n",
    "        return [ceil(i - ulY - (clSze/2) / clSze ) for i in wypred]"
   ]
  },
  {
   "cell_type": "code",
   "execution_count": 81,
   "metadata": {
    "collapsed": false
   },
   "outputs": [
    {
     "name": "stdout",
     "output_type": "stream",
     "text": [
      "[1, 2, 3, 4]\n",
      "[515.0, 525.0, 535.0, 545.0]\n",
      "[3.7, 5.1, 6.5, 7.9]\n",
      "[4, 5, 6, 8]\n"
     ]
    }
   ],
   "source": [
    "## Examples on how to use the world to grid grid to world helper functions\n",
    "\n",
    "## def x_world_to_grid(wx1,wx2,ulX,clSze):\n",
    "wx1 = 560; wx2=510; wy1 = 10; wy2 = 3; ulX = 500; ulY = 0; clSze=10;\n",
    "\n",
    "xgrid  = x_world_to_grid(wx1,wx2,ulX,clSze)\n",
    "print(xgrid)\n",
    "wxpred = x_grid_to_world(xgrid,ulX,clSze)  \n",
    "print(wxpred)\n",
    "wypred = y_world_pred(wx1,wx2,wy1,wy2,wxpred)\n",
    "print(wypred)\n",
    "ygrid = y_world_to_grid(ulY,clSze,wypred)\n",
    "print(ygrid)"
   ]
  },
  {
   "cell_type": "code",
   "execution_count": 118,
   "metadata": {
    "collapsed": false
   },
   "outputs": [
    {
     "data": {
      "text/plain": [
       "[(1, 4), (2, 5), (3, 6), (4, 8)]"
      ]
     },
     "execution_count": 118,
     "metadata": {},
     "output_type": "execute_result"
    }
   ],
   "source": [
    "## Combine all the helper functions to return list of cells to sum\n",
    "\n",
    "wx1 = 560; wx2=510; wy1 = 10; wy2 = 3; ulX = 500; ulY = 0; clSze=10;\n",
    "def xy_grid_cnt(wx1,wx2,ulX,wy1,wy2,ulY,clSze):\n",
    "    xgrid  = x_world_to_grid(wx1,wx2,ulX,clSze)\n",
    "    wxpred = x_grid_to_world(xgrid,ulX,clSze)  \n",
    "    wypred = y_world_pred(wx1,wx2,wy1,wy2,wxpred)\n",
    "    ygrid = y_world_to_grid(ulY,clSze,wypred)\n",
    "    return(list ( zip(xgrid,ygrid)))\n",
    "    \n",
    "xy_grid_cnt(wx1,wx2,ulX,wy1,wy2,ulY,clSze)    \n",
    "\n",
    "\n",
    "\n",
    "\n"
   ]
  },
  {
   "cell_type": "code",
   "execution_count": null,
   "metadata": {
    "collapsed": true
   },
   "outputs": [],
   "source": []
  },
  {
   "cell_type": "code",
   "execution_count": 137,
   "metadata": {
    "collapsed": false
   },
   "outputs": [],
   "source": [
    "##  To DO\n",
    "## This function needs to be rewritten to make v a lattice on the grid (not matching the grid locations but between the grid valeus)\n",
    "## and to take coordinates\n",
    "\n",
    "def FstZS(v,DS_FstZS,ulX,ulY,clSze):\n",
    "    total = 0;    \n",
    "    for p in range(1,(len(v)+0)):\n",
    "        ## If moving left\n",
    "        if v[p][1] > v[p-1][1]: \n",
    "            print (1)\n",
    "        elif v[p][1] > v[p-1][1]:\n",
    "            cords = xy_grid_cnt(v[p][0],v[p-1][0],ulX,v[p][1],v[p-1][1],ulY,clSze)\n",
    "            print (cords)\n",
    "            ##total += np.sum(DS_FstZS[xy_grid_cnt(v[p][0],v[p-1][0],ulX,v[p][1],v[p-1][1],ulY,clSze)])\n",
    "        ## If moving Right\n",
    "        elif v[p][1] < v[p-1][1]: \n",
    "            cords = xy_grid_cnt(v[p][0],v[p-1][0],ulX,v[p][1],v[p-1][1],ulY,clSze)\n",
    "            print (cords)  \n",
    "             ##total += np.sum(DS_FstZS[xy_grid_cnt(v[p][0],v[p-1][0],ulX,v[p][1],v[p-1][1],ulY,clSze)])\n",
    "    return int(total)"
   ]
  },
  {
   "cell_type": "code",
   "execution_count": 138,
   "metadata": {
    "collapsed": false
   },
   "outputs": [],
   "source": [
    "v = [(1608490,2038038),(1608450,2038038),(1608450,2038138),(1608490,2038138),(1608490,2038038)]"
   ]
  },
  {
   "cell_type": "code",
   "execution_count": 139,
   "metadata": {
    "collapsed": false
   },
   "outputs": [
    {
     "name": "stdout",
     "output_type": "stream",
     "text": [
      "1\n"
     ]
    },
    {
     "ename": "ZeroDivisionError",
     "evalue": "division by zero",
     "output_type": "error",
     "traceback": [
      "\u001b[0;31m---------------------------------------------------------------------------\u001b[0m",
      "\u001b[0;31mZeroDivisionError\u001b[0m                         Traceback (most recent call last)",
      "\u001b[0;32m<ipython-input-139-a26e46cf99cc>\u001b[0m in \u001b[0;36m<module>\u001b[0;34m()\u001b[0m\n\u001b[1;32m      1\u001b[0m \u001b[1;31m#g.shape\u001b[0m\u001b[1;33m\u001b[0m\u001b[1;33m\u001b[0m\u001b[0m\n\u001b[0;32m----> 2\u001b[0;31m \u001b[0mtest\u001b[0m \u001b[1;33m=\u001b[0m \u001b[0mFstZS\u001b[0m\u001b[1;33m(\u001b[0m\u001b[0mv\u001b[0m\u001b[1;33m,\u001b[0m\u001b[0mDS_FstZS\u001b[0m\u001b[1;33m,\u001b[0m\u001b[0mulX\u001b[0m\u001b[1;33m,\u001b[0m\u001b[0mulY\u001b[0m\u001b[1;33m,\u001b[0m\u001b[0mcsze\u001b[0m\u001b[1;33m)\u001b[0m\u001b[1;33m\u001b[0m\u001b[0m\n\u001b[0m\u001b[1;32m      3\u001b[0m \u001b[0mtest\u001b[0m\u001b[1;33m\u001b[0m\u001b[0m\n",
      "\u001b[0;32m<ipython-input-137-6697d265ce68>\u001b[0m in \u001b[0;36mFstZS\u001b[0;34m(v, DS_FstZS, ulX, ulY, clSze)\u001b[0m\n\u001b[1;32m     15\u001b[0m         \u001b[1;31m## If moving Right\u001b[0m\u001b[1;33m\u001b[0m\u001b[1;33m\u001b[0m\u001b[0m\n\u001b[1;32m     16\u001b[0m         \u001b[1;32melif\u001b[0m \u001b[0mv\u001b[0m\u001b[1;33m[\u001b[0m\u001b[0mp\u001b[0m\u001b[1;33m]\u001b[0m\u001b[1;33m[\u001b[0m\u001b[1;36m1\u001b[0m\u001b[1;33m]\u001b[0m \u001b[1;33m<\u001b[0m \u001b[0mv\u001b[0m\u001b[1;33m[\u001b[0m\u001b[0mp\u001b[0m\u001b[1;33m-\u001b[0m\u001b[1;36m1\u001b[0m\u001b[1;33m]\u001b[0m\u001b[1;33m[\u001b[0m\u001b[1;36m1\u001b[0m\u001b[1;33m]\u001b[0m\u001b[1;33m:\u001b[0m\u001b[1;33m\u001b[0m\u001b[0m\n\u001b[0;32m---> 17\u001b[0;31m             \u001b[0mcords\u001b[0m \u001b[1;33m=\u001b[0m \u001b[0mxy_grid_cnt\u001b[0m\u001b[1;33m(\u001b[0m\u001b[0mv\u001b[0m\u001b[1;33m[\u001b[0m\u001b[0mp\u001b[0m\u001b[1;33m]\u001b[0m\u001b[1;33m[\u001b[0m\u001b[1;36m0\u001b[0m\u001b[1;33m]\u001b[0m\u001b[1;33m,\u001b[0m\u001b[0mv\u001b[0m\u001b[1;33m[\u001b[0m\u001b[0mp\u001b[0m\u001b[1;33m-\u001b[0m\u001b[1;36m1\u001b[0m\u001b[1;33m]\u001b[0m\u001b[1;33m[\u001b[0m\u001b[1;36m0\u001b[0m\u001b[1;33m]\u001b[0m\u001b[1;33m,\u001b[0m\u001b[0mulX\u001b[0m\u001b[1;33m,\u001b[0m\u001b[0mv\u001b[0m\u001b[1;33m[\u001b[0m\u001b[0mp\u001b[0m\u001b[1;33m]\u001b[0m\u001b[1;33m[\u001b[0m\u001b[1;36m1\u001b[0m\u001b[1;33m]\u001b[0m\u001b[1;33m,\u001b[0m\u001b[0mv\u001b[0m\u001b[1;33m[\u001b[0m\u001b[0mp\u001b[0m\u001b[1;33m-\u001b[0m\u001b[1;36m1\u001b[0m\u001b[1;33m]\u001b[0m\u001b[1;33m[\u001b[0m\u001b[1;36m1\u001b[0m\u001b[1;33m]\u001b[0m\u001b[1;33m,\u001b[0m\u001b[0mulY\u001b[0m\u001b[1;33m,\u001b[0m\u001b[0mclSze\u001b[0m\u001b[1;33m)\u001b[0m\u001b[1;33m\u001b[0m\u001b[0m\n\u001b[0m\u001b[1;32m     18\u001b[0m             \u001b[0mprint\u001b[0m \u001b[1;33m(\u001b[0m\u001b[0mcords\u001b[0m\u001b[1;33m)\u001b[0m\u001b[1;33m\u001b[0m\u001b[0m\n\u001b[1;32m     19\u001b[0m     \u001b[1;32mreturn\u001b[0m \u001b[0mint\u001b[0m\u001b[1;33m(\u001b[0m\u001b[0mtotal\u001b[0m\u001b[1;33m)\u001b[0m\u001b[1;33m\u001b[0m\u001b[0m\n",
      "\u001b[0;32m<ipython-input-118-19743b5dfadb>\u001b[0m in \u001b[0;36mxy_grid_cnt\u001b[0;34m(wx1, wx2, ulX, wy1, wy2, ulY, clSze)\u001b[0m\n\u001b[1;32m      5\u001b[0m     \u001b[0mxgrid\u001b[0m  \u001b[1;33m=\u001b[0m \u001b[0mx_world_to_grid\u001b[0m\u001b[1;33m(\u001b[0m\u001b[0mwx1\u001b[0m\u001b[1;33m,\u001b[0m\u001b[0mwx2\u001b[0m\u001b[1;33m,\u001b[0m\u001b[0mulX\u001b[0m\u001b[1;33m,\u001b[0m\u001b[0mclSze\u001b[0m\u001b[1;33m)\u001b[0m\u001b[1;33m\u001b[0m\u001b[0m\n\u001b[1;32m      6\u001b[0m     \u001b[0mwxpred\u001b[0m \u001b[1;33m=\u001b[0m \u001b[0mx_grid_to_world\u001b[0m\u001b[1;33m(\u001b[0m\u001b[0mxgrid\u001b[0m\u001b[1;33m,\u001b[0m\u001b[0mulX\u001b[0m\u001b[1;33m,\u001b[0m\u001b[0mclSze\u001b[0m\u001b[1;33m)\u001b[0m\u001b[1;33m\u001b[0m\u001b[0m\n\u001b[0;32m----> 7\u001b[0;31m     \u001b[0mwypred\u001b[0m \u001b[1;33m=\u001b[0m \u001b[0my_world_pred\u001b[0m\u001b[1;33m(\u001b[0m\u001b[0mwx1\u001b[0m\u001b[1;33m,\u001b[0m\u001b[0mwx2\u001b[0m\u001b[1;33m,\u001b[0m\u001b[0mwy1\u001b[0m\u001b[1;33m,\u001b[0m\u001b[0mwy2\u001b[0m\u001b[1;33m,\u001b[0m\u001b[0mwxpred\u001b[0m\u001b[1;33m)\u001b[0m\u001b[1;33m\u001b[0m\u001b[0m\n\u001b[0m\u001b[1;32m      8\u001b[0m     \u001b[0mygrid\u001b[0m \u001b[1;33m=\u001b[0m \u001b[0my_world_to_grid\u001b[0m\u001b[1;33m(\u001b[0m\u001b[0mulY\u001b[0m\u001b[1;33m,\u001b[0m\u001b[0mclSze\u001b[0m\u001b[1;33m,\u001b[0m\u001b[0mwypred\u001b[0m\u001b[1;33m)\u001b[0m\u001b[1;33m\u001b[0m\u001b[0m\n\u001b[1;32m      9\u001b[0m     \u001b[1;32mreturn\u001b[0m\u001b[1;33m(\u001b[0m\u001b[0mlist\u001b[0m \u001b[1;33m(\u001b[0m \u001b[0mzip\u001b[0m\u001b[1;33m(\u001b[0m\u001b[0mxgrid\u001b[0m\u001b[1;33m,\u001b[0m\u001b[0mygrid\u001b[0m\u001b[1;33m)\u001b[0m\u001b[1;33m)\u001b[0m\u001b[1;33m)\u001b[0m\u001b[1;33m\u001b[0m\u001b[0m\n",
      "\u001b[0;32m<ipython-input-63-1571029deeb4>\u001b[0m in \u001b[0;36my_world_pred\u001b[0;34m(wx1, wx2, wy1, wy2, wxpred)\u001b[0m\n\u001b[1;32m      3\u001b[0m     \u001b[1;32mif\u001b[0m \u001b[1;33m(\u001b[0m\u001b[0mwx1\u001b[0m \u001b[1;33m>\u001b[0m \u001b[0mwx2\u001b[0m\u001b[1;33m)\u001b[0m\u001b[1;33m:\u001b[0m \u001b[1;31m## switch Coords\u001b[0m\u001b[1;33m\u001b[0m\u001b[0m\n\u001b[1;32m      4\u001b[0m         \u001b[0mwx1\u001b[0m\u001b[1;33m,\u001b[0m\u001b[0mwx2\u001b[0m\u001b[1;33m,\u001b[0m\u001b[0mwy1\u001b[0m\u001b[1;33m,\u001b[0m\u001b[0mwy2\u001b[0m \u001b[1;33m=\u001b[0m \u001b[0mwx2\u001b[0m\u001b[1;33m,\u001b[0m\u001b[0mwx1\u001b[0m\u001b[1;33m,\u001b[0m\u001b[0mwy2\u001b[0m\u001b[1;33m,\u001b[0m\u001b[0mwy1\u001b[0m\u001b[1;33m\u001b[0m\u001b[0m\n\u001b[0;32m----> 5\u001b[0;31m     \u001b[0mslope\u001b[0m \u001b[1;33m=\u001b[0m \u001b[1;33m(\u001b[0m\u001b[0mwy2\u001b[0m\u001b[1;33m-\u001b[0m\u001b[0mwy1\u001b[0m\u001b[1;33m)\u001b[0m\u001b[1;33m/\u001b[0m\u001b[1;33m(\u001b[0m\u001b[0mwx2\u001b[0m\u001b[1;33m-\u001b[0m\u001b[0mwx1\u001b[0m\u001b[1;33m)\u001b[0m\u001b[1;33m\u001b[0m\u001b[0m\n\u001b[0m\u001b[1;32m      6\u001b[0m     \u001b[1;31m##return [ i for i in xpred]\u001b[0m\u001b[1;33m\u001b[0m\u001b[1;33m\u001b[0m\u001b[0m\n\u001b[1;32m      7\u001b[0m     \u001b[1;32mreturn\u001b[0m \u001b[1;33m[\u001b[0m\u001b[1;33m(\u001b[0m\u001b[0mslope\u001b[0m \u001b[1;33m*\u001b[0m \u001b[1;33m(\u001b[0m\u001b[0mi\u001b[0m\u001b[1;33m-\u001b[0m\u001b[0mwx1\u001b[0m\u001b[1;33m)\u001b[0m\u001b[1;33m)\u001b[0m \u001b[1;33m+\u001b[0m \u001b[0mwy1\u001b[0m \u001b[1;32mfor\u001b[0m \u001b[0mi\u001b[0m \u001b[1;32min\u001b[0m \u001b[0mwxpred\u001b[0m\u001b[1;33m]\u001b[0m\u001b[1;33m\u001b[0m\u001b[0m\n",
      "\u001b[0;31mZeroDivisionError\u001b[0m: division by zero"
     ]
    }
   ],
   "source": [
    "#g.shape\n",
    "test = FstZS(v,DS_FstZS,ulX,ulY,csze)\n",
    "test"
   ]
  },
  {
   "cell_type": "code",
   "execution_count": 40,
   "metadata": {
    "collapsed": false
   },
   "outputs": [
    {
     "name": "stderr",
     "output_type": "stream",
     "text": [
      "C:\\Users\\smh362\\AppData\\Local\\Continuum\\Anaconda3\\lib\\site-packages\\rasterstats\\main.py:145: FutureWarning: The value of this property will change in version 1.0. Please see https://github.com/mapbox/rasterio/issues/86 for details.\n",
      "  with Raster(raster, affine, nodata, band) as rast:\n",
      "C:\\Users\\smh362\\AppData\\Local\\Continuum\\Anaconda3\\lib\\site-packages\\rasterstats\\io.py:242: FutureWarning: GDAL-style transforms are deprecated and will not be supported in Rasterio 1.0.\n",
      "  self.affine = guard_transform(self.src.transform)\n"
     ]
    },
    {
     "data": {
      "text/plain": [
       "[{'sum': 246.0}]"
      ]
     },
     "execution_count": 40,
     "metadata": {},
     "output_type": "execute_result"
    }
   ],
   "source": [
    "### Import Test vector\n",
    "polygon = Polygon(v) \n",
    "zonal_stats(polygon,\"data\\\\nlcd_2001_landcover_2011_edition_2014_10_sub.tif\",stats= \"sum\")"
   ]
  },
  {
   "cell_type": "markdown",
   "metadata": {
    "collapsed": true
   },
   "source": [
    "Pretty Close Not sure why these are slightly different end"
   ]
  },
  {
   "cell_type": "code",
   "execution_count": null,
   "metadata": {
    "collapsed": true
   },
   "outputs": [],
   "source": []
  },
  {
   "cell_type": "code",
   "execution_count": null,
   "metadata": {
    "collapsed": true
   },
   "outputs": [],
   "source": []
  }
 ],
 "metadata": {
  "anaconda-cloud": {},
  "celltoolbar": "Raw Cell Format",
  "kernelspec": {
   "display_name": "Python 3",
   "language": "python",
   "name": "python3"
  },
  "language_info": {
   "codemirror_mode": {
    "name": "ipython",
    "version": 3
   },
   "file_extension": ".py",
   "mimetype": "text/x-python",
   "name": "python",
   "nbconvert_exporter": "python",
   "pygments_lexer": "ipython3",
   "version": "3.6.0"
  }
 },
 "nbformat": 4,
 "nbformat_minor": 1
}
