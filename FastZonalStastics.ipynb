{
 "cells": [
  {
   "cell_type": "markdown",
   "metadata": {},
   "source": [
    "Import Libraries\n"
   ]
  },
  {
   "cell_type": "code",
   "execution_count": 2,
   "metadata": {
    "collapsed": true
   },
   "outputs": [],
   "source": [
    "import numpy as np\n",
    "from osgeo import gdal\n",
    "from scipy import stats"
   ]
  },
  {
   "cell_type": "raw",
   "metadata": {},
   "source": [
    "Test data Thumbnail"
   ]
  },
  {
   "cell_type": "markdown",
   "metadata": {},
   "source": [
    "<img src=\"data/thumb.png\" alt=\"Drawing\" style=\"width: 300px;\"/>"
   ]
  },
  {
   "cell_type": "markdown",
   "metadata": {},
   "source": [
    "Load test data"
   ]
  },
  {
   "cell_type": "code",
   "execution_count": null,
   "metadata": {
    "collapsed": false
   },
   "outputs": [],
   "source": [
    "r = gdal.Open(\"data\\\\nlcd_2001_landcover_2011_edition_2014_10_sub.tif\")\n",
    "g = np.array(r.GetRasterBand(1).ReadAsArray())"
   ]
  },
  {
   "cell_type": "code",
   "execution_count": 24,
   "metadata": {
    "collapsed": false
   },
   "outputs": [
    {
     "name": "stdout",
     "output_type": "stream",
     "text": [
      "95\n"
     ]
    }
   ],
   "source": [
    "##stats.describe(g) \n",
    "out = np.zeros(g.shape,dtype='uint64')"
   ]
  },
  {
   "cell_type": "markdown",
   "metadata": {
    "collapsed": true
   },
   "source": [
    "Function to create data structure function takes in a grid with mxn and returns a grid with mxnxc where c is the number of classes.  A vectorized version would be faster"
   ]
  },
  {
   "cell_type": "code",
   "execution_count": 46,
   "metadata": {
    "collapsed": false
   },
   "outputs": [],
   "source": [
    "def dtFZS(g,out):\n",
    "    for xw in range(1,g.shape[0]):\n",
    "        for yw in range(1,g.shape[1]):\n",
    "            out[xw,yw] = out[xw,yw-1] + g[xw,yw]\n",
    "    print(\"done\")"
   ]
  },
  {
   "cell_type": "code",
   "execution_count": 47,
   "metadata": {
    "collapsed": false
   },
   "outputs": [
    {
     "name": "stdout",
     "output_type": "stream",
     "text": [
      "done\n"
     ]
    }
   ],
   "source": [
    "##out = dtFZS(g)\n",
    "out = np.zeros(g.shape,dtype='uint64')\n",
    "dtFZS(g,out)\n"
   ]
  },
  {
   "cell_type": "code",
   "execution_count": 49,
   "metadata": {
    "collapsed": false
   },
   "outputs": [
    {
     "data": {
      "text/plain": [
       "DescribeResult(nobs=1734, minmax=(array([0, 0, 0, ..., 0, 0, 0], dtype=uint64), array([     0,     95,    190, ..., 158553, 158634, 158716], dtype=uint64)), mean=array([  0.00000000e+00,   5.19550173e+01,   1.04167820e+02, ...,\n",
       "         1.38627170e+05,   1.38692304e+05,   1.38757807e+05]), variance=array([  0.00000000e+00,   6.99059718e+02,   2.48874562e+03, ...,\n",
       "         9.65962039e+07,   9.66710595e+07,   9.67510685e+07]), skewness=array([ 0.        ,  0.06241906,  0.04223732, ..., -1.76924598,\n",
       "       -1.76931426, -1.76938001]), kurtosis=array([ -3.        ,  -1.62990199,  -1.48996093, ...,  21.67019242,\n",
       "        21.67734873,  21.68228947]))"
      ]
     },
     "execution_count": 49,
     "metadata": {},
     "output_type": "execute_result"
    }
   ],
   "source": [
    "stats.describe(out)\n",
    "##out.shape"
   ]
  },
  {
   "cell_type": "markdown",
   "metadata": {},
   "source": [
    "Fast Summary Statistics Function\n",
    "    "
   ]
  },
  {
   "cell_type": "code",
   "execution_count": 54,
   "metadata": {
    "collapsed": false
   },
   "outputs": [],
   "source": [
    "def FstZS(v,g):\n",
    "    total = 0;\n",
    "    ## If function moves left add above if right substract above\n",
    "    for p in range(1,v.size):\n",
    "        ## If moving left\n",
    "        if v.x[p] - v.x[p-1] > 0:\n",
    "            total += g[v.x[p],v.y[p]]\n",
    "        ## If moving Right\n",
    "        elif v.x[p] - v.x[p-1] < 0:\n",
    "            total -= g[v.x[p],v.y[p]]\n",
    "            \n",
    "\n",
    "    \n",
    "    \n",
    "    \n",
    "    \n",
    "    \n",
    "    \n",
    "    \n",
    "    "
   ]
  },
  {
   "cell_type": "code",
   "execution_count": null,
   "metadata": {
    "collapsed": true
   },
   "outputs": [],
   "source": [
    "v = "
   ]
  }
 ],
 "metadata": {
  "anaconda-cloud": {},
  "celltoolbar": "Raw Cell Format",
  "kernelspec": {
   "display_name": "Python 3",
   "language": "python",
   "name": "python3"
  },
  "language_info": {
   "codemirror_mode": {
    "name": "ipython",
    "version": 3
   },
   "file_extension": ".py",
   "mimetype": "text/x-python",
   "name": "python",
   "nbconvert_exporter": "python",
   "pygments_lexer": "ipython3",
   "version": "3.6.0"
  }
 },
 "nbformat": 4,
 "nbformat_minor": 1
}
