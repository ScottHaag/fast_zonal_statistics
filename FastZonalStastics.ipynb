{
 "cells": [
  {
   "cell_type": "markdown",
   "metadata": {},
   "source": [
    "Import Libraries\n",
    "TO DO\n",
    "1) Describe Grid Location bottom left hand location and Cell Size\n",
    "2) Plot the vector using x y coordinates.\n",
    "3) Compare to Raster Stat Results, need to make sure that it only includes the cells fully inside (not on the border of the vector."
   ]
  },
  {
   "cell_type": "code",
   "execution_count": 1,
   "metadata": {
    "collapsed": true
   },
   "outputs": [],
   "source": [
    "# TO DO\n",
    "\n",
    "## 1) Fix edge case where the top row (where y index > 0) causing numpy to wrap to the bottom of Y\n",
    "## 2) Add speed tests for a larger dataset\n",
    "#       i_ Add in for loop and create graphics "
   ]
  },
  {
   "cell_type": "code",
   "execution_count": 72,
   "metadata": {
    "collapsed": false
   },
   "outputs": [],
   "source": [
    "import numpy as np\n",
    "from osgeo import gdal\n",
    "from scipy import stats\n",
    "from rasterstats import zonal_stats\n",
    "from shapely.geometry import Point, Polygon\n",
    "from osgeo import ogr\n",
    "from math import ceil,floor\n",
    "import matplotlib.pyplot as plt"
   ]
  },
  {
   "cell_type": "raw",
   "metadata": {},
   "source": [
    "Test data Thumbnail"
   ]
  },
  {
   "cell_type": "markdown",
   "metadata": {},
   "source": [
    "<img src=\"data/thumb.png\" alt=\"Drawing\" style=\"width: 300px;\"/>"
   ]
  },
  {
   "cell_type": "markdown",
   "metadata": {},
   "source": [
    "Load test data"
   ]
  },
  {
   "cell_type": "code",
   "execution_count": 3,
   "metadata": {
    "collapsed": false
   },
   "outputs": [],
   "source": [
    "Grid_Name = \"data\\\\nlcd_2001_landcover_2011_edition_2014_10_sub.tif\"\n",
    "\n",
    "r = gdal.Open(Grid_Name)\n",
    "shape = \"data\\\\test.shp\"\n",
    "g = np.array(r.GetRasterBand(1).ReadAsArray())\n"
   ]
  },
  {
   "cell_type": "code",
   "execution_count": 4,
   "metadata": {
    "collapsed": false
   },
   "outputs": [],
   "source": [
    "class dtFZS:\n",
    "    def __init__(self, img):\n",
    "\n",
    "        r = gdal.Open(Grid_Name)\n",
    "        self.g = np.array(r.GetRasterBand(1).ReadAsArray())\n",
    "        \n",
    "        self.clSze = r.GetGeoTransform()[1]\n",
    "        self.ulX = r.GetGeoTransform()[0]\n",
    "        self.ulY = r.GetGeoTransform()[3]\n",
    "        \n",
    "        def dtFZS(g,out):\n",
    "            for xw in range(0,g.shape[1]):\n",
    "                for yw in range(0,g.shape[0]):\n",
    "                    out[yw,xw] = out[yw-1,xw] + g[yw,xw]\n",
    "\n",
    "        self.data = np.zeros(g.shape,dtype='uint64')\n",
    "        \n",
    "        dtFZS(g,self.data)\n",
    "        \n",
    "        \n",
    "dFZS = dtFZS(Grid_Name)"
   ]
  },
  {
   "cell_type": "markdown",
   "metadata": {},
   "source": [
    "Create Helper Functions to move between world and grid cordinates"
   ]
  },
  {
   "cell_type": "code",
   "execution_count": 5,
   "metadata": {
    "collapsed": false
   },
   "outputs": [],
   "source": [
    "## Input (world cords; x1, x2, Grid Upper Left, and Cellsize)\n",
    "## Returns (grid cords; list(x))\n",
    "## x1 and x2 represent vertexes on a polygon in order\n",
    "\n",
    "def x_world_to_grid(wx1,wx2,dtFZS):\n",
    "    \n",
    "    x1a = min(wx1,wx2)\n",
    "    x2a = max(wx1,wx2)\n",
    "    \n",
    "    xstart = ceil  ((x1a - dtFZS.ulX - (dtFZS.clSze/2)) / dtFZS.clSze)\n",
    "    xstop =  floor ((x2a - dtFZS.ulX - (dtFZS.clSze/2)) / dtFZS.clSze)\n",
    "\n",
    "    return(list(range(xstart,xstop+1)))"
   ]
  },
  {
   "cell_type": "code",
   "execution_count": 6,
   "metadata": {
    "collapsed": false
   },
   "outputs": [],
   "source": [
    "## Input (grid cords; list(x))\n",
    "## Returns(world cords centroid ;(list(X)))\n",
    "\n",
    "def x_grid_to_world(gx,dtFZS):\n",
    "    return [i * dtFZS.clSze + dtFZS.ulX + (dtFZS.clSze/2) for i in gx]"
   ]
  },
  {
   "cell_type": "code",
   "execution_count": 7,
   "metadata": {
    "collapsed": false
   },
   "outputs": [],
   "source": [
    "## Input(world cords centroid ;(list(X)))\n",
    "## Returns(world cords centroid ;(list(y)))\n",
    "\n",
    "def y_world_pred(wx1,wx2,wy1,wy2,wxpred):\n",
    "    slope = 0;\n",
    "    if (wx1 > wx2):\n",
    "        wx1,wx2,wy1,wy2 = wx2,wx1,wy2,wy1\n",
    "    if(wx1 != wx2):    \n",
    "        slope = (wy2-wy1)/(wx2-wx1)\n",
    "\n",
    "    return [(slope * (i-wx1)) + wy1 for i in wxpred]"
   ]
  },
  {
   "cell_type": "code",
   "execution_count": 8,
   "metadata": {
    "collapsed": false
   },
   "outputs": [],
   "source": [
    "## Input(world cords centroid ;(list(y)))\n",
    "## Returns (grid cords; list(y))\n",
    "\n",
    "def y_world_to_grid(wypred,dtFZS):\n",
    "        return [floor((dtFZS.ulY - i - (dtFZS.clSze/2)) / dtFZS.clSze ) for i in wypred] "
   ]
  },
  {
   "cell_type": "code",
   "execution_count": 9,
   "metadata": {
    "collapsed": false
   },
   "outputs": [],
   "source": [
    "## Input(world Cords for 2 vertexes on a polygon, TL corner of grid, and cellsize)\n",
    "## Returns(y,x grid cords)\n",
    "\n",
    "def xy_grid(wx1,wx2,wy1,wy2,dtFZS):\n",
    "    xgrid  = x_world_to_grid(wx1,wx2,dtFZS)\n",
    "    wxpred = x_grid_to_world(xgrid,dtFZS)  \n",
    "    wypred = y_world_pred(wx1,wx2,wy1,wy2,wxpred)\n",
    "    ygrid  = y_world_to_grid(wypred,dtFZS)\n",
    "    ##return xgrid\n",
    "    return((ygrid,xgrid))"
   ]
  },
  {
   "cell_type": "code",
   "execution_count": 10,
   "metadata": {
    "collapsed": false
   },
   "outputs": [],
   "source": [
    "## Input(list of cords in world, summed down grid, real-world grid tl, cllSze)\n",
    "## Output Sum v in polygon\n",
    "\n",
    "def FstZS(v,DS_FstZS):\n",
    "    total = 0;    \n",
    "    for p in range(1,(len(v)+0)):\n",
    "        if v[p][0] > v[p-1][0]:\n",
    "            cords = xy_grid(v[p][0],v[p-1][0],v[p][1],v[p-1][1],DS_FstZS)\n",
    "            total += np.sum(DS_FstZS.data[cords])\n",
    "        elif v[p][0] < v[p-1][0]: \n",
    "            cords = xy_grid(v[p][0],v[p-1][0],v[p][1],v[p-1][1],DS_FstZS)\n",
    "            total -= np.sum(DS_FstZS.data[cords])\n",
    "    return int(total)"
   ]
  },
  {
   "cell_type": "code",
   "execution_count": 11,
   "metadata": {
    "collapsed": false
   },
   "outputs": [],
   "source": [
    "## Some testing Data\n",
    "\n",
    "tlx,tly,blx,bly = 1608590,2038038,1608450,2038138\n",
    "tlx,tly,blx,bly = 1610584,2069215,1665119,2042733\n",
    "\n",
    "v = [(tlx,tly),(tlx,bly),(blx,bly),(blx,tly),(tlx,tly)]"
   ]
  },
  {
   "cell_type": "code",
   "execution_count": 89,
   "metadata": {
    "collapsed": false
   },
   "outputs": [
    {
     "name": "stderr",
     "output_type": "stream",
     "text": [
      "C:\\Users\\smh362\\AppData\\Local\\Continuum\\Anaconda3\\lib\\site-packages\\rasterstats\\main.py:145: FutureWarning: The value of this property will change in version 1.0. Please see https://github.com/mapbox/rasterio/issues/86 for details.\n",
      "  with Raster(raster, affine, nodata, band) as rast:\n",
      "C:\\Users\\smh362\\AppData\\Local\\Continuum\\Anaconda3\\lib\\site-packages\\rasterstats\\io.py:242: FutureWarning: GDAL-style transforms are deprecated and will not be supported in Rasterio 1.0.\n",
      "  self.affine = guard_transform(self.src.transform)\n"
     ]
    },
    {
     "data": {
      "text/plain": [
       "(29871685.0, 59743370.0)"
      ]
     },
     "execution_count": 89,
     "metadata": {},
     "output_type": "execute_result"
    }
   ],
   "source": [
    "def test(v):\n",
    "    \n",
    "    FstZSout = FstZS(v,dFZS)\n",
    "    Rastsout = zonal_stats(Polygon(v) ,Grid_Name,stats= \"sum\")\n",
    "    \n",
    "    return (float(FstZSout) , float(Rastsout[0]['sum']) )\n",
    "\n",
    "test(v)\n"
   ]
  },
  {
   "cell_type": "code",
   "execution_count": 90,
   "metadata": {
    "collapsed": false
   },
   "outputs": [],
   "source": [
    "def create_polys():\n",
    "    ## add in Random Generator\n",
    "    gtlx,gtly,gblx,gbly = 1610584,2069215,1665119,2042733\n",
    "    gmx = gtlx+((gblx-gtlx)/2)\n",
    "    gmy = gbly+((gtly-gbly)/2)\n",
    "    \n",
    "    tlx =  np.random.randint(gtlx,gmx,1)\n",
    "    tly =  np.random.randint(gmy,gtly,1)\n",
    "    blx =  np.random.randint(gmx,gblx,1)\n",
    "    bly =  np.random.randint(gbly,gmy,1)\n",
    "\n",
    "    v = [(tlx,tly),(tlx,bly),(blx,bly),(blx,tly),(tlx,tly)]\n",
    "    return v"
   ]
  },
  {
   "cell_type": "code",
   "execution_count": 92,
   "metadata": {
    "collapsed": false
   },
   "outputs": [
    {
     "name": "stderr",
     "output_type": "stream",
     "text": [
      "C:\\Users\\smh362\\AppData\\Local\\Continuum\\Anaconda3\\lib\\site-packages\\rasterstats\\main.py:145: FutureWarning: The value of this property will change in version 1.0. Please see https://github.com/mapbox/rasterio/issues/86 for details.\n",
      "  with Raster(raster, affine, nodata, band) as rast:\n",
      "C:\\Users\\smh362\\AppData\\Local\\Continuum\\Anaconda3\\lib\\site-packages\\rasterstats\\io.py:242: FutureWarning: GDAL-style transforms are deprecated and will not be supported in Rasterio 1.0.\n",
      "  self.affine = guard_transform(self.src.transform)\n"
     ]
    },
    {
     "data": {
      "image/png": "[encoded data removed]",
      "text/plain": [
       "<matplotlib.figure.Figure at 0x1d1d9ebfb00>"
      ]
     },
     "metadata": {},
     "output_type": "display_data"
    }
   ],
   "source": [
    "tst = []\n",
    "m = 10\n",
    "\n",
    "for i in range(1,m):\n",
    "    ##test = np.zeros(2,m)\n",
    "    v   =  create_polys()\n",
    "    tst.append(test(v))\n",
    "\n",
    "#print(tst)\n",
    "plt.scatter(y=[t[1] for t in tst],x= [t[0] for t in tst])\n",
    "plt.xlabel(\"Fast Zonal Method\")\n",
    "plt.ylabel(\"Raster Stats\")              \n",
    "plt.show()   "
   ]
  },
  {
   "cell_type": "code",
   "execution_count": null,
   "metadata": {
    "collapsed": true
   },
   "outputs": [],
   "source": []
  }
 ],
 "metadata": {
  "anaconda-cloud": {},
  "celltoolbar": "Raw Cell Format",
  "kernelspec": {
   "display_name": "Python 3",
   "language": "python",
   "name": "python3"
  },
  "language_info": {
   "codemirror_mode": {
    "name": "ipython",
    "version": 3
   },
   "file_extension": ".py",
   "mimetype": "text/x-python",
   "name": "python",
   "nbconvert_exporter": "python",
   "pygments_lexer": "ipython3",
   "version": "3.6.0"
  }
 },
 "nbformat": 4,
 "nbformat_minor": 1
}
