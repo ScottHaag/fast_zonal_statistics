{
 "cells": [
  {
   "cell_type": "markdown",
   "metadata": {},
   "source": [
    "Import Libraries\n",
    "TO DO\n",
    "1) Describe Grid Location bottom left hand location and Cell Size\n",
    "2) Plot the vector using x y coordinates.\n",
    "3) Compare to Raster Stat Results, need to make sure that it only includes the cells fully inside (not on the border of the vector."
   ]
  },
  {
   "cell_type": "code",
   "execution_count": 219,
   "metadata": {
    "collapsed": true
   },
   "outputs": [],
   "source": [
    "# TO DO\n",
    "## 1) switch all cords to y,x in some places it is x,y and others y,x make it consistent with how the grid is stored (y,x)\n",
    "## 2) Fix edge case where the top row (where y index > 0) causing numpy to wrap to the bottom of Y"
   ]
  },
  {
   "cell_type": "code",
   "execution_count": 220,
   "metadata": {
    "collapsed": false
   },
   "outputs": [
    {
     "name": "stdout",
     "output_type": "stream",
     "text": [
      "1.11.3\n"
     ]
    }
   ],
   "source": [
    "import numpy as np\n",
    "print (np.__version__)\n",
    "from osgeo import gdal\n",
    "from scipy import stats\n",
    "import timeit\n",
    "from rasterstats import zonal_stats\n",
    "from shapely.geometry import Point, Polygon\n",
    "from osgeo import ogr\n",
    "from math import ceil,floor"
   ]
  },
  {
   "cell_type": "raw",
   "metadata": {},
   "source": [
    "Test data Thumbnail"
   ]
  },
  {
   "cell_type": "markdown",
   "metadata": {},
   "source": [
    "<img src=\"data/thumb.png\" alt=\"Drawing\" style=\"width: 300px;\"/>"
   ]
  },
  {
   "cell_type": "markdown",
   "metadata": {},
   "source": [
    "Load test data"
   ]
  },
  {
   "cell_type": "code",
   "execution_count": 221,
   "metadata": {
    "collapsed": false
   },
   "outputs": [],
   "source": [
    "r = gdal.Open(\"data\\\\nlcd_2001_landcover_2011_edition_2014_10_sub.tif\")\n",
    "shape = \"data\\\\test.shp\"\n",
    "g = np.array(r.GetRasterBand(1).ReadAsArray())\n",
    "csze = r.GetGeoTransform()[1]\n",
    "ulX = r.GetGeoTransform()[0]\n",
    "ulY = r.GetGeoTransform()[3]"
   ]
  },
  {
   "cell_type": "markdown",
   "metadata": {
    "collapsed": true
   },
   "source": [
    "Function to create data structure function takes in a grid with mxn and returns a grid of the same size summed by columns.  A vectorized version would be faster"
   ]
  },
  {
   "cell_type": "code",
   "execution_count": 224,
   "metadata": {
    "collapsed": false
   },
   "outputs": [],
   "source": [
    "## Function to create the output dataset\n",
    "def dtFZS(g,out):\n",
    "    for xw in range(0,g.shape[1]):\n",
    "        for yw in range(0,g.shape[0]):\n",
    "            out[yw,xw] = out[yw-1,xw] + g[yw,xw]"
   ]
  },
  {
   "cell_type": "code",
   "execution_count": 225,
   "metadata": {
    "collapsed": false
   },
   "outputs": [],
   "source": [
    "##Create The Output Summed Down DataSet\n",
    "DS_FstZS = np.zeros(g.shape,dtype='uint64')\n",
    "dtFZS(g,DS_FstZS)\n"
   ]
  },
  {
   "cell_type": "markdown",
   "metadata": {},
   "source": [
    "Create Helper Functions to move between world and grid cordinates"
   ]
  },
  {
   "cell_type": "code",
   "execution_count": 226,
   "metadata": {
    "collapsed": false
   },
   "outputs": [],
   "source": [
    "## Input (world cords; x1, x2, Grid Upper Left, and Cellsize)\n",
    "## Returns (grid cords; list(x))\n",
    "## x1 and x2 represent vertexes on a polygon in order\n",
    "\n",
    "def x_world_to_grid(wx1,wx2,ulX,clSze):\n",
    "    x1a = min(wx1,wx2)\n",
    "    x2a = max(wx1,wx2)\n",
    "    \n",
    "    xstart = ceil  ((x1a - ulX - (clSze/2)) / clSze)\n",
    "    xstop =  floor ((x2a - ulX - (clSze/2)) / clSze)\n",
    "\n",
    "    return(list(range(xstart,xstop+1)))"
   ]
  },
  {
   "cell_type": "code",
   "execution_count": 227,
   "metadata": {
    "collapsed": false
   },
   "outputs": [],
   "source": [
    "## Input (grid cords; list(x))\n",
    "## Returns(world cords centroid ;(list(X)))\n",
    "\n",
    "def x_grid_to_world(gx,ulX,clSze):\n",
    "    return [i * clSze + ulX + (clSze/2) for i in gx]"
   ]
  },
  {
   "cell_type": "code",
   "execution_count": 228,
   "metadata": {
    "collapsed": false
   },
   "outputs": [],
   "source": [
    "## Input(world cords centroid ;(list(X)))\n",
    "## Returns(world cords centroid ;(list(y)))\n",
    "\n",
    "def y_world_pred(wx1,wx2,wy1,wy2,wxpred):\n",
    "    slope = 0;\n",
    "    if (wx1 > wx2): ## switch Coords\n",
    "        wx1,wx2,wy1,wy2 = wx2,wx1,wy2,wy1\n",
    "    if(wx1 != wx2):    \n",
    "        slope = (wy2-wy1)/(wx2-wx1)\n",
    "    ##return [ i for i in xpred]\n",
    "    return [(slope * (i-wx1)) + wy1 for i in wxpred]"
   ]
  },
  {
   "cell_type": "code",
   "execution_count": 229,
   "metadata": {
    "collapsed": false
   },
   "outputs": [],
   "source": [
    "## Input(world cords centroid ;(list(y)))\n",
    "## Returns (grid cords; list(y))\n",
    "\n",
    "def y_world_to_grid(ulY,clSze,wypred):\n",
    "        return [floor((ulY - i - (clSze/2)) / clSze ) for i in wypred] "
   ]
  },
  {
   "cell_type": "code",
   "execution_count": 230,
   "metadata": {
    "collapsed": false
   },
   "outputs": [],
   "source": [
    "## Combine all the helper functions to return list of cells\n",
    "## Input(world Cords for 2 vertexes on a polygon, TL corner of grid, and cellsize)\n",
    "## Returns(y,x grid cords)\n",
    "## counts if centroid is in poylgon\n",
    "\n",
    "def xy_grid(wx1,wx2,ulX,wy1,wy2,ulY,clSze):\n",
    "    print (\"wx1 = \" + str(wx1) + \" wx2 = \" + str(wx2) + \" ulx = \" +str(ulX))\n",
    "    print (\"wy1 = \" + str(wy1) + \" wy2 = \" + str(wx2) + \" uly = \" +str(ulY))\n",
    "    print(\"cellsize =\" + str(clSze))\n",
    "    xgrid  = x_world_to_grid(wx1,wx2,ulX,clSze)\n",
    "    wxpred = x_grid_to_world(xgrid,ulX,clSze)  \n",
    "    wypred = y_world_pred(wx1,wx2,wy1,wy2,wxpred)\n",
    "    ygrid  = y_world_to_grid(ulY,clSze,wypred)\n",
    "    ##return xgrid\n",
    "    return((ygrid,xgrid))\n"
   ]
  },
  {
   "cell_type": "code",
   "execution_count": 231,
   "metadata": {
    "collapsed": false
   },
   "outputs": [],
   "source": [
    "## Input(list of cords in world, summed down grid, real-world grid tl, cllSze)\n",
    "## Output Sum v in polygon\n",
    "\n",
    "def FstZS(v,DS_FstZS,ulX,ulY,clSze):\n",
    "    total = 0;    \n",
    "    for p in range(1,(len(v)+0)):\n",
    "        ## If moving left\n",
    "        if v[p][0] > v[p-1][0]:\n",
    "            cords = xy_grid(v[p][0],v[p-1][0],ulX,v[p][1],v[p-1][1],ulY,clSze)\n",
    "            ##print('add')\n",
    "            ##print(cords)\n",
    "            ##print(np.sum(DS_FstZS[cords]))\n",
    "            total += np.sum(DS_FstZS[cords])\n",
    "        ## If moving Right\n",
    "        elif v[p][0] < v[p-1][0]: \n",
    "            cords = xy_grid(v[p][0],v[p-1][0],ulX,v[p][1],v[p-1][1],ulY,clSze)\n",
    "            ##print('sub')\n",
    "            ##print (cords)\n",
    "            ##print(np.sum(DS_FstZS[cords]))\n",
    "            total -= np.sum(DS_FstZS[cords])\n",
    "    return int(total)"
   ]
  },
  {
   "cell_type": "code",
   "execution_count": 242,
   "metadata": {
    "collapsed": false
   },
   "outputs": [],
   "source": [
    "## Some testing Data\n",
    "\n",
    "tlx,tly,blx,bly = 1608590,2038038,1608450,2038138\n",
    "##tlx,tly,blx,bly = 1608490,2038038,1608450,2038138\n",
    "##tlx,tly,blx,bly = 1599639.1,2083280,1599683.4,2083210\n",
    "##tlx,tly,blx,bly = 1599639.1,2083280,1599683.4,2083210\n",
    "\n",
    "## Just the top left hand cell\n",
    "## This is an edge case as it wraps around to the bottom TO DO 2)\n",
    "##tlx,tly,blx,bly = 1599636,2083302,1599649,2083289\n",
    "\n",
    "## Bottom edge case Pass\n",
    "#tlx,tly,blx,bly = 1674639.9,2031308.0,1674659.7,2031290.9\n",
    "\n",
    "## Bigger Test Case\n",
    "tlx,tly,blx,bly = 1610584,2069215,1665119,2042733\n",
    "\n",
    "v = [(tlx,tly),(tlx,bly),(blx,bly),(blx,tly),(tlx,tly)]"
   ]
  },
  {
   "cell_type": "code",
   "execution_count": 243,
   "metadata": {
    "collapsed": false
   },
   "outputs": [
    {
     "name": "stdout",
     "output_type": "stream",
     "text": [
      "wx1 = 1665119 wx2 = 1610584 ulx = 1599633.055684202\n",
      "wy1 = 2042733 wy2 = 1610584 uly = 2083307.9820680085\n",
      "cellsize =30.0\n",
      "wx1 = 1610584 wx2 = 1665119 ulx = 1599633.055684202\n",
      "wy1 = 2069215 wy2 = 1665119 uly = 2083307.9820680085\n",
      "cellsize =30.0\n"
     ]
    },
    {
     "data": {
      "text/plain": [
       "82877158"
      ]
     },
     "execution_count": 243,
     "metadata": {},
     "output_type": "execute_result"
    }
   ],
   "source": [
    "#g.shape\n",
    "test = FstZS(v,DS_FstZS,ulX,ulY,csze)\n",
    "test"
   ]
  },
  {
   "cell_type": "code",
   "execution_count": 244,
   "metadata": {
    "collapsed": false
   },
   "outputs": [
    {
     "name": "stderr",
     "output_type": "stream",
     "text": [
      "C:\\Users\\smh362\\AppData\\Local\\Continuum\\Anaconda3\\lib\\site-packages\\rasterstats\\main.py:145: FutureWarning: The value of this property will change in version 1.0. Please see https://github.com/mapbox/rasterio/issues/86 for details.\n",
      "  with Raster(raster, affine, nodata, band) as rast:\n",
      "C:\\Users\\smh362\\AppData\\Local\\Continuum\\Anaconda3\\lib\\site-packages\\rasterstats\\io.py:242: FutureWarning: GDAL-style transforms are deprecated and will not be supported in Rasterio 1.0.\n",
      "  self.affine = guard_transform(self.src.transform)\n"
     ]
    },
    {
     "data": {
      "text/plain": [
       "[{'sum': 82877158.0}]"
      ]
     },
     "execution_count": 244,
     "metadata": {},
     "output_type": "execute_result"
    }
   ],
   "source": [
    "### Import Test vector\n",
    "poly = Polygon(v) \n",
    "zonal_stats(poly,\"data\\\\nlcd_2001_landcover_2011_edition_2014_10_sub.tif\",stats= \"sum\")"
   ]
  },
  {
   "cell_type": "code",
   "execution_count": 238,
   "metadata": {
    "collapsed": true
   },
   "outputs": [],
   "source": [
    "## To do replace with a better test\n",
    "def test(v):\n",
    "    rs =  zonal_stats(Polygon(v),\"data\\\\nlcd_2001_landcover_2011_edition_2014_10_sub.tif\",stats= \"sum\")\n",
    "    nv =  FstZS(v,DS_FstZS,ulX,ulY,csze)\n",
    "    return rs[0]['sum'] - nv"
   ]
  },
  {
   "cell_type": "code",
   "execution_count": 157,
   "metadata": {
    "collapsed": false
   },
   "outputs": [],
   "source": [
    "##test(v)"
   ]
  }
 ],
 "metadata": {
  "anaconda-cloud": {},
  "celltoolbar": "Raw Cell Format",
  "kernelspec": {
   "display_name": "Python 3",
   "language": "python",
   "name": "python3"
  },
  "language_info": {
   "codemirror_mode": {
    "name": "ipython",
    "version": 3
   },
   "file_extension": ".py",
   "mimetype": "text/x-python",
   "name": "python",
   "nbconvert_exporter": "python",
   "pygments_lexer": "ipython3",
   "version": "3.6.0"
  }
 },
 "nbformat": 4,
 "nbformat_minor": 1
}
