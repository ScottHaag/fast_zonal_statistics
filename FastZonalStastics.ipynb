{
 "cells": [
  {
   "cell_type": "markdown",
   "metadata": {},
   "source": [
    "Import Libraries\n"
   ]
  },
  {
   "cell_type": "code",
   "execution_count": 10,
   "metadata": {
    "collapsed": true
   },
   "outputs": [],
   "source": [
    "import numpy as np\n",
    "from osgeo import gdal\n",
    "from scipy import stats\n",
    "import timeit"
   ]
  },
  {
   "cell_type": "raw",
   "metadata": {},
   "source": [
    "Test data Thumbnail"
   ]
  },
  {
   "cell_type": "markdown",
   "metadata": {},
   "source": [
    "<img src=\"data/thumb.png\" alt=\"Drawing\" style=\"width: 300px;\"/>"
   ]
  },
  {
   "cell_type": "markdown",
   "metadata": {},
   "source": [
    "Load test data"
   ]
  },
  {
   "cell_type": "code",
   "execution_count": 11,
   "metadata": {
    "collapsed": false
   },
   "outputs": [],
   "source": [
    "r = gdal.Open(\"data\\\\nlcd_2001_landcover_2011_edition_2014_10_sub.tif\")\n",
    "g = np.array(r.GetRasterBand(1).ReadAsArray())"
   ]
  },
  {
   "cell_type": "code",
   "execution_count": 12,
   "metadata": {
    "collapsed": false
   },
   "outputs": [
    {
     "name": "stdout",
     "output_type": "stream",
     "text": [
      "(1734, 2501)\n",
      "(1734, 2501)\n"
     ]
    }
   ],
   "source": [
    "##stats.describe(g) \n",
    "print( (r.RasterYSize,r.RasterXSize))\n",
    "print( g.shape )\n",
    "##out.shape"
   ]
  },
  {
   "cell_type": "markdown",
   "metadata": {
    "collapsed": true
   },
   "source": [
    "Function to create data structure function takes in a grid with mxn and returns a grid with mxnxc where c is the number of classes.  A vectorized version would be faster"
   ]
  },
  {
   "cell_type": "code",
   "execution_count": 13,
   "metadata": {
    "collapsed": false
   },
   "outputs": [],
   "source": [
    "def dtFZS(g,out):\n",
    "    for xw in range(0,g.shape[1]):\n",
    "        for yw in range(1,g.shape[0]):\n",
    "            out[yw,xw] = out[yw-1,xw] + g[yw,xw]\n",
    "    print(\"done\")"
   ]
  },
  {
   "cell_type": "code",
   "execution_count": 14,
   "metadata": {
    "collapsed": false
   },
   "outputs": [
    {
     "name": "stdout",
     "output_type": "stream",
     "text": [
      "done\n"
     ]
    }
   ],
   "source": [
    "##out = dtFZS(g)\n",
    "DS_FstZS = np.zeros(g.shape,dtype='uint64')\n",
    "dtFZS(g,DS_FstZS)\n"
   ]
  },
  {
   "cell_type": "code",
   "execution_count": 19,
   "metadata": {
    "collapsed": false
   },
   "outputs": [
    {
     "data": {
      "text/plain": [
       "DescribeResult(nobs=1734, minmax=(array([0, 0, 0, ..., 0, 0, 0], dtype=uint64), array([ 88957,  90090,  90537, ..., 113531, 112942, 113583], dtype=uint64)), mean=array([ 39105.28258362,  39471.85870819,  39549.93886967, ...,\n",
       "        55162.80046136,  54622.01153403,  54913.44925029]), variance=array([  7.33292121e+08,   7.43734955e+08,   7.51916039e+08, ...,\n",
       "         1.12397767e+09,   1.11742125e+09,   1.11700624e+09]), skewness=array([ 0.20808248,  0.21883235,  0.21780447, ...,  0.09384659,\n",
       "        0.09849129,  0.1000836 ]), kurtosis=array([-1.25728163, -1.23819352, -1.22937554, ..., -1.22189322,\n",
       "       -1.22273959, -1.20557672]))"
      ]
     },
     "execution_count": 19,
     "metadata": {},
     "output_type": "execute_result"
    }
   ],
   "source": [
    "stats.describe(DS_FstZS)\n",
    "##out.shape"
   ]
  },
  {
   "cell_type": "markdown",
   "metadata": {},
   "source": [
    "Fast Summary Statistics Function\n",
    "    "
   ]
  },
  {
   "cell_type": "code",
   "execution_count": 20,
   "metadata": {
    "collapsed": false
   },
   "outputs": [
    {
     "name": "stdout",
     "output_type": "stream",
     "text": [
      "[[0, 20, 40, 60, 80], [10, 9, 8, 7, 6]]\n"
     ]
    },
    {
     "data": {
      "text/plain": [
       "array([   0, 1194, 2068, 2484, 2851], dtype=uint64)"
      ]
     },
     "execution_count": 20,
     "metadata": {},
     "output_type": "execute_result"
    }
   ],
   "source": [
    "## Create Tuple function\n",
    "def xyrange(ystart,ystop,xstart,xstop,step=1):\n",
    "    if(xstop < xstart):\n",
    "        step = - 1\n",
    "    xtuple = list(range(xstart,xstop,step))\n",
    "    ytuple = [round(( x/len(xtuple) * (ystop-ystart) ) + ystart) for x in range(0,len(xtuple))]  \n",
    "    return [ytuple,xtuple]\n",
    "\n",
    "idx = xyrange(0,100,10,5)\n",
    "print(idx)\n",
    "#idx = [(0,0,1,1),(0,1,0,2)]\n",
    "\n",
    "DS_FstZS[idx]\n",
    " "
   ]
  },
  {
   "cell_type": "code",
   "execution_count": 21,
   "metadata": {
    "collapsed": false
   },
   "outputs": [],
   "source": [
    "##  To DO\n",
    "## This function needs to be rewritten to make v a lattice on the grid (not matching the grid locations but between the grid valeus)\n",
    "## and to take coordinates\n",
    "\n",
    "def FstZS(v,DS_FstZS):\n",
    "    total = 0;    \n",
    "    for p in range(1,(len(v)+0)):\n",
    "        ## If moving left\n",
    "        if v[p][1] > v[p-1][1]:            \n",
    "            total += np.sum(DS_FstZS[xyrange(v[p][0],v[p-1][0],v[p][1],v[p-1][1])])\n",
    "        ## If moving Right\n",
    "        elif v[p][1] < v[p-1][1]: \n",
    "            total -= np.sum(DS_FstZS[xyrange(v[p][0],v[p-1][0],v[p][1],v[p-1][1])])     \n",
    "    return int(total)"
   ]
  },
  {
   "cell_type": "code",
   "execution_count": 22,
   "metadata": {
    "collapsed": false
   },
   "outputs": [
    {
     "data": {
      "text/plain": [
       "[(0, 0), (1000, 0), (1000, 1000), (0, 1000), (0, 0)]"
      ]
     },
     "execution_count": 22,
     "metadata": {},
     "output_type": "execute_result"
    }
   ],
   "source": [
    "## Test Data set\n",
    "z = 1000\n",
    "## Create test box z in size\n",
    "##v = [(x,1) for x in range(1,z+1)] + [(z,x) for x in range(1+1,z+1)] + [(x,z) for x in range(z-1,0,-1)] + [(1,x) for x in range(z-1,0,-1)]\n",
    "v = [(0,0),(z,0),(z,z),(0,z),(0,0)]\n",
    "v\n",
    " "
   ]
  },
  {
   "cell_type": "code",
   "execution_count": 23,
   "metadata": {
    "collapsed": false
   },
   "outputs": [
    {
     "data": {
      "text/plain": [
       "47253417"
      ]
     },
     "execution_count": 23,
     "metadata": {},
     "output_type": "execute_result"
    }
   ],
   "source": [
    "#g.shape\n",
    "FstZS(v,DS_FstZS)\n",
    "#%timeit 'FstZS(v,DS_FstZS)'"
   ]
  },
  {
   "cell_type": "code",
   "execution_count": 24,
   "metadata": {
    "collapsed": false
   },
   "outputs": [
    {
     "data": {
      "text/plain": [
       "47253417"
      ]
     },
     "execution_count": 24,
     "metadata": {},
     "output_type": "execute_result"
    }
   ],
   "source": [
    "##%timeit 'np.sum(g[1:1001,1:1001])'\n",
    "np.sum(g[1:1001,1:1001])"
   ]
  },
  {
   "cell_type": "markdown",
   "metadata": {
    "collapsed": true
   },
   "source": [
    "Pretty Close Not sure why these are slightly different end"
   ]
  }
 ],
 "metadata": {
  "anaconda-cloud": {},
  "celltoolbar": "Raw Cell Format",
  "kernelspec": {
   "display_name": "Python [default]",
   "language": "python",
   "name": "python3"
  }
 },
 "nbformat": 4,
 "nbformat_minor": 1
}
