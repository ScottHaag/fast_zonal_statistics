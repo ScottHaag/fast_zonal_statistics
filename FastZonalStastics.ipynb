{
 "cells": [
  {
   "cell_type": "markdown",
   "metadata": {},
   "source": [
    "Import Libraries\n",
    "TO DO\n",
    "1) Describe Grid Location bottom left hand location and Cell Size\n",
    "2) Plot the vector using x y coordinates.\n",
    "3) Compare to Raster Stat Results, need to make sure that it only includes the cells fully inside (not on the border of the vector."
   ]
  },
  {
   "cell_type": "code",
   "execution_count": 11,
   "metadata": {
    "collapsed": false
   },
   "outputs": [
    {
     "name": "stdout",
     "output_type": "stream",
     "text": [
      "1.11.3\n"
     ]
    }
   ],
   "source": [
    "import numpy as np\n",
    "print (np.__version__)\n",
    "from osgeo import gdal\n",
    "from scipy import stats\n",
    "import timeit\n",
    "from rasterstats import zonal_stats\n",
    "from shapely.geometry import Point, Polygon\n",
    "from osgeo import ogr\n",
    "from math import ceil,floor"
   ]
  },
  {
   "cell_type": "raw",
   "metadata": {},
   "source": [
    "Test data Thumbnail"
   ]
  },
  {
   "cell_type": "markdown",
   "metadata": {},
   "source": [
    "<img src=\"data/thumb.png\" alt=\"Drawing\" style=\"width: 300px;\"/>"
   ]
  },
  {
   "cell_type": "markdown",
   "metadata": {},
   "source": [
    "Load test data"
   ]
  },
  {
   "cell_type": "code",
   "execution_count": 12,
   "metadata": {
    "collapsed": false
   },
   "outputs": [],
   "source": [
    "r = gdal.Open(\"data\\\\nlcd_2001_landcover_2011_edition_2014_10_sub.tif\")\n",
    "shape = \"data\\\\test.shp\"\n",
    "g = np.array(r.GetRasterBand(1).ReadAsArray())\n",
    "csze = r.GetGeoTransform()[1]\n",
    "ulX = r.GetGeoTransform()[0]\n",
    "ulY = r.GetGeoTransform()[3]"
   ]
  },
  {
   "cell_type": "markdown",
   "metadata": {
    "collapsed": true
   },
   "source": [
    "Function to create data structure function takes in a grid with mxn and returns a grid of the same size summed by columns.  A vectorized version would be faster"
   ]
  },
  {
   "cell_type": "code",
   "execution_count": 13,
   "metadata": {
    "collapsed": false
   },
   "outputs": [],
   "source": [
    "def dtFZS(g,out):\n",
    "    for xw in range(0,g.shape[1]):\n",
    "        for yw in range(1,g.shape[0]):\n",
    "            out[yw,xw] = out[yw-1,xw] + g[yw,xw]\n",
    "    print(\"done\")"
   ]
  },
  {
   "cell_type": "code",
   "execution_count": 14,
   "metadata": {
    "collapsed": false
   },
   "outputs": [
    {
     "name": "stdout",
     "output_type": "stream",
     "text": [
      "done\n"
     ]
    }
   ],
   "source": [
    "##out = dtFZS(g)\n",
    "DS_FstZS = np.zeros(g.shape,dtype='uint64')\n",
    "dtFZS(g,DS_FstZS)\n"
   ]
  },
  {
   "cell_type": "markdown",
   "metadata": {},
   "source": [
    "Fast Summary Statistics Helper Function"
   ]
  },
  {
   "cell_type": "code",
   "execution_count": 15,
   "metadata": {
    "collapsed": false
   },
   "outputs": [],
   "source": [
    "## Create a function that takes in x1, x2, ulX, and cllsze in world coords and returns list of x locations in grid coordinates\n",
    "def x_world_to_grid(wx1,wx2,ulX,clSze):\n",
    "    x1a = min(wx1,wx2)\n",
    "    x2a = max(wx1,wx2)\n",
    "    \n",
    "    xstart = ceil  ((x1a - ulX - (clSze/2)) / clSze)\n",
    "    xstop =  floor ((x2a - ulX - (clSze/2)) / clSze)\n",
    "\n",
    "    return(list(range(xstart,xstop+1)))\n",
    "\n",
    "## step1 = x_world_to_grid(1608450,1608490,ulX,30)\n",
    "## print(step1)"
   ]
  },
  {
   "cell_type": "code",
   "execution_count": 16,
   "metadata": {
    "collapsed": false
   },
   "outputs": [],
   "source": [
    "## Create a Function that returns the centroid locations in world cordinates\n",
    "## accepts a list as input\n",
    "\n",
    "def x_grid_to_world(gx,ulX,clSze):\n",
    "    return [i * clSze + ulX + (clSze/2) for i in gx]\n",
    "    \n",
    "## step2 = x_grid_to_world(step1,ulX,30)    \n",
    "## print (step2)"
   ]
  },
  {
   "cell_type": "code",
   "execution_count": 17,
   "metadata": {
    "collapsed": false
   },
   "outputs": [],
   "source": [
    "## Create a function that takes in world coordinates of x_pred x1,x2,y1,y2 and returns y_pred as a list\n",
    "def y_world_pred(wx1,wx2,wy1,wy2,wxpred):\n",
    "    slope = 0;\n",
    "    if (wx1 > wx2): ## switch Coords\n",
    "        wx1,wx2,wy1,wy2 = wx2,wx1,wy2,wy1\n",
    "    if(wx1 != wx2):    \n",
    "        slope = (wy2-wy1)/(wx2-wx1)\n",
    "    ##return [ i for i in xpred]\n",
    "    return [(slope * (i-wx1)) + wy1 for i in wxpred]\n",
    "\n",
    "## step3 = y_world_pred(1608450,1608490,2038038,2038070,step2)\n",
    "## print(step3)"
   ]
  },
  {
   "cell_type": "code",
   "execution_count": 18,
   "metadata": {
    "collapsed": false
   },
   "outputs": [],
   "source": [
    "## Snap world y to grid coordinates wy is a list of cords\n",
    "def y_world_to_grid(ulY,clSze,wypred):\n",
    "        return [ceil((ulY - i - (clSze/2)) / clSze ) for i in wypred]\n",
    "\n",
    "## step4 = y_world_to_grid(ulY,30,step3)\n",
    "## print (step4)    "
   ]
  },
  {
   "cell_type": "code",
   "execution_count": 19,
   "metadata": {
    "collapsed": false
   },
   "outputs": [],
   "source": [
    "## Combine all the helper functions to return list of cells to sum\n",
    "\n",
    "def xy_grid(wx1,wx2,ulX,wy1,wy2,ulY,clSze):\n",
    "    ## Diagnosic Print\n",
    "    ##print (\"wx1 = \" + str(wx1) + \" wx2 = \" + str(wx2) + \" ulx = \" +str(ulX))\n",
    "    ##print (\"wy1 = \" + str(wy1) + \" wy2 = \" + str(wx2) + \" uly = \" +str(ulY))\n",
    "    ##print(\"cellsize =\" + str(clSze))\n",
    "    xgrid  = x_world_to_grid(wx1,wx2,ulX,clSze)\n",
    "    wxpred = x_grid_to_world(xgrid,ulX,clSze)  \n",
    "    wypred = y_world_pred(wx1,wx2,wy1,wy2,wxpred)\n",
    "    ygrid = y_world_to_grid(ulY,clSze,wypred)\n",
    "    ##return xgrid\n",
    "    return((ygrid,xgrid))\n"
   ]
  },
  {
   "cell_type": "code",
   "execution_count": 20,
   "metadata": {
    "collapsed": false
   },
   "outputs": [],
   "source": [
    "##  To DO\n",
    "## This function needs to be rewritten to make v a lattice on the grid (not matching the grid locations but between the grid valeus)\n",
    "## and to take coordinates\n",
    "\n",
    "def FstZS(v,DS_FstZS,ulX,ulY,clSze):\n",
    "    total = 0;    \n",
    "    for p in range(1,(len(v)+0)):\n",
    "        ## If moving left\n",
    "        if v[p][0] > v[p-1][0]:\n",
    "            cords = xy_grid(v[p][0],v[p-1][0],ulX,v[p][1],v[p-1][1],ulY,clSze)\n",
    "            print(cords)\n",
    "            total -= np.sum(DS_FstZS[cords])\n",
    "        ## If moving Right\n",
    "        elif v[p][0] < v[p-1][0]: \n",
    "            cords = xy_grid(v[p][0],v[p-1][0],ulX,v[p][1],v[p-1][1],ulY,clSze)\n",
    "            print (cords)  \n",
    "            total += np.sum(DS_FstZS[cords])\n",
    "    return int(total)"
   ]
  },
  {
   "cell_type": "code",
   "execution_count": 24,
   "metadata": {
    "collapsed": false
   },
   "outputs": [],
   "source": [
    "v = [(1608590,2038038),(1608450,2038038),(1608450,2038138),(1608590,2038138),(1608590,2038038)]\n",
    "v = [(1608490,2038038),(1608450,2038038),(1608450,2038138),(1608490,2038138),(1608490,2038038)]\n"
   ]
  },
  {
   "cell_type": "code",
   "execution_count": 25,
   "metadata": {
    "collapsed": false
   },
   "outputs": [
    {
     "name": "stdout",
     "output_type": "stream",
     "text": [
      "([1509], [294])\n",
      "([1506], [294])\n"
     ]
    },
    {
     "data": {
      "text/plain": [
       "246"
      ]
     },
     "execution_count": 25,
     "metadata": {},
     "output_type": "execute_result"
    }
   ],
   "source": [
    "#g.shape\n",
    "test = FstZS(v,DS_FstZS,ulX,ulY,csze)\n",
    "test"
   ]
  },
  {
   "cell_type": "code",
   "execution_count": 26,
   "metadata": {
    "collapsed": false
   },
   "outputs": [
    {
     "name": "stderr",
     "output_type": "stream",
     "text": [
      "C:\\Users\\smh362\\AppData\\Local\\Continuum\\Anaconda3\\lib\\site-packages\\rasterstats\\main.py:145: FutureWarning: The value of this property will change in version 1.0. Please see https://github.com/mapbox/rasterio/issues/86 for details.\n",
      "  with Raster(raster, affine, nodata, band) as rast:\n",
      "C:\\Users\\smh362\\AppData\\Local\\Continuum\\Anaconda3\\lib\\site-packages\\rasterstats\\io.py:242: FutureWarning: GDAL-style transforms are deprecated and will not be supported in Rasterio 1.0.\n",
      "  self.affine = guard_transform(self.src.transform)\n"
     ]
    },
    {
     "data": {
      "text/plain": [
       "[{'sum': 246.0}]"
      ]
     },
     "execution_count": 26,
     "metadata": {},
     "output_type": "execute_result"
    }
   ],
   "source": [
    "### Import Test vector\n",
    "polygon = Polygon(v) \n",
    "zonal_stats(polygon,\"data\\\\nlcd_2001_landcover_2011_edition_2014_10_sub.tif\",stats= \"sum\")"
   ]
  },
  {
   "cell_type": "code",
   "execution_count": null,
   "metadata": {
    "collapsed": true
   },
   "outputs": [],
   "source": []
  }
 ],
 "metadata": {
  "anaconda-cloud": {},
  "celltoolbar": "Raw Cell Format",
  "kernelspec": {
   "display_name": "Python 3",
   "language": "python",
   "name": "python3"
  }
 },
 "nbformat": 4,
 "nbformat_minor": 1
}
