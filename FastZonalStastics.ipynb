{
 "cells": [
  {
   "cell_type": "markdown",
   "metadata": {},
   "source": [
    "Import Libraries\n"
   ]
  },
  {
   "cell_type": "code",
   "execution_count": 26,
   "metadata": {
    "collapsed": true
   },
   "outputs": [],
   "source": [
    "import numpy as np\n",
    "from osgeo import gdal\n",
    "from scipy import stats\n",
    "import timeit"
   ]
  },
  {
   "cell_type": "raw",
   "metadata": {},
   "source": [
    "Test data Thumbnail"
   ]
  },
  {
   "cell_type": "markdown",
   "metadata": {},
   "source": [
    "<img src=\"data/thumb.png\" alt=\"Drawing\" style=\"width: 300px;\"/>"
   ]
  },
  {
   "cell_type": "markdown",
   "metadata": {},
   "source": [
    "Load test data"
   ]
  },
  {
   "cell_type": "code",
   "execution_count": 5,
   "metadata": {
    "collapsed": false
   },
   "outputs": [],
   "source": [
    "r = gdal.Open(\"data\\\\nlcd_2001_landcover_2011_edition_2014_10_sub.tif\")\n",
    "g = np.array(r.GetRasterBand(1).ReadAsArray())"
   ]
  },
  {
   "cell_type": "code",
   "execution_count": 6,
   "metadata": {
    "collapsed": false
   },
   "outputs": [
    {
     "data": {
      "text/plain": [
       "(1734, 2501)"
      ]
     },
     "execution_count": 6,
     "metadata": {},
     "output_type": "execute_result"
    }
   ],
   "source": [
    "##stats.describe(g) \n",
    "out = np.zeros(g.shape,dtype='uint64')\n",
    "g.shape"
   ]
  },
  {
   "cell_type": "markdown",
   "metadata": {
    "collapsed": true
   },
   "source": [
    "Function to create data structure function takes in a grid with mxn and returns a grid with mxnxc where c is the number of classes.  A vectorized version would be faster"
   ]
  },
  {
   "cell_type": "code",
   "execution_count": 7,
   "metadata": {
    "collapsed": false
   },
   "outputs": [],
   "source": [
    "def dtFZS(g,out):\n",
    "    for xw in range(1,g.shape[1]):\n",
    "        for yw in range(1,g.shape[0]):\n",
    "            out[yw,xw] = out[yw-1,xw] + g[yw,xw]\n",
    "    print(\"done\")"
   ]
  },
  {
   "cell_type": "code",
   "execution_count": 8,
   "metadata": {
    "collapsed": false
   },
   "outputs": [
    {
     "name": "stdout",
     "output_type": "stream",
     "text": [
      "done\n"
     ]
    }
   ],
   "source": [
    "##out = dtFZS(g)\n",
    "DS_FstZS = np.zeros(g.shape,dtype='uint64')\n",
    "dtFZS(g,DS_FstZS)\n"
   ]
  },
  {
   "cell_type": "code",
   "execution_count": 9,
   "metadata": {
    "collapsed": false
   },
   "outputs": [
    {
     "data": {
      "text/plain": [
       "DescribeResult(nobs=1734, minmax=(array([0, 0, 0, ..., 0, 0, 0], dtype=uint64), array([     0,  90090,  90537, ..., 113531, 112942, 113583], dtype=uint64)), mean=array([     0.        ,  39471.85870819,  39549.93886967, ...,\n",
       "        55162.80046136,  54622.01153403,  54913.44925029]), variance=array([  0.00000000e+00,   7.43734955e+08,   7.51916039e+08, ...,\n",
       "         1.12397767e+09,   1.11742125e+09,   1.11700624e+09]), skewness=array([ 0.        ,  0.21883235,  0.21780447, ...,  0.09384659,\n",
       "        0.09849129,  0.1000836 ]), kurtosis=array([-3.        , -1.23819352, -1.22937554, ..., -1.22189322,\n",
       "       -1.22273959, -1.20557672]))"
      ]
     },
     "execution_count": 9,
     "metadata": {},
     "output_type": "execute_result"
    }
   ],
   "source": [
    "stats.describe(DS_FstZS)\n",
    "##out.shape"
   ]
  },
  {
   "cell_type": "markdown",
   "metadata": {},
   "source": [
    "Fast Summary Statistics Function\n",
    "    "
   ]
  },
  {
   "cell_type": "code",
   "execution_count": 20,
   "metadata": {
    "collapsed": false
   },
   "outputs": [],
   "source": [
    "def FstZS(v,DS_FstZS):\n",
    "    total = 0;\n",
    "    for p in range(1,len(v)):\n",
    "        ## If moving left\n",
    "        if v[p][1] - v[p-1][1] > 0:\n",
    "            total += DS_FstZS[v[p][0],v[p][1]]\n",
    "        ## If moving Right\n",
    "        elif v[p][1] - v[p-1][1] < 0:\n",
    "            total -= DS_FstZS[v[p][0],v[p][1]]\n",
    "    return int(total)"
   ]
  },
  {
   "cell_type": "code",
   "execution_count": 21,
   "metadata": {
    "collapsed": false
   },
   "outputs": [],
   "source": [
    "## Test Data set\n",
    "z = 1000\n",
    "## Create test box z in size\n",
    "v = [(x,1) for x in range(1,z+1)] + [(z,x) for x in range(1+1,z+1)] + [(x,z) for x in range(z-1,0,-1)] + [(1,x) for x in range(z-1,0,-1)]"
   ]
  },
  {
   "cell_type": "code",
   "execution_count": 36,
   "metadata": {
    "collapsed": false
   },
   "outputs": [
    {
     "data": {
      "text/plain": [
       "47168172"
      ]
     },
     "execution_count": 36,
     "metadata": {},
     "output_type": "execute_result"
    }
   ],
   "source": [
    "#g.shape\n",
    "FstZS(v,DS_FstZS)\n",
    "#%timeit 'FstZS(v,DS_FstZS)'"
   ]
  },
  {
   "cell_type": "code",
   "execution_count": 50,
   "metadata": {
    "collapsed": false
   },
   "outputs": [
    {
     "data": {
      "text/plain": [
       "47168226"
      ]
     },
     "execution_count": 50,
     "metadata": {},
     "output_type": "execute_result"
    }
   ],
   "source": [
    "##%timeit 'np.sum(g[1:1001,1:1001])'\n",
    "np.sum(g[2:1001,2:1001])"
   ]
  },
  {
   "cell_type": "markdown",
   "metadata": {
    "collapsed": true
   },
   "source": [
    "Pretty Close Not sure why these are slightly different"
   ]
  }
 ],
 "metadata": {
  "anaconda-cloud": {},
  "celltoolbar": "Raw Cell Format",
  "kernelspec": {
   "display_name": "Python 3",
   "language": "python",
   "name": "python3"
  },
  "language_info": {
   "codemirror_mode": {
    "name": "ipython",
    "version": 3
   },
   "file_extension": ".py",
   "mimetype": "text/x-python",
   "name": "python",
   "nbconvert_exporter": "python",
   "pygments_lexer": "ipython3",
   "version": "3.6.0"
  }
 },
 "nbformat": 4,
 "nbformat_minor": 1
}
