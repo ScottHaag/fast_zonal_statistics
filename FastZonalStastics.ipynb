{
 "cells": [
  {
   "cell_type": "markdown",
   "metadata": {},
   "source": [
    "Import Libraries\n",
    "TO DO\n",
    "1) Add larger test dataset\n",
    "2) Add Speed Tests\n",
    "3) Create Real Polygons for Testing Purpose"
   ]
  },
  {
   "cell_type": "code",
   "execution_count": 1,
   "metadata": {
    "collapsed": true
   },
   "outputs": [],
   "source": [
    "import numpy as np\n",
    "import gdal\n",
    "from scipy import stats\n",
    "from rasterstats import zonal_stats\n",
    "from shapely.geometry import Point, Polygon\n",
    "import fiona\n",
    "from math import ceil,floor\n",
    "import matplotlib.pyplot as plt\n",
    "import datetime"
   ]
  },
  {
   "cell_type": "raw",
   "metadata": {},
   "source": [
    "Test data Thumbnail"
   ]
  },
  {
   "cell_type": "markdown",
   "metadata": {},
   "source": [
    "<img src=\"data/thumb.png\" alt=\"Drawing\" style=\"width: 300px;\"/>"
   ]
  },
  {
   "cell_type": "code",
   "execution_count": 2,
   "metadata": {
    "collapsed": true
   },
   "outputs": [],
   "source": [
    "## need to download 'http://www.landfire.gov/bulk/downloadfile.php?TYPE=nlcd2011&FNAME=nlcd_2011_impervious_2011_edition_2014_10_10.zip' and extract to /data\n",
    "Grid_Name = \"data\\\\nlcd_2011_impervious_2011_edition_2014_10_cbw.img\"\n",
    "Shapefile_Name = \"test\\\\testPolyCBWall.shp\""
   ]
  },
  {
   "cell_type": "code",
   "execution_count": 3,
   "metadata": {
    "collapsed": true
   },
   "outputs": [],
   "source": [
    "class dtFZS:\n",
    "    def __init__(self, img):\n",
    "\n",
    "        self.r = gdal.Open(Grid_Name)\n",
    "        self.g = np.array(self.r.GetRasterBand(1).ReadAsArray())\n",
    "        \n",
    "        self.clSze = self.r.GetGeoTransform()[1]\n",
    "        self.ulX = self.r.GetGeoTransform()[0]\n",
    "        self.ulY = self.r.GetGeoTransform()[3]\n",
    "        \n",
    "        self.brX = (self.g.shape[0] * self.clSze) + self.ulX\n",
    "        self.brY = self.ulY - (self.g.shape[0] * self.clSze)   \n",
    "        \n",
    "        self.geo = self.r.GetGeoTransform()\n",
    "        \n",
    "        def dtFZS(g,out):\n",
    "            for xw in range(0,self.g.shape[1]):\n",
    "                ##print(xw/g.shape[1])\n",
    "                for yw in range(0,self.g.shape[0]):\n",
    "                    out[yw,xw] = out[yw-1,xw] + self.g[yw,xw]\n",
    "\n",
    "                    \n",
    "        self.data = np.zeros(self.g.shape,dtype='uint64')\n",
    "        \n",
    "        dtFZS(self.g,self.data)"
   ]
  },
  {
   "cell_type": "code",
   "execution_count": 4,
   "metadata": {
    "collapsed": false,
    "scrolled": true
   },
   "outputs": [
    {
     "name": "stdout",
     "output_type": "stream",
     "text": [
      "2018-10-22 11:51:51.058142\n",
      "2018-10-22 12:08:26.019469\n"
     ]
    }
   ],
   "source": [
    "## Create Class for this grid\n",
    "## Takes 16 minutes on Scott's machine\n",
    "print(datetime.datetime.now())\n",
    "dFZS = dtFZS(Grid_Name)\n",
    "print(datetime.datetime.now())"
   ]
  },
  {
   "cell_type": "markdown",
   "metadata": {},
   "source": [
    "Create Helper Functions to move between world and grid cordinates"
   ]
  },
  {
   "cell_type": "code",
   "execution_count": 5,
   "metadata": {
    "collapsed": true
   },
   "outputs": [],
   "source": [
    "## Input (world cords; x1, x2, Grid Upper Left, and Cellsize)\n",
    "## Returns (grid cords; list(x))\n",
    "## x1 and x2 represent vertexes on a polygon in order\n",
    "\n",
    "def x_world_to_grid(wx1,wx2,dtFZS):\n",
    "    \n",
    "    x1a = min(wx1,wx2)\n",
    "    x2a = max(wx1,wx2)\n",
    "    \n",
    "    xstart = ceil  ((x1a - dtFZS.ulX - (dtFZS.clSze/2)) / dtFZS.clSze)\n",
    "    xstop =  floor ((x2a - dtFZS.ulX - (dtFZS.clSze/2)) / dtFZS.clSze)\n",
    "\n",
    "    return(list(range(xstart,xstop+1)))"
   ]
  },
  {
   "cell_type": "code",
   "execution_count": 6,
   "metadata": {
    "collapsed": true
   },
   "outputs": [],
   "source": [
    "## Input (grid cords; list(x))\n",
    "## Returns(world cords centroid ;(list(X)))\n",
    "\n",
    "def x_grid_to_world(gx,dtFZS):\n",
    "    return [i * dtFZS.clSze + dtFZS.ulX + (dtFZS.clSze/2) for i in gx]"
   ]
  },
  {
   "cell_type": "code",
   "execution_count": 7,
   "metadata": {
    "collapsed": true
   },
   "outputs": [],
   "source": [
    "## Input(world cords centroid ;(list(X)))\n",
    "## Returns(world cords centroid ;(list(y)))\n",
    "\n",
    "def y_world_pred(wx1,wx2,wy1,wy2,wxpred):\n",
    "    slope = 0;\n",
    "    if (wx1 > wx2):\n",
    "        wx1,wx2,wy1,wy2 = wx2,wx1,wy2,wy1\n",
    "    if(wx1 != wx2):    \n",
    "        slope = (wy2-wy1)/(wx2-wx1)\n",
    "\n",
    "    return [(slope * (i-wx1)) + wy1 for i in wxpred]"
   ]
  },
  {
   "cell_type": "code",
   "execution_count": 8,
   "metadata": {
    "collapsed": true
   },
   "outputs": [],
   "source": [
    "## Input(world cords centroid ;(list(y)))\n",
    "## Returns (grid cords; list(y))\n",
    "\n",
    "def y_world_to_grid(wypred,dtFZS):\n",
    "        return [floor((dtFZS.ulY - i - (dtFZS.clSze/2)) / dtFZS.clSze ) for i in wypred] "
   ]
  },
  {
   "cell_type": "code",
   "execution_count": 9,
   "metadata": {
    "collapsed": true
   },
   "outputs": [],
   "source": [
    "## Input(world Cords for 2 vertexes on a polygon, TL corner of grid, and cellsize)\n",
    "## Returns(y,x grid cords)\n",
    "\n",
    "def xy_grid(wx1,wx2,wy1,wy2,dtFZS):\n",
    "    xgrid  = x_world_to_grid(wx1,wx2,dtFZS)\n",
    "    wxpred = x_grid_to_world(xgrid,dtFZS)  \n",
    "    wypred = y_world_pred(wx1,wx2,wy1,wy2,wxpred)\n",
    "    ygrid  = y_world_to_grid(wypred,dtFZS)\n",
    "    \n",
    "    ## Remove negative arrays above\n",
    "    idx = np.array([True if i >= 0 else False for i in ygrid],dtype=bool)\n",
    "    \n",
    "    xgrid = np.array(xgrid)[idx]\n",
    "    ygrid = np.array(ygrid)[idx]\n",
    "    \n",
    "    cords = ((ygrid,xgrid))\n",
    "    return cords"
   ]
  },
  {
   "cell_type": "code",
   "execution_count": 10,
   "metadata": {
    "collapsed": true
   },
   "outputs": [],
   "source": [
    "## Input(list of cords in world, summed down grid, real-world grid tl, cllSze)\n",
    "## Output Sum v in polygon\n",
    "\n",
    "def FstZS(feat,DS_FstZS):\n",
    "    v = feat['geometry']['coordinates'][0]  #have not tested\n",
    "    total = 0;    \n",
    "    for p in range(1,(len(v)+0)):\n",
    "        if v[p][0] > v[p-1][0]:\n",
    "            cords = xy_grid(v[p][0],v[p-1][0],v[p][1],v[p-1][1],DS_FstZS)\n",
    "            if len(cords[0]) > 0:\n",
    "                total -= np.sum(DS_FstZS.data[cords])\n",
    "        elif v[p][0] < v[p-1][0]: \n",
    "            cords = xy_grid(v[p][0],v[p-1][0],v[p][1],v[p-1][1],DS_FstZS)\n",
    "            if len(cords[0]) > 0:\n",
    "                total += np.sum(DS_FstZS.data[cords])\n",
    "    return int(total)"
   ]
  },
  {
   "cell_type": "code",
   "execution_count": 13,
   "metadata": {
    "collapsed": true
   },
   "outputs": [],
   "source": [
    "## Input(fiona geometry)\n",
    "## Returns a tuple with the FstZS and rasterstats output\n",
    "\n",
    "def test(feat):\n",
    "    \n",
    "    start = datetime.datetime.now()\n",
    "    FstZSout = FstZS(feat, dFZS)\n",
    "    middle = datetime.datetime.now()\n",
    "    Rastsout = zonal_stats(feat, Grid_Name,stats= \"sum\", nodata=None)\n",
    "    end = datetime.datetime.now()\n",
    "    \n",
    "    return (float(FstZSout) , float(Rastsout[0]['sum']),middle-start,end-middle )"
   ]
  },
  {
   "cell_type": "code",
   "execution_count": 36,
   "metadata": {
    "collapsed": false
   },
   "outputs": [
    {
     "name": "stdout",
     "output_type": "stream",
     "text": [
      "2\n",
      "4\n",
      "4\n",
      "4\n",
      "4\n",
      "6\n",
      "6\n",
      "6\n",
      "6\n",
      "8\n",
      "8\n",
      "8\n",
      "8\n",
      "10\n",
      "10\n",
      "10\n",
      "10\n",
      "12\n",
      "12\n",
      "12\n",
      "12\n"
     ]
    }
   ],
   "source": [
    "for feat in fiona.open(Shapefile_Name):\n",
    "    print(feat['properties']['area_km'])"
   ]
  },
  {
   "cell_type": "code",
   "execution_count": 14,
   "metadata": {
    "collapsed": false
   },
   "outputs": [
    {
     "name": "stderr",
     "output_type": "stream",
     "text": [
      "C:\\Users\\smh362\\AppData\\Local\\Continuum\\Anaconda3\\lib\\site-packages\\rasterstats\\main.py:145: FutureWarning: The value of this property will change in version 1.0. Please see https://github.com/mapbox/rasterio/issues/86 for details.\n",
      "  with Raster(raster, affine, nodata, band) as rast:\n",
      "C:\\Users\\smh362\\AppData\\Local\\Continuum\\Anaconda3\\lib\\site-packages\\rasterstats\\io.py:242: FutureWarning: GDAL-style transforms are deprecated and will not be supported in Rasterio 1.0.\n",
      "  self.affine = guard_transform(self.src.transform)\n"
     ]
    },
    {
     "name": "stdout",
     "output_type": "stream",
     "text": [
      "completed hucLevel: 4 results: (75097455.0, 75097455.0, datetime.timedelta(0, 0, 998004), datetime.timedelta(0, 4, 461797))\n",
      "completed hucLevel: 4 results: (138308609.0, 138308609.0, datetime.timedelta(0, 1, 921172), datetime.timedelta(0, 10, 661362))\n",
      "completed hucLevel: 4 results: (137562599.0, 137562599.0, datetime.timedelta(0, 3, 81614), datetime.timedelta(0, 17, 782168))\n",
      "completed hucLevel: 4 results: (113967403.0, 113967403.0, datetime.timedelta(0, 2, 366183), datetime.timedelta(0, 14, 34016))\n",
      "completed hucLevel: 6 results: (75097455.0, 75097455.0, datetime.timedelta(0, 0, 993595), datetime.timedelta(0, 4, 444651))\n",
      "completed hucLevel: 6 results: (15682206.0, 15682206.0, datetime.timedelta(0, 1, 96319), datetime.timedelta(0, 4, 821993))\n",
      "completed hucLevel: 6 results: (43807532.0, 43807532.0, datetime.timedelta(0, 2, 89318), datetime.timedelta(0, 9, 274272))\n",
      "completed hucLevel: 6 results: (75733292.0, 75733292.0, datetime.timedelta(0, 1, 685986), datetime.timedelta(0, 7, 330317))\n",
      "completed hucLevel: 8 results: (30722824.0, 30722824.0, datetime.timedelta(0, 0, 631339), datetime.timedelta(0, 2, 244930))\n",
      "completed hucLevel: 8 results: (2307558.0, 2307558.0, datetime.timedelta(0, 0, 638093), datetime.timedelta(0, 2, 104900))\n",
      "completed hucLevel: 8 results: (7606454.0, 7606454.0, datetime.timedelta(0, 0, 523053), datetime.timedelta(0, 2, 116185))\n",
      "completed hucLevel: 8 results: (3527751.0, 3527751.0, datetime.timedelta(0, 0, 361936), datetime.timedelta(0, 1, 560197))\n",
      "completed hucLevel: 10 results: (463238.0, 463238.0, datetime.timedelta(0, 0, 156246), datetime.timedelta(0, 1, 235269))\n",
      "completed hucLevel: 10 results: (355028.0, 355028.0, datetime.timedelta(0, 0, 203074), datetime.timedelta(0, 1, 269756))\n",
      "completed hucLevel: 10 results: (6180231.0, 6180231.0, datetime.timedelta(0, 0, 159375), datetime.timedelta(0, 1, 399752))\n",
      "completed hucLevel: 10 results: (457054.0, 457054.0, datetime.timedelta(0, 0, 62514), datetime.timedelta(0, 1, 193073))\n",
      "completed hucLevel: 12 results: (57067.0, 57067.0, datetime.timedelta(0, 0, 62480), datetime.timedelta(0, 1, 110439))\n",
      "completed hucLevel: 12 results: (86581.0, 86581.0, datetime.timedelta(0, 0, 62488), datetime.timedelta(0, 1, 184986))\n",
      "completed hucLevel: 12 results: (38039.0, 38039.0, datetime.timedelta(0, 0, 82784), datetime.timedelta(0, 1, 103810))\n",
      "completed hucLevel: 12 results: (163525.0, 163525.0, datetime.timedelta(0, 0, 62484), datetime.timedelta(0, 1, 105641))\n"
     ]
    }
   ],
   "source": [
    "## Loops over input shapefile polygons and runs the test function on each\n",
    "\n",
    "maxHucLevel = 4\n",
    "\n",
    "tst = list()\n",
    "\n",
    "for feat in fiona.open(Shapefile_Name):\n",
    "    if feat['properties']['hucLevel'] >= maxHucLevel:\n",
    "        result = test(feat)\n",
    "        tst.append(result)\n",
    "        print('completed hucLevel:',feat['properties']['hucLevel'],'results:',result)\n",
    "        "
   ]
  },
  {
   "cell_type": "code",
   "execution_count": 15,
   "metadata": {
    "collapsed": false
   },
   "outputs": [
    {
     "name": "stdout",
     "output_type": "stream",
     "text": [
      "[(75097455.0, 75097455.0, datetime.timedelta(0, 0, 998004), datetime.timedelta(0, 4, 461797)), (138308609.0, 138308609.0, datetime.timedelta(0, 1, 921172), datetime.timedelta(0, 10, 661362)), (137562599.0, 137562599.0, datetime.timedelta(0, 3, 81614), datetime.timedelta(0, 17, 782168)), (113967403.0, 113967403.0, datetime.timedelta(0, 2, 366183), datetime.timedelta(0, 14, 34016)), (75097455.0, 75097455.0, datetime.timedelta(0, 0, 993595), datetime.timedelta(0, 4, 444651)), (15682206.0, 15682206.0, datetime.timedelta(0, 1, 96319), datetime.timedelta(0, 4, 821993)), (43807532.0, 43807532.0, datetime.timedelta(0, 2, 89318), datetime.timedelta(0, 9, 274272)), (75733292.0, 75733292.0, datetime.timedelta(0, 1, 685986), datetime.timedelta(0, 7, 330317)), (30722824.0, 30722824.0, datetime.timedelta(0, 0, 631339), datetime.timedelta(0, 2, 244930)), (2307558.0, 2307558.0, datetime.timedelta(0, 0, 638093), datetime.timedelta(0, 2, 104900)), (7606454.0, 7606454.0, datetime.timedelta(0, 0, 523053), datetime.timedelta(0, 2, 116185)), (3527751.0, 3527751.0, datetime.timedelta(0, 0, 361936), datetime.timedelta(0, 1, 560197)), (463238.0, 463238.0, datetime.timedelta(0, 0, 156246), datetime.timedelta(0, 1, 235269)), (355028.0, 355028.0, datetime.timedelta(0, 0, 203074), datetime.timedelta(0, 1, 269756)), (6180231.0, 6180231.0, datetime.timedelta(0, 0, 159375), datetime.timedelta(0, 1, 399752)), (457054.0, 457054.0, datetime.timedelta(0, 0, 62514), datetime.timedelta(0, 1, 193073)), (57067.0, 57067.0, datetime.timedelta(0, 0, 62480), datetime.timedelta(0, 1, 110439)), (86581.0, 86581.0, datetime.timedelta(0, 0, 62488), datetime.timedelta(0, 1, 184986)), (38039.0, 38039.0, datetime.timedelta(0, 0, 82784), datetime.timedelta(0, 1, 103810)), (163525.0, 163525.0, datetime.timedelta(0, 0, 62484), datetime.timedelta(0, 1, 105641))]\n"
     ]
    },
    {
     "data": {
      "image/png": "[encoded data removed]",
      "text/plain": [
       "<matplotlib.figure.Figure at 0x15af18927f0>"
      ]
     },
     "metadata": {},
     "output_type": "display_data"
    }
   ],
   "source": [
    "print(tst)\n",
    "plt.scatter(y=[t[1] for t in tst],x= [t[0] for t in tst])\n",
    "plt.xlabel(\"Fast Zonal Method\")\n",
    "plt.ylabel(\"Raster Stats\")              \n",
    "plt.show()   "
   ]
  },
  {
   "cell_type": "code",
   "execution_count": 26,
   "metadata": {
    "collapsed": false
   },
   "outputs": [
    {
     "data": {
      "text/plain": [
       "[4.461797,\n",
       " 10.661362,\n",
       " 17.782168,\n",
       " 14.034016,\n",
       " 4.444651,\n",
       " 4.821993,\n",
       " 9.274272,\n",
       " 7.330317,\n",
       " 2.24493,\n",
       " 2.1049,\n",
       " 2.116185,\n",
       " 1.560197,\n",
       " 1.235269,\n",
       " 1.269756,\n",
       " 1.399752,\n",
       " 1.193073,\n",
       " 1.110439,\n",
       " 1.184986,\n",
       " 1.10381,\n",
       " 1.105641]"
      ]
     },
     "execution_count": 26,
     "metadata": {},
     "output_type": "execute_result"
    }
   ],
   "source": [
    "[t[3].total_seconds() for t in tst]"
   ]
  },
  {
   "cell_type": "code",
   "execution_count": 31,
   "metadata": {
    "collapsed": false
   },
   "outputs": [
    {
     "name": "stdout",
     "output_type": "stream",
     "text": [
      "[(75097455.0, 75097455.0, datetime.timedelta(0, 0, 998004), datetime.timedelta(0, 4, 461797)), (138308609.0, 138308609.0, datetime.timedelta(0, 1, 921172), datetime.timedelta(0, 10, 661362)), (137562599.0, 137562599.0, datetime.timedelta(0, 3, 81614), datetime.timedelta(0, 17, 782168)), (113967403.0, 113967403.0, datetime.timedelta(0, 2, 366183), datetime.timedelta(0, 14, 34016)), (75097455.0, 75097455.0, datetime.timedelta(0, 0, 993595), datetime.timedelta(0, 4, 444651)), (15682206.0, 15682206.0, datetime.timedelta(0, 1, 96319), datetime.timedelta(0, 4, 821993)), (43807532.0, 43807532.0, datetime.timedelta(0, 2, 89318), datetime.timedelta(0, 9, 274272)), (75733292.0, 75733292.0, datetime.timedelta(0, 1, 685986), datetime.timedelta(0, 7, 330317)), (30722824.0, 30722824.0, datetime.timedelta(0, 0, 631339), datetime.timedelta(0, 2, 244930)), (2307558.0, 2307558.0, datetime.timedelta(0, 0, 638093), datetime.timedelta(0, 2, 104900)), (7606454.0, 7606454.0, datetime.timedelta(0, 0, 523053), datetime.timedelta(0, 2, 116185)), (3527751.0, 3527751.0, datetime.timedelta(0, 0, 361936), datetime.timedelta(0, 1, 560197)), (463238.0, 463238.0, datetime.timedelta(0, 0, 156246), datetime.timedelta(0, 1, 235269)), (355028.0, 355028.0, datetime.timedelta(0, 0, 203074), datetime.timedelta(0, 1, 269756)), (6180231.0, 6180231.0, datetime.timedelta(0, 0, 159375), datetime.timedelta(0, 1, 399752)), (457054.0, 457054.0, datetime.timedelta(0, 0, 62514), datetime.timedelta(0, 1, 193073)), (57067.0, 57067.0, datetime.timedelta(0, 0, 62480), datetime.timedelta(0, 1, 110439)), (86581.0, 86581.0, datetime.timedelta(0, 0, 62488), datetime.timedelta(0, 1, 184986)), (38039.0, 38039.0, datetime.timedelta(0, 0, 82784), datetime.timedelta(0, 1, 103810)), (163525.0, 163525.0, datetime.timedelta(0, 0, 62484), datetime.timedelta(0, 1, 105641))]\n"
     ]
    },
    {
     "data": {
      "image/png": "[encoded data removed]",
      "text/plain": [
       "<matplotlib.figure.Figure at 0x15a807a1898>"
      ]
     },
     "metadata": {},
     "output_type": "display_data"
    }
   ],
   "source": [
    "print(tst)\n",
    "plt.scatter(y=[t[3].total_seconds() for t in tst],x= [t[2].total_seconds() for t in tst])\n",
    "plt.xlabel(\"Fast Zonal Method\")\n",
    "plt.ylabel(\"Raster Stats\")\n",
    "##plt.axis('equal')\n",
    "plt.xlim(0, 20)\n",
    "plt.ylim(0, 20)\n",
    "plt.show() "
   ]
  },
  {
   "cell_type": "code",
   "execution_count": null,
   "metadata": {
    "collapsed": true
   },
   "outputs": [],
   "source": []
  }
 ],
 "metadata": {
  "anaconda-cloud": {},
  "celltoolbar": "Raw Cell Format",
  "kernelspec": {
   "display_name": "Python 3",
   "language": "python",
   "name": "python3"
  },
  "language_info": {
   "codemirror_mode": {
    "name": "ipython",
    "version": 3
   },
   "file_extension": ".py",
   "mimetype": "text/x-python",
   "name": "python",
   "nbconvert_exporter": "python",
   "pygments_lexer": "ipython3",
   "version": "3.6.0"
  }
 },
 "nbformat": 4,
 "nbformat_minor": 1
}
