{
 "cells": [
  {
   "cell_type": "markdown",
   "metadata": {},
   "source": [
    "Import Libraries\n",
    "TO DO\n",
    "1) Add larger test dataset\n",
    "2) Add Speed Tests\n",
    "3) Create Real Polygons for Testing Purpose"
   ]
  },
  {
   "cell_type": "code",
   "execution_count": 1,
   "metadata": {
    "collapsed": true
   },
   "outputs": [],
   "source": [
    "import numpy as np\n",
    "from osgeo import gdal\n",
    "from scipy import stats\n",
    "from rasterstats import zonal_stats\n",
    "from shapely.geometry import Point, Polygon\n",
    "from osgeo import ogr\n",
    "from math import ceil,floor\n",
    "import matplotlib.pyplot as plt"
   ]
  },
  {
   "cell_type": "raw",
   "metadata": {},
   "source": [
    "Test data Thumbnail"
   ]
  },
  {
   "cell_type": "markdown",
   "metadata": {},
   "source": [
    "<img src=\"data/thumb.png\" alt=\"Drawing\" style=\"width: 300px;\"/>"
   ]
  },
  {
   "cell_type": "code",
   "execution_count": 2,
   "metadata": {
    "collapsed": true
   },
   "outputs": [],
   "source": [
    "## Warning You will need 65 gb to create the memory map for the CU imper sum down data type"
   ]
  },
  {
   "cell_type": "code",
   "execution_count": 3,
   "metadata": {
    "collapsed": true
   },
   "outputs": [],
   "source": [
    "Grid_Name  = \"data\\\\nlcd_2011_impervious_2011_edition_2014_10_10\\\\nlcd_2011_impervious_2011_edition_2014_10_10.img\"\n",
    "memory_map_Name = \"data\\\\nlcd_imp.mmp\"\n",
    "Shapefile_Name = \"test\\\\testPolys.shp\""
   ]
  },
  {
   "cell_type": "code",
   "execution_count": 21,
   "metadata": {
    "collapsed": false
   },
   "outputs": [],
   "source": [
    "r = gdal.Open(Grid_Name)\n",
    "r.GetGeoTransform()\n",
    "r.RasterXSize\n",
    "band = r.GetRasterBand(1)\n",
    "\n",
    "\n",
    "1 + float(band.ReadAsArray(10000,20000,1,1))\n",
    "r.GetRasterBand(1).DataType\n",
    "\n",
    "\n",
    "data = np.memmap(memory_map_Name, dtype='float32', mode='w+', shape=(r.RasterYSize,r.RasterXSize))\n",
    " \n",
    " "
   ]
  },
  {
   "cell_type": "code",
   "execution_count": 22,
   "metadata": {
    "collapsed": false
   },
   "outputs": [],
   "source": [
    "##Rewrite to do by columns\n",
    "def dtFZS(ybnd,xbnd,out,band):\n",
    "    for yw in range(0,ybnd):\n",
    "        print (yw/ybnd)\n",
    "        for xw in range(0,xbnd):\n",
    "            out[yw,xw] = out[yw-1,xw] + float(band.ReadAsArray(xw,yw,1,1))"
   ]
  },
  {
   "cell_type": "code",
   "execution_count": null,
   "metadata": {
    "collapsed": false
   },
   "outputs": [],
   "source": []
  },
  {
   "cell_type": "code",
   "execution_count": 24,
   "metadata": {
    "collapsed": true
   },
   "outputs": [],
   "source": [
    "def rmp(Yt,Xt,Y,X,y,x):\n",
    "    DY = (floor((Y-1)/y)) * y; dy = Y - DY;\n",
    "    DX = (floor((X-1)/x)) * x; dx = X - DX;\n",
    " \n",
    "    p1 = DX * Yt;\n",
    "    p2 = DY * x;\n",
    "    p3 = y * (dx-1) ;\n",
    "    p4 = dy   \n",
    "    pos = p1 + p2 + p3 + p4;\n",
    "    return(int(pos-1));\n"
   ]
  },
  {
   "cell_type": "code",
   "execution_count": 112,
   "metadata": {
    "collapsed": false
   },
   "outputs": [],
   "source": [
    "# Function to read the raster as arrays for the chosen block size.\n",
    "def create_sum_down(x_block_size, y_block_size,raster,mmp):\n",
    "    ds = gdal.Open(raster)\n",
    "    band = ds.GetRasterBand(1)\n",
    "    xsize = band.XSize\n",
    "    ysize = band.YSize\n",
    "    blocks = 0\n",
    "    for y in range(0, ysize, y_block_size):\n",
    "        print(y/ysize)\n",
    "        if y + y_block_size < ysize:\n",
    "            rows = y_block_size\n",
    "        else:\n",
    "            rows = ysize - y\n",
    "        for x in range(0, xsize, x_block_size):\n",
    "            if x + x_block_size < xsize:\n",
    "                cols = x_block_size\n",
    "            else:\n",
    "                cols = xsize - x\n",
    "            array = band.ReadAsArray(x, y, cols, rows)\n",
    "            ##print(cols)\n",
    "            #print(y)           \n",
    "            mmp[y:y+rows,x:x+cols] = array  ## + mmp[y-1:y+rows-1,x:x+cols]\n",
    "            del array\n",
    "            blocks += 1\n",
    "    band = None\n",
    "    ds = None\n"
   ]
  },
  {
   "cell_type": "code",
   "execution_count": null,
   "metadata": {
    "collapsed": true
   },
   "outputs": [],
   "source": [
    "def part2(mmp):\n",
    "    for yw in range(1,mmp.shape[0])\n",
    "        print(ysize,yw)\n",
    "        for xw in range(mmp.shape[1])\n",
    "            mmp[yw,xw] += mmp[yw-,xw]\n",
    "    \n",
    "    "
   ]
  },
  {
   "cell_type": "code",
   "execution_count": null,
   "metadata": {
    "collapsed": true
   },
   "outputs": [],
   "source": [
    "part2(data)"
   ]
  },
  {
   "cell_type": "code",
   "execution_count": null,
   "metadata": {
    "collapsed": false
   },
   "outputs": [
    {
     "name": "stdout",
     "output_type": "stream",
     "text": [
      "9.576342603232974e-06\n",
      "0.002461120049030874\n",
      "0.0049126637554585155\n",
      "0.007364207461886156\n",
      "0.009815751168313798\n",
      "0.012267294874741439\n",
      "0.01471883858116908\n",
      "0.017170382287596722\n",
      "0.01962192599402436\n",
      "0.022073469700452004\n",
      "0.024525013406879643\n",
      "0.026976557113307285\n",
      "0.029428100819734928\n",
      "0.03187964452616257\n",
      "0.03433118823259021\n",
      "0.03678273193901785\n",
      "0.039234275645445495\n",
      "0.041685819351873134\n",
      "0.04413736305830077\n",
      "0.04658890676472841\n",
      "0.04904045047115606\n",
      "0.0514919941775837\n",
      "0.053943537884011336\n",
      "0.05639508159043898\n",
      "0.05884662529686662\n",
      "0.06129816900329426\n",
      "0.0637497127097219\n",
      "0.06620125641614955\n",
      "0.06865280012257718\n",
      "0.07110434382900482\n",
      "0.07355588753543246\n",
      "0.07600743124186012\n",
      "0.07845897494828775\n",
      "0.0809105186547154\n",
      "0.08336206236114303\n",
      "0.08581360606757067\n",
      "0.08826514977399831\n",
      "0.09071669348042595\n",
      "0.0931682371868536\n",
      "0.09561978089328124\n",
      "0.09807132459970888\n",
      "0.10052286830613652\n",
      "0.10297441201256416\n",
      "0.1054259557189918\n",
      "0.10787749942541944\n",
      "0.11032904313184709\n",
      "0.11278058683827473\n",
      "0.11523213054470237\n",
      "0.11768367425113001\n",
      "0.12013521795755765\n",
      "0.12258676166398529\n",
      "0.12503830537041294\n",
      "0.12748984907684058\n",
      "0.12994139278326822\n",
      "0.13239293648969586\n",
      "0.1348444801961235\n",
      "0.13729602390255113\n",
      "0.13974756760897877\n",
      "0.1421991113154064\n",
      "0.14465065502183405\n",
      "0.1471021987282617\n",
      "0.14955374243468933\n",
      "0.152005286141117\n",
      "0.15445682984754464\n",
      "0.15690837355397227\n",
      "0.1593599172603999\n",
      "0.16181146096682755\n",
      "0.1642630046732552\n",
      "0.16671454837968283\n",
      "0.16916609208611047\n",
      "0.1716176357925381\n",
      "0.17406917949896575\n",
      "0.1765207232053934\n",
      "0.17897226691182103\n",
      "0.18142381061824867\n",
      "0.18387535432467633\n",
      "0.18632689803110397\n",
      "0.1887784417375316\n",
      "0.19122998544395925\n",
      "0.1936815291503869\n",
      "0.19613307285681453\n",
      "0.19858461656324217\n",
      "0.2010361602696698\n",
      "0.20348770397609744\n",
      "0.20593924768252508\n",
      "0.20839079138895272\n",
      "0.21084233509538036\n",
      "0.213293878801808\n",
      "0.21574542250823567\n",
      "0.2181969662146633\n",
      "0.22064850992109095\n",
      "0.22310005362751859\n",
      "0.22555159733394622\n",
      "0.22800314104037386\n",
      "0.2304546847468015\n",
      "0.23290622845322914\n",
      "0.23535777215965678\n",
      "0.23780931586608442\n",
      "0.24026085957251206\n",
      "0.2427124032789397\n",
      "0.24516394698536734\n",
      "0.24761549069179498\n",
      "0.25006703439822264\n",
      "0.2525185781046503\n",
      "0.2549701218110779\n",
      "0.25742166551750556\n",
      "0.2598732092239332\n",
      "0.26232475293036084\n",
      "0.2647762966367885\n",
      "0.2672278403432161\n",
      "0.26967938404964376\n",
      "0.2721309277560714\n",
      "0.27458247146249903\n",
      "0.2770340151689267\n",
      "0.2794855588753543\n",
      "0.28193710258178195\n",
      "0.2843886462882096\n",
      "0.28684018999463723\n",
      "0.28929173370106487\n",
      "0.2917432774074925\n",
      "0.29419482111392015\n",
      "0.2966463648203478\n",
      "0.2990979085267755\n",
      "0.3015494522332031\n",
      "0.30400099593963076\n",
      "0.3064525396460584\n",
      "0.30890408335248604\n",
      "0.3113556270589137\n",
      "0.3138071707653413\n",
      "0.31625871447176895\n",
      "0.3187102581781966\n",
      "0.32116180188462423\n",
      "0.32361334559105187\n",
      "0.3260648892974795\n",
      "0.32851643300390715\n",
      "0.3309679767103348\n",
      "0.3334195204167624\n",
      "0.33587106412319007\n",
      "0.3383226078296177\n",
      "0.34077415153604534\n",
      "0.343225695242473\n",
      "0.3456772389489006\n",
      "0.34812878265532826\n",
      "0.3505803263617559\n",
      "0.35303187006818354\n",
      "0.3554834137746112\n",
      "0.3579349574810388\n",
      "0.36038650118746646\n",
      "0.36283804489389415\n",
      "0.3652895886003218\n",
      "0.36774113230674943\n",
      "0.37019267601317707\n",
      "0.3726442197196047\n",
      "0.37509576342603235\n",
      "0.37754730713246\n",
      "0.3799988508388876\n",
      "0.38245039454531526\n",
      "0.3849019382517429\n",
      "0.38735348195817054\n",
      "0.3898050256645982\n",
      "0.3922565693710258\n",
      "0.39470811307745346\n",
      "0.3971596567838811\n",
      "0.39961120049030874\n",
      "0.4020627441967364\n",
      "0.404514287903164\n",
      "0.40696583160959166\n",
      "0.4094173753160193\n",
      "0.41186891902244693\n",
      "0.4143204627288746\n",
      "0.4167720064353022\n",
      "0.41922355014172985\n",
      "0.4216750938481575\n",
      "0.42412663755458513\n",
      "0.42657818126101277\n",
      "0.42902972496744046\n",
      "0.4314812686738681\n",
      "0.43393281238029574\n",
      "0.4363843560867234\n",
      "0.438835899793151\n",
      "0.44128744349957866\n",
      "0.4437389872060063\n",
      "0.44619053091243394\n",
      "0.4486420746188616\n",
      "0.4510936183252892\n",
      "0.45354516203171685\n",
      "0.4559967057381445\n",
      "0.45844824944457213\n",
      "0.46089979315099977\n",
      "0.4633513368574274\n",
      "0.46580288056385505\n",
      "0.4682544242702827\n",
      "0.4707059679767103\n",
      "0.47315751168313797\n",
      "0.4756090553895656\n",
      "0.47806059909599324\n",
      "0.4805121428024209\n",
      "0.4829636865088485\n",
      "0.48541523021527616\n",
      "0.4878667739217038\n",
      "0.49031831762813144\n",
      "0.4927698613345591\n",
      "0.4952214050409868\n",
      "0.4976729487474144\n",
      "0.500124492453842\n",
      "0.5025760361602697\n",
      "0.5050275798666973\n",
      "0.507479123573125\n",
      "0.5099306672795526\n",
      "0.5123822109859802\n",
      "0.5148337546924079\n",
      "0.5172852983988355\n",
      "0.5197368421052632\n",
      "0.5221883858116908\n",
      "0.5246399295181184\n",
      "0.5270914732245461\n",
      "0.5295430169309737\n",
      "0.5319945606374014\n",
      "0.534446104343829\n",
      "0.5368976480502566\n",
      "0.5393491917566843\n",
      "0.5418007354631119\n",
      "0.5442522791695396\n",
      "0.5467038228759672\n",
      "0.5491553665823948\n",
      "0.5516069102888225\n",
      "0.5540584539952501\n",
      "0.5565099977016777\n",
      "0.5589615414081054\n",
      "0.561413085114533\n",
      "0.5638646288209607\n",
      "0.5663161725273883\n",
      "0.568767716233816\n",
      "0.5712192599402436\n",
      "0.5736708036466712\n",
      "0.5761223473530989\n",
      "0.5785738910595265\n",
      "0.5810254347659541\n",
      "0.5834769784723818\n",
      "0.5859285221788094\n",
      "0.5883800658852371\n",
      "0.5908316095916647\n",
      "0.5932831532980924\n",
      "0.5957346970045201\n",
      "0.5981862407109477\n",
      "0.6006377844173754\n",
      "0.603089328123803\n",
      "0.6055408718302306\n",
      "0.6079924155366583\n",
      "0.6104439592430859\n",
      "0.6128955029495136\n",
      "0.6153470466559412\n",
      "0.6177985903623688\n",
      "0.6202501340687965\n",
      "0.6227016777752241\n",
      "0.6251532214816518\n",
      "0.6276047651880794\n",
      "0.630056308894507\n",
      "0.6325078526009347\n",
      "0.6349593963073623\n",
      "0.63741094001379\n",
      "0.6398624837202176\n",
      "0.6423140274266452\n",
      "0.6447655711330729\n",
      "0.6472171148395005\n",
      "0.6496686585459281\n",
      "0.6521202022523558\n",
      "0.6545717459587834\n",
      "0.6570232896652111\n",
      "0.6594748333716387\n",
      "0.6619263770780663\n",
      "0.664377920784494\n",
      "0.6668294644909216\n",
      "0.6692810081973493\n",
      "0.6717325519037769\n",
      "0.6741840956102045\n",
      "0.6766356393166322\n",
      "0.6790871830230598\n",
      "0.6815387267294875\n",
      "0.6839902704359151\n",
      "0.6864418141423427\n",
      "0.6888933578487704\n",
      "0.691344901555198\n",
      "0.6937964452616256\n",
      "0.6962479889680533\n",
      "0.6986995326744809\n",
      "0.7011510763809086\n",
      "0.7036026200873362\n",
      "0.7060541637937638\n",
      "0.7085057075001915\n",
      "0.7109572512066191\n",
      "0.7134087949130468\n",
      "0.7158603386194744\n",
      "0.718311882325902\n",
      "0.7207634260323297\n",
      "0.7232149697387573\n",
      "0.7256665134451851\n",
      "0.7281180571516127\n",
      "0.7305696008580403\n",
      "0.733021144564468\n",
      "0.7354726882708956\n",
      "0.7379242319773233\n",
      "0.7403757756837509\n",
      "0.7428273193901785\n",
      "0.7452788630966062\n",
      "0.7477304068030338\n",
      "0.7501819505094615\n",
      "0.7526334942158891\n",
      "0.7550850379223167\n",
      "0.7575365816287444\n",
      "0.759988125335172\n",
      "0.7624396690415997\n",
      "0.7648912127480273\n",
      "0.7673427564544549\n",
      "0.7697943001608826\n",
      "0.7722458438673102\n",
      "0.7746973875737379\n",
      "0.7771489312801655\n",
      "0.7796004749865931\n",
      "0.7820520186930208\n",
      "0.7845035623994484\n",
      "0.786955106105876\n",
      "0.7894066498123037\n",
      "0.7918581935187313\n",
      "0.794309737225159\n",
      "0.7967612809315866\n",
      "0.7992128246380142\n",
      "0.8016643683444419\n",
      "0.8041159120508695\n",
      "0.8065674557572972\n",
      "0.8090189994637248\n",
      "0.8114705431701524\n",
      "0.8139220868765801\n",
      "0.8163736305830077\n",
      "0.8188251742894354\n",
      "0.821276717995863\n",
      "0.8237282617022906\n",
      "0.8261798054087183\n",
      "0.8286313491151459\n",
      "0.8310828928215735\n",
      "0.8335344365280012\n",
      "0.8359859802344288\n",
      "0.8384375239408565\n",
      "0.8408890676472841\n",
      "0.8433406113537117\n",
      "0.8457921550601394\n",
      "0.848243698766567\n",
      "0.8506952424729947\n",
      "0.8531467861794223\n",
      "0.85559832988585\n",
      "0.8580498735922777\n",
      "0.8605014172987053\n",
      "0.862952961005133\n",
      "0.8654045047115606\n",
      "0.8678560484179882\n",
      "0.8703075921244159\n",
      "0.8727591358308435\n",
      "0.8752106795372712\n",
      "0.8776622232436988\n",
      "0.8801137669501264\n",
      "0.8825653106565541\n",
      "0.8850168543629817\n",
      "0.8874683980694094\n",
      "0.889919941775837\n",
      "0.8923714854822646\n",
      "0.8948230291886923\n",
      "0.8972745728951199\n",
      "0.8997261166015476\n",
      "0.9021776603079752\n"
     ]
    }
   ],
   "source": [
    "read_raster(256,256,Grid_Name,data)"
   ]
  },
  {
   "cell_type": "code",
   "execution_count": 65,
   "metadata": {
    "collapsed": false
   },
   "outputs": [],
   "source": [
    "x = np.zeros(shape=(10,10))\n",
    "y = np.zeros(shape=(100))\n",
    "x[0:10,0:10] = y.reshape(10,10)"
   ]
  },
  {
   "cell_type": "code",
   "execution_count": null,
   "metadata": {
    "collapsed": false
   },
   "outputs": [],
   "source": [
    "##dtFZS(r.RasterYSize,r.RasterXSize,data,band)\n"
   ]
  },
  {
   "cell_type": "code",
   "execution_count": 6,
   "metadata": {
    "collapsed": true
   },
   "outputs": [],
   "source": [
    "class dtFZS:\n",
    "    def __init__(self, img, memory_map_Name):\n",
    "\n",
    "        self.r    = gdal.Open(img)\n",
    "        self.band = self.r.GetRasterBand(1)\n",
    "        ##self.g = np.array(self.r.GetRasterBand(1).ReadAsArray())\n",
    "        \n",
    "        self.clSze = self.r.GetGeoTransform()[1]\n",
    "        self.ulX = self.r.GetGeoTransform()[0]\n",
    "        self.ulY = self.r.GetGeoTransform()[3]\n",
    "        \n",
    "        self.RasterXSize = self.r.RasterXSize\n",
    "        \n",
    "        self.RasterYSize = self.r.RasterYSize\n",
    "        \n",
    "        self.brX = (self.r.RasterXSize * self.clSze) + self.ulX\n",
    "        self.brY = self.ulY - (self.r.RasterYSize * self.clSze)   \n",
    "        \n",
    "        self.geo = self.r.GetGeoTransform()\n",
    "        \n",
    "        def dtFZS(ybnd,xbnd,out,band):\n",
    "            for yw in range(0,ybnd+1):\n",
    "                for xw in range(0,xbnd+1):\n",
    "                    out[yw,xw] = out[yw-1,xw] + float(band.ReadAsArray(xw,yw,1,1))\n",
    "\n",
    "        self.data = np.memmap(memory_map_Name, dtype='float32', mode='w+', shape=(self.RasterYSize,self.RasterXSize))\n",
    "        \n",
    "        dtFZS(self.RasterYSize,self.RasterXSize,self.data,self.band)\n",
    "        \n"
   ]
  },
  {
   "cell_type": "code",
   "execution_count": 7,
   "metadata": {
    "collapsed": false
   },
   "outputs": [
    {
     "ename": "TypeError",
     "evalue": "float() argument must be a string or a number, not 'NoneType'",
     "output_type": "error",
     "traceback": [
      "\u001b[0;31m---------------------------------------------------------------------------\u001b[0m",
      "\u001b[0;31mTypeError\u001b[0m                                 Traceback (most recent call last)",
      "\u001b[0;32m<ipython-input-7-8670fdc7d190>\u001b[0m in \u001b[0;36m<module>\u001b[0;34m()\u001b[0m\n\u001b[1;32m      1\u001b[0m \u001b[1;31m## Create Class for this grid\u001b[0m\u001b[1;33m\u001b[0m\u001b[1;33m\u001b[0m\u001b[0m\n\u001b[1;32m      2\u001b[0m \u001b[1;31m##dFZS = dtFZS(Grid_Name)\u001b[0m\u001b[1;33m\u001b[0m\u001b[1;33m\u001b[0m\u001b[0m\n\u001b[0;32m----> 3\u001b[0;31m \u001b[0mdFZS\u001b[0m \u001b[1;33m=\u001b[0m \u001b[0mdtFZS\u001b[0m\u001b[1;33m(\u001b[0m\u001b[0mGrid_Name\u001b[0m\u001b[1;33m,\u001b[0m\u001b[0mmemory_map_Name\u001b[0m\u001b[1;33m)\u001b[0m\u001b[1;33m\u001b[0m\u001b[0m\n\u001b[0m",
      "\u001b[0;32m<ipython-input-6-db3d1df6e7de>\u001b[0m in \u001b[0;36m__init__\u001b[0;34m(self, img, memory_map_Name)\u001b[0m\n\u001b[1;32m     26\u001b[0m         \u001b[0mself\u001b[0m\u001b[1;33m.\u001b[0m\u001b[0mdata\u001b[0m \u001b[1;33m=\u001b[0m \u001b[0mnp\u001b[0m\u001b[1;33m.\u001b[0m\u001b[0mmemmap\u001b[0m\u001b[1;33m(\u001b[0m\u001b[0mmemory_map_Name\u001b[0m\u001b[1;33m,\u001b[0m \u001b[0mdtype\u001b[0m\u001b[1;33m=\u001b[0m\u001b[1;34m'float32'\u001b[0m\u001b[1;33m,\u001b[0m \u001b[0mmode\u001b[0m\u001b[1;33m=\u001b[0m\u001b[1;34m'w+'\u001b[0m\u001b[1;33m,\u001b[0m \u001b[0mshape\u001b[0m\u001b[1;33m=\u001b[0m\u001b[1;33m(\u001b[0m\u001b[0mself\u001b[0m\u001b[1;33m.\u001b[0m\u001b[0mRasterYSize\u001b[0m\u001b[1;33m,\u001b[0m\u001b[0mself\u001b[0m\u001b[1;33m.\u001b[0m\u001b[0mRasterXSize\u001b[0m\u001b[1;33m)\u001b[0m\u001b[1;33m)\u001b[0m\u001b[1;33m\u001b[0m\u001b[0m\n\u001b[1;32m     27\u001b[0m \u001b[1;33m\u001b[0m\u001b[0m\n\u001b[0;32m---> 28\u001b[0;31m         \u001b[0mdtFZS\u001b[0m\u001b[1;33m(\u001b[0m\u001b[0mself\u001b[0m\u001b[1;33m.\u001b[0m\u001b[0mRasterYSize\u001b[0m\u001b[1;33m,\u001b[0m\u001b[0mself\u001b[0m\u001b[1;33m.\u001b[0m\u001b[0mRasterXSize\u001b[0m\u001b[1;33m,\u001b[0m\u001b[0mself\u001b[0m\u001b[1;33m.\u001b[0m\u001b[0mdata\u001b[0m\u001b[1;33m,\u001b[0m\u001b[0mself\u001b[0m\u001b[1;33m.\u001b[0m\u001b[0mband\u001b[0m\u001b[1;33m)\u001b[0m\u001b[1;33m\u001b[0m\u001b[0m\n\u001b[0m\u001b[1;32m     29\u001b[0m \u001b[1;33m\u001b[0m\u001b[0m\n",
      "\u001b[0;32m<ipython-input-6-db3d1df6e7de>\u001b[0m in \u001b[0;36mdtFZS\u001b[0;34m(ybnd, xbnd, out, band)\u001b[0m\n\u001b[1;32m     22\u001b[0m             \u001b[1;32mfor\u001b[0m \u001b[0myw\u001b[0m \u001b[1;32min\u001b[0m \u001b[0mrange\u001b[0m\u001b[1;33m(\u001b[0m\u001b[1;36m0\u001b[0m\u001b[1;33m,\u001b[0m\u001b[0mybnd\u001b[0m\u001b[1;33m+\u001b[0m\u001b[1;36m1\u001b[0m\u001b[1;33m)\u001b[0m\u001b[1;33m:\u001b[0m\u001b[1;33m\u001b[0m\u001b[0m\n\u001b[1;32m     23\u001b[0m                 \u001b[1;32mfor\u001b[0m \u001b[0mxw\u001b[0m \u001b[1;32min\u001b[0m \u001b[0mrange\u001b[0m\u001b[1;33m(\u001b[0m\u001b[1;36m0\u001b[0m\u001b[1;33m,\u001b[0m\u001b[0mxbnd\u001b[0m\u001b[1;33m+\u001b[0m\u001b[1;36m1\u001b[0m\u001b[1;33m)\u001b[0m\u001b[1;33m:\u001b[0m\u001b[1;33m\u001b[0m\u001b[0m\n\u001b[0;32m---> 24\u001b[0;31m                     \u001b[0mout\u001b[0m\u001b[1;33m[\u001b[0m\u001b[0myw\u001b[0m\u001b[1;33m,\u001b[0m\u001b[0mxw\u001b[0m\u001b[1;33m]\u001b[0m \u001b[1;33m=\u001b[0m \u001b[0mout\u001b[0m\u001b[1;33m[\u001b[0m\u001b[0myw\u001b[0m\u001b[1;33m-\u001b[0m\u001b[1;36m1\u001b[0m\u001b[1;33m,\u001b[0m\u001b[0mxw\u001b[0m\u001b[1;33m]\u001b[0m \u001b[1;33m+\u001b[0m \u001b[0mfloat\u001b[0m\u001b[1;33m(\u001b[0m\u001b[0mband\u001b[0m\u001b[1;33m.\u001b[0m\u001b[0mReadAsArray\u001b[0m\u001b[1;33m(\u001b[0m\u001b[0myw\u001b[0m\u001b[1;33m,\u001b[0m\u001b[0mxw\u001b[0m\u001b[1;33m,\u001b[0m\u001b[1;36m1\u001b[0m\u001b[1;33m,\u001b[0m\u001b[1;36m1\u001b[0m\u001b[1;33m)\u001b[0m\u001b[1;33m)\u001b[0m\u001b[1;33m\u001b[0m\u001b[0m\n\u001b[0m\u001b[1;32m     25\u001b[0m \u001b[1;33m\u001b[0m\u001b[0m\n\u001b[1;32m     26\u001b[0m         \u001b[0mself\u001b[0m\u001b[1;33m.\u001b[0m\u001b[0mdata\u001b[0m \u001b[1;33m=\u001b[0m \u001b[0mnp\u001b[0m\u001b[1;33m.\u001b[0m\u001b[0mmemmap\u001b[0m\u001b[1;33m(\u001b[0m\u001b[0mmemory_map_Name\u001b[0m\u001b[1;33m,\u001b[0m \u001b[0mdtype\u001b[0m\u001b[1;33m=\u001b[0m\u001b[1;34m'float32'\u001b[0m\u001b[1;33m,\u001b[0m \u001b[0mmode\u001b[0m\u001b[1;33m=\u001b[0m\u001b[1;34m'w+'\u001b[0m\u001b[1;33m,\u001b[0m \u001b[0mshape\u001b[0m\u001b[1;33m=\u001b[0m\u001b[1;33m(\u001b[0m\u001b[0mself\u001b[0m\u001b[1;33m.\u001b[0m\u001b[0mRasterYSize\u001b[0m\u001b[1;33m,\u001b[0m\u001b[0mself\u001b[0m\u001b[1;33m.\u001b[0m\u001b[0mRasterXSize\u001b[0m\u001b[1;33m)\u001b[0m\u001b[1;33m)\u001b[0m\u001b[1;33m\u001b[0m\u001b[0m\n",
      "\u001b[0;31mTypeError\u001b[0m: float() argument must be a string or a number, not 'NoneType'"
     ]
    }
   ],
   "source": [
    "## Create Class for this grid\n",
    "##dFZS = dtFZS(Grid_Name)\n",
    "dFZS = dtFZS(Grid_Name,memory_map_Name)"
   ]
  },
  {
   "cell_type": "markdown",
   "metadata": {},
   "source": [
    "Create Helper Functions to move between world and grid cordinates"
   ]
  },
  {
   "cell_type": "code",
   "execution_count": 36,
   "metadata": {
    "collapsed": true
   },
   "outputs": [],
   "source": [
    "## Input (world cords; x1, x2, Grid Upper Left, and Cellsize)\n",
    "## Returns (grid cords; list(x))\n",
    "## x1 and x2 represent vertexes on a polygon in order\n",
    "\n",
    "def x_world_to_grid(wx1,wx2,dtFZS):\n",
    "    \n",
    "    x1a = min(wx1,wx2)\n",
    "    x2a = max(wx1,wx2)\n",
    "    \n",
    "    xstart = ceil  ((x1a - dtFZS.ulX - (dtFZS.clSze/2)) / dtFZS.clSze)\n",
    "    xstop =  floor ((x2a - dtFZS.ulX - (dtFZS.clSze/2)) / dtFZS.clSze)\n",
    "\n",
    "    return(list(range(xstart,xstop+1)))"
   ]
  },
  {
   "cell_type": "code",
   "execution_count": 37,
   "metadata": {
    "collapsed": true
   },
   "outputs": [],
   "source": [
    "## Input (grid cords; list(x))\n",
    "## Returns(world cords centroid ;(list(X)))\n",
    "\n",
    "def x_grid_to_world(gx,dtFZS):\n",
    "    return [i * dtFZS.clSze + dtFZS.ulX + (dtFZS.clSze/2) for i in gx]"
   ]
  },
  {
   "cell_type": "code",
   "execution_count": 38,
   "metadata": {
    "collapsed": true
   },
   "outputs": [],
   "source": [
    "## Input(world cords centroid ;(list(X)))\n",
    "## Returns(world cords centroid ;(list(y)))\n",
    "\n",
    "def y_world_pred(wx1,wx2,wy1,wy2,wxpred):\n",
    "    slope = 0;\n",
    "    if (wx1 > wx2):\n",
    "        wx1,wx2,wy1,wy2 = wx2,wx1,wy2,wy1\n",
    "    if(wx1 != wx2):    \n",
    "        slope = (wy2-wy1)/(wx2-wx1)\n",
    "\n",
    "    return [(slope * (i-wx1)) + wy1 for i in wxpred]"
   ]
  },
  {
   "cell_type": "code",
   "execution_count": 39,
   "metadata": {
    "collapsed": true
   },
   "outputs": [],
   "source": [
    "## Input(world cords centroid ;(list(y)))\n",
    "## Returns (grid cords; list(y))\n",
    "\n",
    "def y_world_to_grid(wypred,dtFZS):\n",
    "        return [floor((dtFZS.ulY - i - (dtFZS.clSze/2)) / dtFZS.clSze ) for i in wypred] "
   ]
  },
  {
   "cell_type": "code",
   "execution_count": 40,
   "metadata": {
    "collapsed": true
   },
   "outputs": [],
   "source": [
    "## Input(world Cords for 2 vertexes on a polygon, TL corner of grid, and cellsize)\n",
    "## Returns(y,x grid cords)\n",
    "\n",
    "def xy_grid(wx1,wx2,wy1,wy2,dtFZS):\n",
    "    xgrid  = x_world_to_grid(wx1,wx2,dtFZS)\n",
    "    wxpred = x_grid_to_world(xgrid,dtFZS)  \n",
    "    wypred = y_world_pred(wx1,wx2,wy1,wy2,wxpred)\n",
    "    ygrid  = y_world_to_grid(wypred,dtFZS)\n",
    "    \n",
    "    ## Remove negative arrays above\n",
    "    idx = np.array([True if i >= 0 else False for i in ygrid],dtype=bool)\n",
    "    \n",
    "    xgrid = np.array(xgrid)[idx]\n",
    "    ygrid = np.array(ygrid)[idx]\n",
    "    \n",
    "    cords = ((ygrid,xgrid))\n",
    "    return cords"
   ]
  },
  {
   "cell_type": "code",
   "execution_count": 41,
   "metadata": {
    "collapsed": true
   },
   "outputs": [],
   "source": [
    "## Input(list of cords in world, summed down grid, real-world grid tl, cllSze)\n",
    "## Output Sum v in polygon\n",
    "\n",
    "def FstZS(geom,DS_FstZS):\n",
    "    v = geom.exterior.coords  #have not tested\n",
    "    total = 0;    \n",
    "    for p in range(1,(len(v)+0)):\n",
    "        if v[p][0] > v[p-1][0]:\n",
    "            cords = xy_grid(v[p][0],v[p-1][0],v[p][1],v[p-1][1],DS_FstZS)\n",
    "            total += np.sum(DS_FstZS.data[cords])\n",
    "        elif v[p][0] < v[p-1][0]: \n",
    "            cords = xy_grid(v[p][0],v[p-1][0],v[p][1],v[p-1][1],DS_FstZS)\n",
    "            total -= np.sum(DS_FstZS.data[cords])\n",
    "    return int(total)"
   ]
  },
  {
   "cell_type": "code",
   "execution_count": 42,
   "metadata": {
    "collapsed": true
   },
   "outputs": [],
   "source": [
    "def test(geom):\n",
    "    \n",
    "    FstZSout = FstZS(geom, dFZS)\n",
    "    Rastsout = zonal_stats(geom, Grid_Name,stats= \"sum\")\n",
    "    \n",
    "    return (float(FstZSout) , float(Rastsout[0]['sum']) )"
   ]
  },
  {
   "cell_type": "code",
   "execution_count": 43,
   "metadata": {
    "collapsed": false
   },
   "outputs": [
    {
     "ename": "NameError",
     "evalue": "name 'dFZS' is not defined",
     "output_type": "error",
     "traceback": [
      "\u001b[1;31m---------------------------------------------------------------------------\u001b[0m",
      "\u001b[1;31mNameError\u001b[0m                                 Traceback (most recent call last)",
      "\u001b[1;32m<ipython-input-43-f6b0ca2c0a85>\u001b[0m in \u001b[0;36m<module>\u001b[1;34m()\u001b[0m\n\u001b[0;32m      8\u001b[0m \u001b[1;32mfor\u001b[0m \u001b[0mfeature\u001b[0m \u001b[1;32min\u001b[0m \u001b[0mlayer\u001b[0m\u001b[1;33m:\u001b[0m\u001b[1;33m\u001b[0m\u001b[0m\n\u001b[0;32m      9\u001b[0m     \u001b[0mgeom\u001b[0m \u001b[1;33m=\u001b[0m \u001b[0mfeature\u001b[0m\u001b[1;33m.\u001b[0m\u001b[0mGetGeometryRef\u001b[0m\u001b[1;33m(\u001b[0m\u001b[1;33m)\u001b[0m\u001b[1;33m\u001b[0m\u001b[0m\n\u001b[1;32m---> 10\u001b[1;33m     \u001b[0mtest\u001b[0m\u001b[1;33m(\u001b[0m\u001b[0mgeom\u001b[0m\u001b[1;33m)\u001b[0m\u001b[1;33m\u001b[0m\u001b[0m\n\u001b[0m",
      "\u001b[1;32m<ipython-input-42-9c786fb06b8a>\u001b[0m in \u001b[0;36mtest\u001b[1;34m(geom)\u001b[0m\n\u001b[0;32m      1\u001b[0m \u001b[1;32mdef\u001b[0m \u001b[0mtest\u001b[0m\u001b[1;33m(\u001b[0m\u001b[0mgeom\u001b[0m\u001b[1;33m)\u001b[0m\u001b[1;33m:\u001b[0m\u001b[1;33m\u001b[0m\u001b[0m\n\u001b[0;32m      2\u001b[0m \u001b[1;33m\u001b[0m\u001b[0m\n\u001b[1;32m----> 3\u001b[1;33m     \u001b[0mFstZSout\u001b[0m \u001b[1;33m=\u001b[0m \u001b[0mFstZS\u001b[0m\u001b[1;33m(\u001b[0m\u001b[0mgeom\u001b[0m\u001b[1;33m,\u001b[0m \u001b[0mdFZS\u001b[0m\u001b[1;33m)\u001b[0m\u001b[1;33m\u001b[0m\u001b[0m\n\u001b[0m\u001b[0;32m      4\u001b[0m     \u001b[0mRastsout\u001b[0m \u001b[1;33m=\u001b[0m \u001b[0mzonal_stats\u001b[0m\u001b[1;33m(\u001b[0m\u001b[0mgeom\u001b[0m\u001b[1;33m,\u001b[0m \u001b[0mGrid_Name\u001b[0m\u001b[1;33m,\u001b[0m\u001b[0mstats\u001b[0m\u001b[1;33m=\u001b[0m \u001b[1;34m\"sum\"\u001b[0m\u001b[1;33m)\u001b[0m\u001b[1;33m\u001b[0m\u001b[0m\n\u001b[0;32m      5\u001b[0m \u001b[1;33m\u001b[0m\u001b[0m\n",
      "\u001b[1;31mNameError\u001b[0m: name 'dFZS' is not defined"
     ]
    }
   ],
   "source": [
    "## Input(albers conical equal area shapefile input of polygon test features)\n",
    "## Output polygon geometry for each feature in input shapefile\n",
    "\n",
    "driver = ogr.GetDriverByName(\"ESRI Shapefile\")\n",
    "dataSource = driver.Open(Shapefile_Name, 0)\n",
    "layer = dataSource.GetLayer()\n",
    "\n",
    "for feature in layer:\n",
    "    geom = feature.GetGeometryRef()\n",
    "    test(geom)"
   ]
  },
  {
   "cell_type": "code",
   "execution_count": 44,
   "metadata": {
    "collapsed": false
   },
   "outputs": [
    {
     "ename": "NameError",
     "evalue": "name 'tst' is not defined",
     "output_type": "error",
     "traceback": [
      "\u001b[1;31m---------------------------------------------------------------------------\u001b[0m",
      "\u001b[1;31mNameError\u001b[0m                                 Traceback (most recent call last)",
      "\u001b[1;32m<ipython-input-44-7b1670ce5d3e>\u001b[0m in \u001b[0;36m<module>\u001b[1;34m()\u001b[0m\n\u001b[0;32m      1\u001b[0m \u001b[1;31m#print(tst)\u001b[0m\u001b[1;33m\u001b[0m\u001b[1;33m\u001b[0m\u001b[0m\n\u001b[1;32m----> 2\u001b[1;33m \u001b[0mplt\u001b[0m\u001b[1;33m.\u001b[0m\u001b[0mscatter\u001b[0m\u001b[1;33m(\u001b[0m\u001b[0my\u001b[0m\u001b[1;33m=\u001b[0m\u001b[1;33m[\u001b[0m\u001b[0mt\u001b[0m\u001b[1;33m[\u001b[0m\u001b[1;36m1\u001b[0m\u001b[1;33m]\u001b[0m \u001b[1;32mfor\u001b[0m \u001b[0mt\u001b[0m \u001b[1;32min\u001b[0m \u001b[0mtst\u001b[0m\u001b[1;33m]\u001b[0m\u001b[1;33m,\u001b[0m\u001b[0mx\u001b[0m\u001b[1;33m=\u001b[0m \u001b[1;33m[\u001b[0m\u001b[0mt\u001b[0m\u001b[1;33m[\u001b[0m\u001b[1;36m0\u001b[0m\u001b[1;33m]\u001b[0m \u001b[1;32mfor\u001b[0m \u001b[0mt\u001b[0m \u001b[1;32min\u001b[0m \u001b[0mtst\u001b[0m\u001b[1;33m]\u001b[0m\u001b[1;33m)\u001b[0m\u001b[1;33m\u001b[0m\u001b[0m\n\u001b[0m\u001b[0;32m      3\u001b[0m \u001b[0mplt\u001b[0m\u001b[1;33m.\u001b[0m\u001b[0mxlabel\u001b[0m\u001b[1;33m(\u001b[0m\u001b[1;34m\"Fast Zonal Method\"\u001b[0m\u001b[1;33m)\u001b[0m\u001b[1;33m\u001b[0m\u001b[0m\n\u001b[0;32m      4\u001b[0m \u001b[0mplt\u001b[0m\u001b[1;33m.\u001b[0m\u001b[0mylabel\u001b[0m\u001b[1;33m(\u001b[0m\u001b[1;34m\"Raster Stats\"\u001b[0m\u001b[1;33m)\u001b[0m\u001b[1;33m\u001b[0m\u001b[0m\n\u001b[0;32m      5\u001b[0m \u001b[0mplt\u001b[0m\u001b[1;33m.\u001b[0m\u001b[0mshow\u001b[0m\u001b[1;33m(\u001b[0m\u001b[1;33m)\u001b[0m\u001b[1;33m\u001b[0m\u001b[0m\n",
      "\u001b[1;31mNameError\u001b[0m: name 'tst' is not defined"
     ]
    }
   ],
   "source": [
    "#print(tst)\n",
    "plt.scatter(y=[t[1] for t in tst],x= [t[0] for t in tst])\n",
    "plt.xlabel(\"Fast Zonal Method\")\n",
    "plt.ylabel(\"Raster Stats\")              \n",
    "plt.show()   "
   ]
  },
  {
   "cell_type": "code",
   "execution_count": null,
   "metadata": {
    "collapsed": true
   },
   "outputs": [],
   "source": []
  },
  {
   "cell_type": "code",
   "execution_count": null,
   "metadata": {
    "collapsed": true
   },
   "outputs": [],
   "source": []
  },
  {
   "cell_type": "code",
   "execution_count": null,
   "metadata": {
    "collapsed": true
   },
   "outputs": [],
   "source": []
  }
 ],
 "metadata": {
  "anaconda-cloud": {},
  "celltoolbar": "Raw Cell Format",
  "kernelspec": {
   "display_name": "Python 3",
   "language": "python",
   "name": "python3"
  },
  "language_info": {
   "codemirror_mode": {
    "name": "ipython",
    "version": 3
   },
   "file_extension": ".py",
   "mimetype": "text/x-python",
   "name": "python",
   "nbconvert_exporter": "python",
   "pygments_lexer": "ipython3",
   "version": "3.6.0"
  }
 },
 "nbformat": 4,
 "nbformat_minor": 1
}
